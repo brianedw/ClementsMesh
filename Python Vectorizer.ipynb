{
 "cells": [
  {
   "cell_type": "markdown",
   "metadata": {
    "tags": [],
    "toc-hr-collapsed": true
   },
   "source": [
    "# Setup"
   ]
  },
  {
   "cell_type": "markdown",
   "metadata": {
    "heading_collapsed": "true",
    "tags": []
   },
   "source": [
    "## Stock Imports"
   ]
  },
  {
   "cell_type": "markdown",
   "metadata": {
    "tags": []
   },
   "source": [
    "### IDE Stuff"
   ]
  },
  {
   "cell_type": "markdown",
   "metadata": {
    "heading_collapsed": "true",
    "tags": []
   },
   "source": [
    "#### Installing New Packages"
   ]
  },
  {
   "cell_type": "code",
   "execution_count": null,
   "metadata": {},
   "outputs": [],
   "source": [
    "# Jupyter Plugins that make things much nicer:\n",
    "# * Collapsible_Headings\n",
    "# * hide_code\n",
    "# * jupyterlab-code-cell-collapser\n",
    "# * jupyterlab_templates"
   ]
  },
  {
   "cell_type": "markdown",
   "metadata": {},
   "source": [
    "Depending on how many installations of Python you have on your system, doing a simple `conda install` or `pip install` will put the module in the wrong installation.  This makes sure it lands in the installation corresponding to the current notebook."
   ]
  },
  {
   "cell_type": "code",
   "execution_count": null,
   "metadata": {},
   "outputs": [],
   "source": [
    "# Code for installing packages\n",
    "# !conda install --yes --prefix {sys.prefix} ezdxf\n",
    "# !{sys.executable} -m pip install MPh"
   ]
  },
  {
   "cell_type": "markdown",
   "metadata": {
    "heading_collapsed": "true",
    "tags": []
   },
   "source": [
    "#### Notebook Customization"
   ]
  },
  {
   "cell_type": "markdown",
   "metadata": {},
   "source": [
    "This will change the fonts.  I find the rendered mardown heading fonts (H1, H2, H3, etc) to be too similar.  This will alternate between italicized and normal fonts for headings.  Additionally, it adds a small indent that grows with heading level.  H1 is centered."
   ]
  },
  {
   "cell_type": "code",
   "execution_count": null,
   "metadata": {},
   "outputs": [],
   "source": [
    "import IPython"
   ]
  },
  {
   "cell_type": "code",
   "execution_count": null,
   "metadata": {},
   "outputs": [],
   "source": [
    "css_str = \"\"\"\n",
    "<link rel=\"preconnect\" href=\"https://fonts.gstatic.com\">\n",
    "\n",
    "<link href=\"https://fonts.googleapis.com/css2?family=Cormorant+Garamond:wght@300;400;600&family=Playfair+Display+SC&display=swap\" rel=\"stylesheet\">\n",
    "<link rel=\"stylesheet\" href=\"https://fonts.googleapis.com/css?family=Lora\">\n",
    "<link href=\"https://fonts.googleapis.com/css2?family=IM+Fell+Double+Pica:ital@1&display=swap\" rel=\"stylesheet\">\n",
    "    <style>\n",
    "h1 { color: #7c795d; font-family: 'Playfair Display SC', serif; text-indent: 00px; text-align: center;}\n",
    "h2 { color: #7c795d; font-family: 'Lora', serif;                text-indent: 00px; text-align: left; }\n",
    "h3 { color: #7c795d; font-family: 'IM Fell Double Pica', serif; text-indent: 15px; text-align: left; }\n",
    "h4 { color: #7c795d; font-family: 'Lora', Arial, serif;         text-indent: 30px; text-align: left}\n",
    "h5 { color: #71a832; font-family: 'IM Fell Double Pica', serif; text-indent: 45px; text-align: left}\n",
    "\n",
    "\"\"\"\n",
    "IPython.display.HTML(css_str)"
   ]
  },
  {
   "cell_type": "markdown",
   "metadata": {},
   "source": [
    "Allows for changes in packages to be detected and immediately incorporated into the present notebook without resetting the kernel."
   ]
  },
  {
   "cell_type": "code",
   "execution_count": null,
   "metadata": {},
   "outputs": [],
   "source": [
    "%load_ext autoreload\n",
    "%autoreload 2"
   ]
  },
  {
   "cell_type": "markdown",
   "metadata": {},
   "source": [
    "By default, Jupyter returns the last expression (and won't return this if it is a statement).  Sometimes we want different behavior that is more similar to Mathematica"
   ]
  },
  {
   "cell_type": "code",
   "execution_count": null,
   "metadata": {},
   "outputs": [],
   "source": [
    "from IPython.core.interactiveshell import InteractiveShell\n",
    "\n",
    "# pretty print only the last output of the cell\n",
    "InteractiveShell.ast_node_interactivity = 'last_expr' # ['all', 'last', 'last_expr', 'none', 'last_expr_or_assign']"
   ]
  },
  {
   "cell_type": "code",
   "execution_count": null,
   "metadata": {},
   "outputs": [],
   "source": [
    "x = 2\n",
    "y = 3"
   ]
  },
  {
   "cell_type": "code",
   "execution_count": null,
   "metadata": {},
   "outputs": [],
   "source": [
    "del x, y"
   ]
  },
  {
   "cell_type": "code",
   "execution_count": null,
   "metadata": {},
   "outputs": [],
   "source": [
    "x = 2"
   ]
  },
  {
   "cell_type": "markdown",
   "metadata": {
    "heading_collapsed": "true",
    "tags": []
   },
   "source": [
    "### Python Libraries"
   ]
  },
  {
   "cell_type": "markdown",
   "metadata": {},
   "source": [
    "Standard Python imports"
   ]
  },
  {
   "cell_type": "code",
   "execution_count": null,
   "metadata": {},
   "outputs": [],
   "source": [
    "import os, sys, time, glob"
   ]
  },
  {
   "cell_type": "markdown",
   "metadata": {},
   "source": [
    "It is a good idea to record the starting working directory before it gets changed around.  Note that this can be problematic depending on how you open the notebook, but it works most of the time."
   ]
  },
  {
   "cell_type": "code",
   "execution_count": null,
   "metadata": {},
   "outputs": [],
   "source": [
    "baseDir = os.getcwd()\n",
    "baseDir"
   ]
  },
  {
   "cell_type": "markdown",
   "metadata": {},
   "source": [
    "It is also nice to know if what is running is a notebook, or a python script generated from the notebook."
   ]
  },
  {
   "cell_type": "code",
   "execution_count": null,
   "metadata": {},
   "outputs": [],
   "source": [
    "mainQ = (__name__ == '__main__')\n",
    "if mainQ:\n",
    "    print(\"This is the main file\")"
   ]
  },
  {
   "cell_type": "markdown",
   "metadata": {},
   "source": [
    "JupyterLab doesn't support navigation to other drives.  This is a handy trick to make folders in other drives \"appear\" as if they're local.  It even works on network shares.  \n",
    "\n",
    "PowerShell Command to Map network drives:\n",
    "```powershell\n",
    "New-Item -ItemType SymbolicLink -Path \"c:\\users\\brianedw\\group_share\" -Target \"\\\\158.130.53.35\\_Group Share\"\n",
    "```\n"
   ]
  },
  {
   "cell_type": "markdown",
   "metadata": {
    "heading_collapsed": "true",
    "tags": []
   },
   "source": [
    "### Notebook Interactivity"
   ]
  },
  {
   "cell_type": "markdown",
   "metadata": {},
   "source": [
    "Adds a nice progress bar for visualizing a loop iterator.  See snippets."
   ]
  },
  {
   "cell_type": "code",
   "execution_count": null,
   "metadata": {},
   "outputs": [],
   "source": [
    "from tqdm import tqdm"
   ]
  },
  {
   "cell_type": "markdown",
   "metadata": {},
   "source": [
    "Useful for monitoring a calculation's progress."
   ]
  },
  {
   "cell_type": "code",
   "execution_count": null,
   "metadata": {},
   "outputs": [],
   "source": [
    "from IPython.display import clear_output"
   ]
  },
  {
   "cell_type": "code",
   "execution_count": null,
   "metadata": {},
   "outputs": [],
   "source": [
    "for i in range(5):\n",
    "    print(i)\n",
    "    time.sleep(0.1)\n",
    "    clear_output(wait=True)"
   ]
  },
  {
   "cell_type": "markdown",
   "metadata": {},
   "source": [
    "A nice sound to play when long calculations are completed."
   ]
  },
  {
   "cell_type": "code",
   "execution_count": null,
   "metadata": {},
   "outputs": [],
   "source": [
    "import winsound\n",
    "\n",
    "def soundDone():\n",
    "    soundfile = \"C:/Windows/Media/ring01.wav\"\n",
    "    winsound.PlaySound(soundfile, winsound.SND_FILENAME | winsound.SND_ASYNC)"
   ]
  },
  {
   "cell_type": "markdown",
   "metadata": {
    "heading_collapsed": "true",
    "tags": []
   },
   "source": [
    "### Functional Programming"
   ]
  },
  {
   "cell_type": "markdown",
   "metadata": {},
   "source": [
    "It is very common in data analysis to run data through a series of transformations, often called a \"pipe\".  The advantage of this is the arguments are contained with the functions and it is more readable (once you get used to it!).  For instance, in `Mathematica`, \n",
    "\n",
    "`H(#, 4)& @ G(#,3)& @ F(#,2)& @ 1  =>  H(G(F(1,2),3),4).`\n",
    "\n",
    "In the former, it is clear that `3` belongs to `G`.  In the latter, you need to count parenthesis.  This typically makes use of \"lambda functions\" or \"pure functions\".  As a primarily Object Oriented Programming (OOP) language, Python doesn't natively support much of this Functional paradigm.  However, it does treat functions as objects which can be manipulated.  Given the utility of Functional Programming, there are several packages that attempt to bring it into the language, each with varying success."
   ]
  },
  {
   "cell_type": "code",
   "execution_count": null,
   "metadata": {},
   "outputs": [],
   "source": [
    "# from pipetools import where, X, pipe\n",
    "# 10 > (pipe | range | where(X % 2) | sum)"
   ]
  },
  {
   "cell_type": "code",
   "execution_count": null,
   "metadata": {},
   "outputs": [],
   "source": [
    "# from pipey import Pipeable\n",
    "\n",
    "# Print = Pipeable(print)\n",
    "# @Pipeable\n",
    "# def add(a,b): return a + b\n",
    "# @Pipeable\n",
    "# def sqr(b): return b*b\n",
    "\n",
    "# np.array([3, 4]) >> sqr >> add(1000)"
   ]
  },
  {
   "cell_type": "markdown",
   "metadata": {},
   "source": [
    "The `toolz` library has a lot of great functions for performing common operations on iterables, functions, and dictionaries."
   ]
  },
  {
   "cell_type": "code",
   "execution_count": null,
   "metadata": {},
   "outputs": [],
   "source": [
    "# from toolz.itertoolz import ()\n",
    "from toolz.functoolz import (curry, pipe, thread_first)\n",
    "# from toolz.dicttoolz import ()"
   ]
  },
  {
   "cell_type": "code",
   "execution_count": null,
   "metadata": {},
   "outputs": [],
   "source": [
    "@curry\n",
    "def add(x, y): return x + y\n",
    "@curry\n",
    "def pow(x, y): return x**y\n",
    "thread_first(1, add(y=4), pow(y=2))  # pow(add(1, 4), 2)"
   ]
  },
  {
   "cell_type": "code",
   "execution_count": null,
   "metadata": {},
   "outputs": [],
   "source": [
    "from mini_lambda import InputVar, as_function\n",
    "_ = as_function\n",
    "X = InputVar('X')"
   ]
  },
  {
   "cell_type": "code",
   "execution_count": null,
   "metadata": {},
   "outputs": [],
   "source": [
    "_(X+3)(10)"
   ]
  },
  {
   "cell_type": "code",
   "execution_count": null,
   "metadata": {},
   "outputs": [],
   "source": [
    "thread_first(1, add(y=4), _(pow(x=2, y=X)))  # pow(2, add(1, 4))"
   ]
  },
  {
   "cell_type": "code",
   "execution_count": null,
   "metadata": {},
   "outputs": [],
   "source": [
    "thread_first(1, _(X+4), _(2**X))  # pow(add(1, 4), 2)"
   ]
  },
  {
   "cell_type": "markdown",
   "metadata": {
    "heading_collapsed": "true",
    "tags": []
   },
   "source": [
    "### Scientific Programming"
   ]
  },
  {
   "cell_type": "code",
   "execution_count": null,
   "metadata": {},
   "outputs": [],
   "source": [
    "from math import *\n",
    "deg = radians(1)    # so that we can refer to 90*deg\n",
    "I = 1j              # potentially neater imaginary nomenclature."
   ]
  },
  {
   "cell_type": "code",
   "execution_count": null,
   "metadata": {},
   "outputs": [],
   "source": [
    "import numpy as np  # Does high performance dense array operations\n",
    "np.set_printoptions(edgeitems=30, linewidth=100000,\n",
    "                    formatter=dict(float=lambda x: \"%.3g\" % x))\n",
    "import scipy as sp\n",
    "import pandas as pd\n",
    "import PIL "
   ]
  },
  {
   "cell_type": "code",
   "execution_count": null,
   "metadata": {},
   "outputs": [],
   "source": [
    "import skimage"
   ]
  },
  {
   "cell_type": "code",
   "execution_count": null,
   "metadata": {},
   "outputs": [],
   "source": [
    "# Python function compilization.  Makes things very fast.  Function must only include Numpy and basic Python.  No custom classes.\n",
    "from numba import njit"
   ]
  },
  {
   "cell_type": "code",
   "execution_count": null,
   "metadata": {},
   "outputs": [],
   "source": [
    "import numba"
   ]
  },
  {
   "cell_type": "code",
   "execution_count": null,
   "metadata": {},
   "outputs": [],
   "source": [
    "import sympy as sp\n",
    "# sp.init_printing(pretty_print=True)\n",
    "# sp.init_printing(pretty_print=False)"
   ]
  },
  {
   "cell_type": "markdown",
   "metadata": {
    "heading_collapsed": "true",
    "tags": []
   },
   "source": [
    "### Plotting"
   ]
  },
  {
   "cell_type": "code",
   "execution_count": null,
   "metadata": {},
   "outputs": [],
   "source": [
    "import bokeh\n",
    "from bokeh.io import output_notebook\n",
    "from bokeh.plotting import figure, show\n",
    "output_notebook()\n",
    "bokeh.io.curdoc().theme = 'dark_minimal'"
   ]
  },
  {
   "cell_type": "markdown",
   "metadata": {
    "heading_collapsed": "true",
    "tags": []
   },
   "source": [
    "## Custom Imports"
   ]
  },
  {
   "cell_type": "code",
   "execution_count": null,
   "metadata": {},
   "outputs": [],
   "source": [
    "from UtilityMath import (plotComplexArray, \n",
    "                         RandomComplexCircularMatrix, RandomComplexGaussianMatrix,\n",
    "                         PolarPlot,\n",
    "                         RescaleToUnitary,\n",
    "                         ReIm,\n",
    "                         MatrixSqError, MatrixError, MatrixErrorNormalized)\n",
    "from Logger import Logger"
   ]
  },
  {
   "cell_type": "markdown",
   "metadata": {
    "tags": [],
    "toc-hr-collapsed": true
   },
   "source": [
    "## Code Snippets"
   ]
  },
  {
   "cell_type": "markdown",
   "metadata": {
    "heading_collapsed": "true",
    "tags": []
   },
   "source": [
    "### Cell Updating"
   ]
  },
  {
   "cell_type": "code",
   "execution_count": null,
   "metadata": {},
   "outputs": [],
   "source": [
    "if mainQ and False:\n",
    "    for f in range(10):\n",
    "        clear_output(wait=True)\n",
    "        print(f)\n",
    "        time.sleep(0.5)"
   ]
  },
  {
   "cell_type": "code",
   "execution_count": null,
   "metadata": {},
   "outputs": [],
   "source": [
    "if mainQ and False:\n",
    "    for i in tqdm(range(100000000)):\n",
    "        pass"
   ]
  },
  {
   "cell_type": "markdown",
   "metadata": {
    "heading_collapsed": "true",
    "tags": []
   },
   "source": [
    "### Bokeh Simple Line Plot"
   ]
  },
  {
   "cell_type": "code",
   "execution_count": null,
   "metadata": {},
   "outputs": [],
   "source": [
    "ts = np.linspace(0, 4, num=300)"
   ]
  },
  {
   "cell_type": "code",
   "execution_count": null,
   "metadata": {},
   "outputs": [],
   "source": [
    "xs = 5.0 * ts"
   ]
  },
  {
   "cell_type": "code",
   "execution_count": null,
   "metadata": {},
   "outputs": [],
   "source": [
    "ys = -9.8*ts**2 + 50*ts + 0"
   ]
  },
  {
   "cell_type": "code",
   "execution_count": null,
   "metadata": {},
   "outputs": [],
   "source": [
    "fig = figure(x_range=(min(xs), max(xs)), y_range=(min(ys), max(ys)), \n",
    "             plot_width=800, plot_height=400,\n",
    "             title='Trajectory')\n",
    "fig.xaxis.axis_label = \"x (m)\"\n",
    "fig.yaxis.axis_label = \"y (m)\"\n",
    "fig.line(x=xs, y=ys)\n",
    "if mainQ: show(fig)"
   ]
  },
  {
   "cell_type": "code",
   "execution_count": null,
   "metadata": {},
   "outputs": [],
   "source": [
    "del ts, xs, ys, fig"
   ]
  },
  {
   "cell_type": "markdown",
   "metadata": {
    "tags": []
   },
   "source": [
    "# Work"
   ]
  },
  {
   "cell_type": "markdown",
   "metadata": {
    "tags": []
   },
   "source": [
    "# Contour Plot"
   ]
  },
  {
   "cell_type": "code",
   "execution_count": null,
   "metadata": {},
   "outputs": [],
   "source": [
    "%matplotlib inline\n",
    "import matplotlib.pyplot as plt\n",
    "plt.style.use('seaborn-white')\n",
    "import numpy as np"
   ]
  },
  {
   "cell_type": "code",
   "execution_count": null,
   "metadata": {},
   "outputs": [],
   "source": [
    "def f(x, y):\n",
    "    value = np.sin(x) ** 10 + np.cos(10 + y * x) * np.cos(x)\n",
    "    inCircle = (x-2.5)**2 + (y-2.5)**2 < 5**2\n",
    "    return inCircle*value"
   ]
  },
  {
   "cell_type": "code",
   "execution_count": null,
   "metadata": {},
   "outputs": [],
   "source": [
    "cx = 2.5\n",
    "mx = 5.5\n",
    "cy = 2.5\n",
    "my = 5.5"
   ]
  },
  {
   "cell_type": "code",
   "execution_count": null,
   "metadata": {},
   "outputs": [],
   "source": [
    "x = np.linspace(cx - mx, cx + my, 300)\n",
    "y = np.linspace(cy - my, cy + my, 300)\n",
    "\n",
    "X, Y = np.meshgrid(x, y)\n",
    "Z = f(X, Y)"
   ]
  },
  {
   "cell_type": "code",
   "execution_count": null,
   "metadata": {},
   "outputs": [],
   "source": [
    "plt.imshow(Z, extent=[cx - mx, cx + my, cy - my, cy + my], origin='lower',\n",
    "           cmap='RdGy')"
   ]
  },
  {
   "cell_type": "markdown",
   "metadata": {},
   "source": [
    "Here we find the contours using matplotlib's contourf function."
   ]
  },
  {
   "cell_type": "code",
   "execution_count": null,
   "metadata": {},
   "outputs": [],
   "source": [
    "regions = plt.contourf(X, Y, Z, levels=[0.5, 1000], antialiased=True)"
   ]
  },
  {
   "cell_type": "markdown",
   "metadata": {},
   "source": [
    "The levels argument can be used to define one or more collections of shapes (called `paths`).  For instance `[0.5, 0.75, 1.00]` would define two regions, i.e. `[0.5, 0.75]` and `[0.75, 1.00]`."
   ]
  },
  {
   "cell_type": "code",
   "execution_count": null,
   "metadata": {},
   "outputs": [],
   "source": [
    "pathCollections = regions.collections"
   ]
  },
  {
   "cell_type": "markdown",
   "metadata": {},
   "source": [
    "When we define only two levels, there can be only one path collection.  We select it."
   ]
  },
  {
   "cell_type": "code",
   "execution_count": null,
   "metadata": {},
   "outputs": [],
   "source": [
    "pathCollection = pathCollections[0]"
   ]
  },
  {
   "cell_type": "markdown",
   "metadata": {},
   "source": [
    "The `pathCollection` consists of one or more paths.  A `path` is a collection of polygons in which the first is the outer boundary and the rest are holes.  These are defined as one as a sequence of vertices followed by a sequence of action codes.  These are similar to what one find in an old style plotter."
   ]
  },
  {
   "cell_type": "code",
   "execution_count": null,
   "metadata": {},
   "outputs": [],
   "source": [
    "paths = pathCollection.get_paths()"
   ]
  },
  {
   "cell_type": "markdown",
   "metadata": {},
   "source": [
    "```\n",
    "    # Path codes\n",
    "    STOP = code_type(0)         # 1 vertex\n",
    "    MOVETO = code_type(1)       # 1 vertex\n",
    "    LINETO = code_type(2)       # 1 vertex\n",
    "    CURVE3 = code_type(3)       # 2 vertices\n",
    "    CURVE4 = code_type(4)       # 3 vertices\n",
    "    CLOSEPOLY = code_type(79)   # 1 vertex\n",
    "\n",
    "    #: A dictionary mapping Path codes to the number of vertices that the\n",
    "    #: code expects.\n",
    "    NUM_VERTICES_FOR_CODE = {STOP: 1,\n",
    "                             MOVETO: 1,\n",
    "                             LINETO: 1,\n",
    "                             CURVE3: 2,\n",
    "                             CURVE4: 3,\n",
    "                             CLOSEPOLY: 1}\n",
    "```"
   ]
  },
  {
   "cell_type": "code",
   "execution_count": null,
   "metadata": {},
   "outputs": [],
   "source": [
    "def convertPathToPolygons(path):\n",
    "    \"\"\" Converts a matplotlib `path` into a list of polygons.  The first is assumed\n",
    "    to be outermost while the subsequent ones are cut holes.\n",
    "\n",
    "    The function maintains a running list of polygons.  Each vertex, code pair\n",
    "    is iterated through.  A new polygon is begun on a \"MOVETO\" command, appended\n",
    "    to on a \"LINETO\" command, and closed with a \"CLOSEPOLY\" command.\n",
    "    \"\"\"\n",
    "    polys = []\n",
    "    for pt, code in path.iter_segments():\n",
    "        if code == 1:  # MOVETO\n",
    "            curPoly = []\n",
    "            curPoly.append(pt)\n",
    "        if code == 2:  # LINETO\n",
    "            curPoly.append(pt)\n",
    "        if code in [3, 4]:\n",
    "            print(\"warning: does not currently support CURVE3 or CURVE4\")\n",
    "        if code == 79:  # CLOSEPOLY\n",
    "            curPoly.append(pt)\n",
    "            polys.append(np.array(curPoly))\n",
    "    return polys"
   ]
  },
  {
   "cell_type": "markdown",
   "metadata": {},
   "source": [
    "Use the function above to convert the coded matplotlib paths into lists of polygons.  The final format of this will be of the form:\n",
    "`pathVertObjects = [[outer1, hole1a, hole1b, ...], [outer2, hole2a, hole2b, ...], ...]`\n",
    "where `outer` and `hole` are explicitly closed polygons."
   ]
  },
  {
   "cell_type": "code",
   "execution_count": null,
   "metadata": {},
   "outputs": [],
   "source": [
    "polygons = [convertPathToPolygons(path) for path in paths]"
   ]
  },
  {
   "cell_type": "markdown",
   "metadata": {},
   "source": [
    "Check that the polygons are explicitly closed:"
   ]
  },
  {
   "cell_type": "code",
   "execution_count": null,
   "metadata": {},
   "outputs": [],
   "source": [
    "poly = polygons[0][0]\n",
    "np.alltrue(poly[0] == poly[-1])"
   ]
  },
  {
   "cell_type": "code",
   "execution_count": null,
   "metadata": {},
   "outputs": [],
   "source": [
    "from shapely.geometry import Polygon, MultiPolygon, LineString, MultiLineString, Point"
   ]
  },
  {
   "cell_type": "code",
   "execution_count": null,
   "metadata": {},
   "outputs": [],
   "source": [
    "def convertPolygonsToShapely(polys):\n",
    "    \"\"\" Converts lists of lists of polygons into a shapely Multipolygon object.\n",
    "\n",
    "    It is assumed that the first polygon in each list is the outermost one and\n",
    "    subsequent ones are holes.\n",
    "    \"\"\"\n",
    "    shPolys = []\n",
    "    for pathVertObject in polys:\n",
    "        poly = Polygon(shell=pathVertObject[0], holes=pathVertObject[1:])\n",
    "        shPolys.append(poly)\n",
    "    shape = MultiPolygon(shPolys)\n",
    "    return shape"
   ]
  },
  {
   "cell_type": "code",
   "execution_count": null,
   "metadata": {},
   "outputs": [],
   "source": [
    "shape = convertPolygonsToShapely(polygons)"
   ]
  },
  {
   "cell_type": "markdown",
   "metadata": {},
   "source": [
    "From here we can do all of the cool Shapely operations.  For instance, we can\n",
    "* simplify an object\n",
    "* buffer it inwards or outwards\n",
    "* a whole sweet of boolean operations"
   ]
  },
  {
   "cell_type": "code",
   "execution_count": null,
   "metadata": {},
   "outputs": [],
   "source": [
    "shapeSimp = shape.simplify(0.05, preserve_topology=True)"
   ]
  },
  {
   "cell_type": "code",
   "execution_count": null,
   "metadata": {},
   "outputs": [],
   "source": [
    "len(str(shape)), len(str(shapeSimp))"
   ]
  },
  {
   "cell_type": "code",
   "execution_count": null,
   "metadata": {},
   "outputs": [],
   "source": [
    "shapeSimp"
   ]
  },
  {
   "cell_type": "code",
   "execution_count": null,
   "metadata": {},
   "outputs": [],
   "source": [
    "shapeSimp.buffer(0.2)"
   ]
  },
  {
   "cell_type": "code",
   "execution_count": null,
   "metadata": {},
   "outputs": [],
   "source": [
    "shape"
   ]
  },
  {
   "cell_type": "code",
   "execution_count": null,
   "metadata": {},
   "outputs": [],
   "source": [
    "shape[1].area"
   ]
  },
  {
   "cell_type": "code",
   "execution_count": null,
   "metadata": {},
   "outputs": [],
   "source": [
    "pt1 = shape[1].centroid"
   ]
  },
  {
   "cell_type": "code",
   "execution_count": null,
   "metadata": {},
   "outputs": [],
   "source": [
    "pt1.x, pt1.y"
   ]
  },
  {
   "cell_type": "code",
   "execution_count": null,
   "metadata": {},
   "outputs": [],
   "source": [
    "def polyHasHoles(shPoly):\n",
    "    nHoles = len(shPoly.interiors)\n",
    "    return (nHoles > 0)"
   ]
  },
  {
   "cell_type": "code",
   "execution_count": null,
   "metadata": {},
   "outputs": [],
   "source": [
    "def getPolygonHoleCenter(shPoly):\n",
    "    (xC, yC) = np.array(shPoly.interiors[0].centroid.xy).reshape(-1)\n",
    "    return (xC, yC)"
   ]
  },
  {
   "cell_type": "code",
   "execution_count": null,
   "metadata": {},
   "outputs": [],
   "source": [
    "def splitPolyOnHole(shPoly):\n",
    "    (xC, yC) = getPolygonHoleCenter(shPoly)\n",
    "    (minx, miny, maxx, maxy) = shPoly.bounds\n",
    "    cutLine = LineString([[minx, yC], [maxx, yC]])\n",
    "    return split(shPoly, cutLine)"
   ]
  },
  {
   "cell_type": "code",
   "execution_count": null,
   "metadata": {},
   "outputs": [],
   "source": [
    "def fixPolyInList(polyList):\n",
    "    for poly in polyList:\n",
    "        if polyHasHoles(poly):\n",
    "            badPoly = poly\n",
    "            newPolys = splitPolyOnHole(badPoly)\n",
    "            polyList.remove(poly)\n",
    "            polyList.extend([*newPolys])\n",
    "            return True\n",
    "    return False"
   ]
  },
  {
   "cell_type": "code",
   "execution_count": null,
   "metadata": {},
   "outputs": [],
   "source": [
    "def fixHolelyMultiPolygon(mPoly):\n",
    "    shapelyPolygons = [*mPoly]\n",
    "    while fixPolyInList(shapelyPolygons): continue\n",
    "    return MultiPolygon(shapelyPolygons)"
   ]
  },
  {
   "cell_type": "code",
   "execution_count": null,
   "metadata": {},
   "outputs": [],
   "source": [
    "flatMPoly = fixHolelyMultiPolygon(shape)\n",
    "flatMPoly"
   ]
  },
  {
   "cell_type": "code",
   "execution_count": null,
   "metadata": {},
   "outputs": [],
   "source": [
    "def convertShapelyToPolygons(shape):\n",
    "    \"\"\" Converts a shapely Multipolygon into a list of list of vertices.\n",
    "\n",
    "    This format should be suitable for rendering to dxf.\n",
    "    \"\"\"\n",
    "    polyList = []\n",
    "    for shP in shape:\n",
    "        vList = np.array(list(zip(*shP.exterior.coords.xy)))\n",
    "        polyList.append(vList)\n",
    "        for intr in shP.interiors:\n",
    "            vList = np.array(list(zip(*intr.coords.xy)))\n",
    "            polyList.append(vList)\n",
    "    return polyList"
   ]
  },
  {
   "cell_type": "code",
   "execution_count": null,
   "metadata": {},
   "outputs": [],
   "source": [
    "vListsFlat = convertShapelyToPolygons(flatMPoly)"
   ]
  },
  {
   "cell_type": "code",
   "execution_count": null,
   "metadata": {},
   "outputs": [],
   "source": [
    "MultiLineString(vListsFlat)"
   ]
  },
  {
   "cell_type": "code",
   "execution_count": null,
   "metadata": {},
   "outputs": [],
   "source": [
    "import ezdxf"
   ]
  },
  {
   "cell_type": "code",
   "execution_count": null,
   "metadata": {},
   "outputs": [],
   "source": [
    "def saveDXF(fName, vLists, layer=\"content_layer\"):\n",
    "    doc = ezdxf.new('R12', setup=True)\n",
    "    msp = doc.modelspace()\n",
    "    for (i, vList) in enumerate(vLists):\n",
    "        if layer == 'enum':\n",
    "            msp.add_polyline2d(points=vList, dxfattribs={'layer': \"layer\"+str(i)})\n",
    "        else:\n",
    "            msp.add_polyline2d(points=vList, dxfattribs={'layer': layer})\n",
    "    doc.saveas(fName)"
   ]
  },
  {
   "cell_type": "code",
   "execution_count": null,
   "metadata": {},
   "outputs": [],
   "source": [
    "flatMPoly"
   ]
  },
  {
   "cell_type": "code",
   "execution_count": null,
   "metadata": {},
   "outputs": [],
   "source": [
    "vListsFlat = convertShapelyToPolygons(flatMPoly)"
   ]
  },
  {
   "cell_type": "code",
   "execution_count": null,
   "metadata": {},
   "outputs": [],
   "source": [
    "saveDXF(\"flat.dxf\", vListsFlat, 'enum')"
   ]
  },
  {
   "cell_type": "code",
   "execution_count": null,
   "metadata": {},
   "outputs": [],
   "source": [
    "shape"
   ]
  },
  {
   "cell_type": "code",
   "execution_count": null,
   "metadata": {},
   "outputs": [],
   "source": [
    "vListsHoley = convertShapelyToPolygons(shape)"
   ]
  },
  {
   "cell_type": "code",
   "execution_count": null,
   "metadata": {},
   "outputs": [],
   "source": [
    "saveDXF(\"holey.dxf\", vListsHoley)"
   ]
  },
  {
   "cell_type": "code",
   "execution_count": null,
   "metadata": {},
   "outputs": [],
   "source": [
    "import mph"
   ]
  },
  {
   "cell_type": "code",
   "execution_count": null,
   "metadata": {},
   "outputs": [],
   "source": [
    "client = mph.start()\n",
    "fName = \"C:\\\\Program Files\\\\COMSOL\\\\COMSOL56\\\\Multiphysics\\\\applications\\\\COMSOL_Multiphysics\\\\Multiphysics\\\\busbar.mph\"\n",
    "model = client.load(fName)"
   ]
  },
  {
   "cell_type": "code",
   "execution_count": null,
   "metadata": {},
   "outputs": [],
   "source": [
    "mph.config.options"
   ]
  },
  {
   "cell_type": "code",
   "execution_count": null,
   "metadata": {},
   "outputs": [],
   "source": [
    "model.solve()"
   ]
  },
  {
   "cell_type": "code",
   "execution_count": null,
   "metadata": {},
   "outputs": [],
   "source": [
    "(x, y, z, T) = model.evaluate(['x', 'y', 'z', 'T'])"
   ]
  },
  {
   "cell_type": "code",
   "execution_count": null,
   "metadata": {},
   "outputs": [],
   "source": [
    "(Tmax, Tmin) = (T.max(), T.min())\n",
    "(imax, imin) = (T.argmax(), T.argmin())\n",
    "print(f'Tmax = {T.max():.2f} K at ({x[imax]:5f}, {y[imax]:5f}, {z[imax]:5f})')\n",
    "print(f'Tmin = {T.min():.2f} K at ({x[imin]:5f}, {y[imin]:5f}, {z[imin]:5f})')"
   ]
  },
  {
   "cell_type": "code",
   "execution_count": null,
   "metadata": {},
   "outputs": [],
   "source": [
    "4.0*0.7"
   ]
  },
  {
   "cell_type": "code",
   "execution_count": null,
   "metadata": {},
   "outputs": [],
   "source": [
    "0.25*4+0.8"
   ]
  },
  {
   "cell_type": "code",
   "execution_count": null,
   "metadata": {},
   "outputs": [],
   "source": [
    "VDD = 4.0"
   ]
  },
  {
   "cell_type": "code",
   "execution_count": null,
   "metadata": {},
   "outputs": [],
   "source": [
    "[2.0, 0.25*VDD + 0.8, 0.8*VDD, 0.7*VDD, 2.1, 0.8*VDD]"
   ]
  },
  {
   "cell_type": "code",
   "execution_count": null,
   "metadata": {},
   "outputs": [],
   "source": []
  }
 ],
 "metadata": {
  "kernelspec": {
   "display_name": "Python 3",
   "language": "python",
   "name": "python3"
  },
  "language_info": {
   "codemirror_mode": {
    "name": "ipython",
    "version": 3
   },
   "file_extension": ".py",
   "mimetype": "text/x-python",
   "name": "python",
   "nbconvert_exporter": "python",
   "pygments_lexer": "ipython3",
   "version": "3.9.4"
  },
  "toc-autonumbering": false,
  "toc-showcode": false,
  "toc-showmarkdowntxt": false,
  "toc-showtags": true
 },
 "nbformat": 4,
 "nbformat_minor": 4
}
