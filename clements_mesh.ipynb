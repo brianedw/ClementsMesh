{
 "cells": [
  {
   "cell_type": "markdown",
   "metadata": {
    "tags": []
   },
   "source": [
    "### Python Libraries"
   ]
  },
  {
   "cell_type": "markdown",
   "metadata": {},
   "source": [
    "Standard Python imports"
   ]
  },
  {
   "cell_type": "code",
   "execution_count": 1,
   "metadata": {},
   "outputs": [],
   "source": [
    "import os, sys, time, glob"
   ]
  },
  {
   "cell_type": "code",
   "execution_count": 2,
   "metadata": {},
   "outputs": [],
   "source": [
    "from collections import deque\n",
    "from pprint import pprint"
   ]
  },
  {
   "cell_type": "code",
   "execution_count": 3,
   "metadata": {},
   "outputs": [],
   "source": [
    "from math import pi, radians\n",
    "deg = radians(1)    # so that we can refer to 90*deg\n",
    "I = 1j              # potentially neater imaginary nomenclature."
   ]
  },
  {
   "cell_type": "code",
   "execution_count": 4,
   "metadata": {},
   "outputs": [],
   "source": [
    "import numpy as np  # Does high performance dense array operations\n",
    "np.set_printoptions(edgeitems=30, linewidth=100000,\n",
    "                    formatter=dict(float=lambda x: \"%.3g\" % x))\n",
    "import scipy as sp"
   ]
  },
  {
   "cell_type": "code",
   "execution_count": 5,
   "metadata": {},
   "outputs": [],
   "source": [
    "from toolz.itertoolz import (concat, partition, interleave)\n",
    "from toolz.functoolz import (curry, pipe, thread_first)\n",
    "# from toolz.dicttoolz import ()"
   ]
  },
  {
   "cell_type": "code",
   "execution_count": 6,
   "metadata": {},
   "outputs": [
    {
     "data": {
      "text/html": [
       "\n",
       "    <div class=\"bk-root\">\n",
       "        <a href=\"https://bokeh.org\" target=\"_blank\" class=\"bk-logo bk-logo-small bk-logo-notebook\"></a>\n",
       "        <span id=\"1002\">Loading BokehJS ...</span>\n",
       "    </div>"
      ]
     },
     "metadata": {},
     "output_type": "display_data"
    },
    {
     "data": {
      "application/javascript": "\n(function(root) {\n  function now() {\n    return new Date();\n  }\n\n  const force = true;\n\n  if (typeof root._bokeh_onload_callbacks === \"undefined\" || force === true) {\n    root._bokeh_onload_callbacks = [];\n    root._bokeh_is_loading = undefined;\n  }\n\n  const JS_MIME_TYPE = 'application/javascript';\n  const HTML_MIME_TYPE = 'text/html';\n  const EXEC_MIME_TYPE = 'application/vnd.bokehjs_exec.v0+json';\n  const CLASS_NAME = 'output_bokeh rendered_html';\n\n  /**\n   * Render data to the DOM node\n   */\n  function render(props, node) {\n    const script = document.createElement(\"script\");\n    node.appendChild(script);\n  }\n\n  /**\n   * Handle when an output is cleared or removed\n   */\n  function handleClearOutput(event, handle) {\n    const cell = handle.cell;\n\n    const id = cell.output_area._bokeh_element_id;\n    const server_id = cell.output_area._bokeh_server_id;\n    // Clean up Bokeh references\n    if (id != null && id in Bokeh.index) {\n      Bokeh.index[id].model.document.clear();\n      delete Bokeh.index[id];\n    }\n\n    if (server_id !== undefined) {\n      // Clean up Bokeh references\n      const cmd_clean = \"from bokeh.io.state import curstate; print(curstate().uuid_to_server['\" + server_id + \"'].get_sessions()[0].document.roots[0]._id)\";\n      cell.notebook.kernel.execute(cmd_clean, {\n        iopub: {\n          output: function(msg) {\n            const id = msg.content.text.trim();\n            if (id in Bokeh.index) {\n              Bokeh.index[id].model.document.clear();\n              delete Bokeh.index[id];\n            }\n          }\n        }\n      });\n      // Destroy server and session\n      const cmd_destroy = \"import bokeh.io.notebook as ion; ion.destroy_server('\" + server_id + \"')\";\n      cell.notebook.kernel.execute(cmd_destroy);\n    }\n  }\n\n  /**\n   * Handle when a new output is added\n   */\n  function handleAddOutput(event, handle) {\n    const output_area = handle.output_area;\n    const output = handle.output;\n\n    // limit handleAddOutput to display_data with EXEC_MIME_TYPE content only\n    if ((output.output_type != \"display_data\") || (!Object.prototype.hasOwnProperty.call(output.data, EXEC_MIME_TYPE))) {\n      return\n    }\n\n    const toinsert = output_area.element.find(\".\" + CLASS_NAME.split(' ')[0]);\n\n    if (output.metadata[EXEC_MIME_TYPE][\"id\"] !== undefined) {\n      toinsert[toinsert.length - 1].firstChild.textContent = output.data[JS_MIME_TYPE];\n      // store reference to embed id on output_area\n      output_area._bokeh_element_id = output.metadata[EXEC_MIME_TYPE][\"id\"];\n    }\n    if (output.metadata[EXEC_MIME_TYPE][\"server_id\"] !== undefined) {\n      const bk_div = document.createElement(\"div\");\n      bk_div.innerHTML = output.data[HTML_MIME_TYPE];\n      const script_attrs = bk_div.children[0].attributes;\n      for (let i = 0; i < script_attrs.length; i++) {\n        toinsert[toinsert.length - 1].firstChild.setAttribute(script_attrs[i].name, script_attrs[i].value);\n        toinsert[toinsert.length - 1].firstChild.textContent = bk_div.children[0].textContent\n      }\n      // store reference to server id on output_area\n      output_area._bokeh_server_id = output.metadata[EXEC_MIME_TYPE][\"server_id\"];\n    }\n  }\n\n  function register_renderer(events, OutputArea) {\n\n    function append_mime(data, metadata, element) {\n      // create a DOM node to render to\n      const toinsert = this.create_output_subarea(\n        metadata,\n        CLASS_NAME,\n        EXEC_MIME_TYPE\n      );\n      this.keyboard_manager.register_events(toinsert);\n      // Render to node\n      const props = {data: data, metadata: metadata[EXEC_MIME_TYPE]};\n      render(props, toinsert[toinsert.length - 1]);\n      element.append(toinsert);\n      return toinsert\n    }\n\n    /* Handle when an output is cleared or removed */\n    events.on('clear_output.CodeCell', handleClearOutput);\n    events.on('delete.Cell', handleClearOutput);\n\n    /* Handle when a new output is added */\n    events.on('output_added.OutputArea', handleAddOutput);\n\n    /**\n     * Register the mime type and append_mime function with output_area\n     */\n    OutputArea.prototype.register_mime_type(EXEC_MIME_TYPE, append_mime, {\n      /* Is output safe? */\n      safe: true,\n      /* Index of renderer in `output_area.display_order` */\n      index: 0\n    });\n  }\n\n  // register the mime type if in Jupyter Notebook environment and previously unregistered\n  if (root.Jupyter !== undefined) {\n    const events = require('base/js/events');\n    const OutputArea = require('notebook/js/outputarea').OutputArea;\n\n    if (OutputArea.prototype.mime_types().indexOf(EXEC_MIME_TYPE) == -1) {\n      register_renderer(events, OutputArea);\n    }\n  }\n\n  \n  if (typeof (root._bokeh_timeout) === \"undefined\" || force === true) {\n    root._bokeh_timeout = Date.now() + 5000;\n    root._bokeh_failed_load = false;\n  }\n\n  const NB_LOAD_WARNING = {'data': {'text/html':\n     \"<div style='background-color: #fdd'>\\n\"+\n     \"<p>\\n\"+\n     \"BokehJS does not appear to have successfully loaded. If loading BokehJS from CDN, this \\n\"+\n     \"may be due to a slow or bad network connection. Possible fixes:\\n\"+\n     \"</p>\\n\"+\n     \"<ul>\\n\"+\n     \"<li>re-rerun `output_notebook()` to attempt to load from CDN again, or</li>\\n\"+\n     \"<li>use INLINE resources instead, as so:</li>\\n\"+\n     \"</ul>\\n\"+\n     \"<code>\\n\"+\n     \"from bokeh.resources import INLINE\\n\"+\n     \"output_notebook(resources=INLINE)\\n\"+\n     \"</code>\\n\"+\n     \"</div>\"}};\n\n  function display_loaded() {\n    const el = document.getElementById(\"1002\");\n    if (el != null) {\n      el.textContent = \"BokehJS is loading...\";\n    }\n    if (root.Bokeh !== undefined) {\n      if (el != null) {\n        el.textContent = \"BokehJS \" + root.Bokeh.version + \" successfully loaded.\";\n      }\n    } else if (Date.now() < root._bokeh_timeout) {\n      setTimeout(display_loaded, 100)\n    }\n  }\n\n\n  function run_callbacks() {\n    try {\n      root._bokeh_onload_callbacks.forEach(function(callback) {\n        if (callback != null)\n          callback();\n      });\n    } finally {\n      delete root._bokeh_onload_callbacks\n    }\n    console.debug(\"Bokeh: all callbacks have finished\");\n  }\n\n  function load_libs(css_urls, js_urls, callback) {\n    if (css_urls == null) css_urls = [];\n    if (js_urls == null) js_urls = [];\n\n    root._bokeh_onload_callbacks.push(callback);\n    if (root._bokeh_is_loading > 0) {\n      console.debug(\"Bokeh: BokehJS is being loaded, scheduling callback at\", now());\n      return null;\n    }\n    if (js_urls == null || js_urls.length === 0) {\n      run_callbacks();\n      return null;\n    }\n    console.debug(\"Bokeh: BokehJS not loaded, scheduling load and callback at\", now());\n    root._bokeh_is_loading = css_urls.length + js_urls.length;\n\n    function on_load() {\n      root._bokeh_is_loading--;\n      if (root._bokeh_is_loading === 0) {\n        console.debug(\"Bokeh: all BokehJS libraries/stylesheets loaded\");\n        run_callbacks()\n      }\n    }\n\n    function on_error(url) {\n      console.error(\"failed to load \" + url);\n    }\n\n    for (let i = 0; i < css_urls.length; i++) {\n      const url = css_urls[i];\n      const element = document.createElement(\"link\");\n      element.onload = on_load;\n      element.onerror = on_error.bind(null, url);\n      element.rel = \"stylesheet\";\n      element.type = \"text/css\";\n      element.href = url;\n      console.debug(\"Bokeh: injecting link tag for BokehJS stylesheet: \", url);\n      document.body.appendChild(element);\n    }\n\n    for (let i = 0; i < js_urls.length; i++) {\n      const url = js_urls[i];\n      const element = document.createElement('script');\n      element.onload = on_load;\n      element.onerror = on_error.bind(null, url);\n      element.async = false;\n      element.src = url;\n      console.debug(\"Bokeh: injecting script tag for BokehJS library: \", url);\n      document.head.appendChild(element);\n    }\n  };\n\n  function inject_raw_css(css) {\n    const element = document.createElement(\"style\");\n    element.appendChild(document.createTextNode(css));\n    document.body.appendChild(element);\n  }\n\n  \n  const js_urls = [\"https://cdn.bokeh.org/bokeh/release/bokeh-2.4.1.min.js\", \"https://cdn.bokeh.org/bokeh/release/bokeh-gl-2.4.1.min.js\", \"https://cdn.bokeh.org/bokeh/release/bokeh-widgets-2.4.1.min.js\", \"https://cdn.bokeh.org/bokeh/release/bokeh-tables-2.4.1.min.js\", \"https://cdn.bokeh.org/bokeh/release/bokeh-mathjax-2.4.1.min.js\"];\n  const css_urls = [];\n  \n\n  const inline_js = [\n    function(Bokeh) {\n      Bokeh.set_log_level(\"info\");\n    },\n    function(Bokeh) {\n    \n    \n    }\n  ];\n\n  function run_inline_js() {\n    \n    if (root.Bokeh !== undefined || force === true) {\n      \n    for (let i = 0; i < inline_js.length; i++) {\n      inline_js[i].call(root, root.Bokeh);\n    }\n    if (force === true) {\n        display_loaded();\n      }} else if (Date.now() < root._bokeh_timeout) {\n      setTimeout(run_inline_js, 100);\n    } else if (!root._bokeh_failed_load) {\n      console.log(\"Bokeh: BokehJS failed to load within specified timeout.\");\n      root._bokeh_failed_load = true;\n    } else if (force !== true) {\n      const cell = $(document.getElementById(\"1002\")).parents('.cell').data().cell;\n      cell.output_area.append_execute_result(NB_LOAD_WARNING)\n    }\n\n  }\n\n  if (root._bokeh_is_loading === 0) {\n    console.debug(\"Bokeh: BokehJS loaded, going straight to plotting\");\n    run_inline_js();\n  } else {\n    load_libs(css_urls, js_urls, function() {\n      console.debug(\"Bokeh: BokehJS plotting callback run at\", now());\n      run_inline_js();\n    });\n  }\n}(window));",
      "application/vnd.bokehjs_load.v0+json": ""
     },
     "metadata": {},
     "output_type": "display_data"
    }
   ],
   "source": [
    "from UtilityMath import (plotComplexArray, \n",
    "                         RandomComplexCircularMatrix, RandomComplexGaussianMatrix,\n",
    "                         PolarPlot,\n",
    "                         RescaleToUnitary,\n",
    "                         ReIm,\n",
    "                         MatrixSqError, MatrixError, MatrixErrorNormalized)"
   ]
  },
  {
   "cell_type": "code",
   "execution_count": 7,
   "metadata": {},
   "outputs": [],
   "source": [
    "import networkx as nx\n",
    "import pylab as plt"
   ]
  },
  {
   "cell_type": "markdown",
   "metadata": {
    "tags": []
   },
   "source": [
    "# Work"
   ]
  },
  {
   "cell_type": "markdown",
   "metadata": {},
   "source": [
    "## Clements Decomposition"
   ]
  },
  {
   "cell_type": "code",
   "execution_count": 8,
   "metadata": {},
   "outputs": [],
   "source": [
    "from numpy import cos, sin, exp"
   ]
  },
  {
   "cell_type": "code",
   "execution_count": 9,
   "metadata": {},
   "outputs": [],
   "source": [
    "np.set_printoptions(edgeitems=30, linewidth=100000,\n",
    "                    suppress=True,\n",
    "                    formatter=dict(float=lambda x: \"%.2g\" % x))"
   ]
  },
  {
   "cell_type": "markdown",
   "metadata": {},
   "source": [
    "### Unitary Matrix Generation"
   ]
  },
  {
   "cell_type": "code",
   "execution_count": 10,
   "metadata": {},
   "outputs": [],
   "source": [
    "def isPassive(M, verbose=False):\n",
    "    Im = np.identity(M.shape[0])\n",
    "    TH = np.conj(M.T)\n",
    "    eigVals = np.linalg.eigvals(Im - TH @ M).real\n",
    "    if verbose:\n",
    "        print(eigVals)\n",
    "    isPassive = np.alltrue(eigVals >= -1e-12)\n",
    "    return isPassive"
   ]
  },
  {
   "cell_type": "code",
   "execution_count": 11,
   "metadata": {},
   "outputs": [
    {
     "data": {
      "text/plain": [
       "True"
      ]
     },
     "execution_count": 11,
     "metadata": {},
     "output_type": "execute_result"
    }
   ],
   "source": [
    "testM = np.identity(5, dtype='complex')\n",
    "isPassive(testM)"
   ]
  },
  {
   "cell_type": "code",
   "execution_count": 12,
   "metadata": {},
   "outputs": [],
   "source": [
    "def getRandomUnitaryMatrix(n=5, verbose=False):\n",
    "    rMat = RandomComplexCircularMatrix(1, (n, n))\n",
    "    # print(rMat)\n",
    "    U, Svec, Vh = np.linalg.svd(rMat, full_matrices=True)\n",
    "    S = np.diag(Svec)\n",
    "    recovery = U @ S @ Vh\n",
    "    if verbose:\n",
    "        print(\"Successful SVD Decomposition:\", np.allclose(recovery, rMat))\n",
    "    M = U @ Vh\n",
    "    return M"
   ]
  },
  {
   "cell_type": "code",
   "execution_count": 13,
   "metadata": {},
   "outputs": [],
   "source": [
    "U = getRandomUnitaryMatrix(n=5)"
   ]
  },
  {
   "cell_type": "markdown",
   "metadata": {},
   "source": [
    "### Mixer"
   ]
  },
  {
   "cell_type": "markdown",
   "metadata": {},
   "source": [
    "The `Mixer` represents a 4 port directional coupler with variable weights similar to a Mach-Zender Interferometer."
   ]
  },
  {
   "cell_type": "markdown",
   "metadata": {},
   "source": [
    "We begin with the definition of a directional \"beam splitter\" given below\n",
    "$$\n",
    "T(\\theta, \\phi) = \\begin{pmatrix}\n",
    "e^{i\\phi} \\cos(\\theta) & -\\sin(\\theta)\\\\\n",
    "e^{i\\phi} \\sin(\\theta) & \\cos(\\theta)\n",
    "\\end{pmatrix}\n",
    "$$\n",
    "This shows only the transmissive part and all reflections are assumed to be zero."
   ]
  },
  {
   "cell_type": "code",
   "execution_count": 14,
   "metadata": {},
   "outputs": [],
   "source": [
    "def T(theta, phi):\n",
    "    a = [[ exp(I*phi) * cos(theta), -sin(theta)], \n",
    "         [ exp(I*phi) * sin(theta),  cos(theta)]]\n",
    "    return np.array(a)"
   ]
  },
  {
   "cell_type": "markdown",
   "metadata": {},
   "source": [
    "We also need the inverse of this matrix.  This was computed in Mathematica."
   ]
  },
  {
   "cell_type": "code",
   "execution_count": 15,
   "metadata": {},
   "outputs": [],
   "source": [
    "def Tinv(theta, phi):\n",
    "    a = [[ exp(-I*phi) * cos(theta),  exp(-I*phi) * sin(theta)],\n",
    "         [              -sin(theta),                cos(theta)]]\n",
    "    return np.array(a)"
   ]
  },
  {
   "cell_type": "markdown",
   "metadata": {},
   "source": [
    "This allows us to define a simple class for a `Mixer`."
   ]
  },
  {
   "cell_type": "code",
   "execution_count": 16,
   "metadata": {},
   "outputs": [],
   "source": [
    "class Mixer:\n",
    "\n",
    "    def __init__(self, theta_phi=(0,0)):\n",
    "        self.theta, self.phi = theta_phi\n",
    "\n",
    "    def T(self):\n",
    "        return T(self.theta, self.phi)\n",
    "\n",
    "    def Tinv(self):\n",
    "        return Tinv(self.theta, self.phi)"
   ]
  },
  {
   "cell_type": "code",
   "execution_count": 17,
   "metadata": {},
   "outputs": [],
   "source": [
    "mixer = Mixer()\n",
    "mixer = Mixer(theta_phi=(0.2*pi, 0.3*pi))"
   ]
  },
  {
   "cell_type": "code",
   "execution_count": 18,
   "metadata": {},
   "outputs": [
    {
     "name": "stdout",
     "output_type": "stream",
     "text": [
      "[[ 0.47552826+0.6545085j  -0.58778525+0.j        ]\n",
      " [ 0.3454915 +0.47552826j  0.80901699+0.j        ]]\n",
      "[[ 0.47552826-0.6545085j   0.3454915 -0.47552826j]\n",
      " [-0.58778525+0.j          0.80901699+0.j        ]]\n"
     ]
    }
   ],
   "source": [
    "print(mixer.T())\n",
    "print(mixer.Tinv())"
   ]
  },
  {
   "cell_type": "markdown",
   "metadata": {},
   "source": [
    "### Mixer Mesh Interaction"
   ]
  },
  {
   "cell_type": "markdown",
   "metadata": {},
   "source": [
    "The formulation makes use of how a mixer interacts with all of the channels in the system.  Let us imagine a vector of $n$ \n",
    " lines.  Of course, if the mixer is not connected to a line, that line would remain unperturbed.  It follows that we can understand a mixer's effect on a\n",
    "mesh as the identity matrix with several elements changed to those given by $T(\\theta, \\phi)$ above.\n",
    "\n",
    "Note that within the paper, Clements uses the notation $T_{m,n}(\\theta, \\phi)$ which represents a mixing between lines $m$ and $n$.  In all cases within\n",
    "that work, $n = m + 1$."
   ]
  },
  {
   "cell_type": "code",
   "execution_count": 19,
   "metadata": {},
   "outputs": [],
   "source": [
    "def TMesh(theta_phi, N, lines):\n",
    "    A = np.identity(N, dtype='complex')\n",
    "    a = T(*theta_phi)\n",
    "    m, n = lines\n",
    "    A[m, m] = a[0,0]\n",
    "    A[m, n] = a[0,1]\n",
    "    A[n, m] = a[1,0]\n",
    "    A[n, n] = a[1,1]\n",
    "    return A"
   ]
  },
  {
   "cell_type": "code",
   "execution_count": 20,
   "metadata": {},
   "outputs": [],
   "source": [
    "def TinvMesh(theta_phi, N, lines):\n",
    "    A = np.identity(N, dtype='complex')\n",
    "    a = Tinv(*theta_phi)\n",
    "    m, n = lines\n",
    "    A[m, m] = a[0,0]\n",
    "    A[m, n] = a[0,1]\n",
    "    A[n, m] = a[1,0]\n",
    "    A[n, n] = a[1,1]\n",
    "    return A"
   ]
  },
  {
   "cell_type": "code",
   "execution_count": 21,
   "metadata": {},
   "outputs": [
    {
     "name": "stdout",
     "output_type": "stream",
     "text": [
      "[[ 0.47552826+0.6545085j  -0.58778525+0.j        ]\n",
      " [ 0.3454915 +0.47552826j  0.80901699+0.j        ]]\n",
      "[[ 0.47552826-0.6545085j   0.3454915 -0.47552826j]\n",
      " [-0.58778525+0.j          0.80901699+0.j        ]]\n"
     ]
    }
   ],
   "source": [
    "mixer = Mixer(theta_phi=(0.2*pi, 0.3*pi))\n",
    "print(mixer.T())\n",
    "print(mixer.Tinv())"
   ]
  },
  {
   "cell_type": "code",
   "execution_count": 22,
   "metadata": {},
   "outputs": [
    {
     "data": {
      "text/plain": [
       "array([[ 1.        +0.j        ,  0.        +0.j        ,  0.        +0.j        ,  0.        +0.j        ,  0.        +0.j        ],\n",
       "       [ 0.        +0.j        ,  0.47552826+0.3454915j , -0.80901699+0.j        ,  0.        +0.j        ,  0.        +0.j        ],\n",
       "       [ 0.        +0.j        ,  0.6545085 +0.47552826j,  0.58778525+0.j        ,  0.        +0.j        ,  0.        +0.j        ],\n",
       "       [ 0.        +0.j        ,  0.        +0.j        ,  0.        +0.j        ,  1.        +0.j        ,  0.        +0.j        ],\n",
       "       [ 0.        +0.j        ,  0.        +0.j        ,  0.        +0.j        ,  0.        +0.j        ,  1.        +0.j        ]])"
      ]
     },
     "execution_count": 22,
     "metadata": {},
     "output_type": "execute_result"
    }
   ],
   "source": [
    "TMesh(theta_phi=(0.3*pi, 0.2*pi), N=5, lines=(1,2))"
   ]
  },
  {
   "cell_type": "code",
   "execution_count": 23,
   "metadata": {},
   "outputs": [
    {
     "data": {
      "text/plain": [
       "array([[ 1.        +0.j        ,  0.        +0.j        ,  0.        +0.j        ,  0.        +0.j        ,  0.        +0.j        ],\n",
       "       [ 0.        +0.j        ,  0.47552826-0.3454915j ,  0.6545085 -0.47552826j,  0.        +0.j        ,  0.        +0.j        ],\n",
       "       [ 0.        +0.j        , -0.80901699+0.j        ,  0.58778525+0.j        ,  0.        +0.j        ,  0.        +0.j        ],\n",
       "       [ 0.        +0.j        ,  0.        +0.j        ,  0.        +0.j        ,  1.        +0.j        ,  0.        +0.j        ],\n",
       "       [ 0.        +0.j        ,  0.        +0.j        ,  0.        +0.j        ,  0.        +0.j        ,  1.        +0.j        ]])"
      ]
     },
     "execution_count": 23,
     "metadata": {},
     "output_type": "execute_result"
    }
   ],
   "source": [
    "TinvMesh(theta_phi=(0.3*pi, 0.2*pi), N=5, lines=(1,2))"
   ]
  },
  {
   "cell_type": "markdown",
   "metadata": {},
   "source": [
    "And just as a check, let us verify that the analytical aligns with the numerical inverse."
   ]
  },
  {
   "cell_type": "code",
   "execution_count": 24,
   "metadata": {},
   "outputs": [
    {
     "data": {
      "text/plain": [
       "True"
      ]
     },
     "execution_count": 24,
     "metadata": {},
     "output_type": "execute_result"
    }
   ],
   "source": [
    "invNum = np.linalg.inv(TMesh(theta_phi=(0.4*pi, 0.2*pi), N=5, lines=(1,4)))\n",
    "invAnal = TinvMesh(theta_phi=(0.4*pi, 0.2*pi), N=5, lines=(1,4))\n",
    "np.allclose(invNum, invAnal)"
   ]
  },
  {
   "cell_type": "markdown",
   "metadata": {},
   "source": [
    "### Mesh"
   ]
  },
  {
   "cell_type": "code",
   "execution_count": 25,
   "metadata": {},
   "outputs": [],
   "source": [
    "def EvenQ(n):\n",
    "    \"\"\"\n",
    "    True if n is even.\n",
    "    False otherwise.\n",
    "    \"\"\"\n",
    "    return(n%2==0)\n",
    "\n",
    "def OddQ(n):\n",
    "    \"\"\"\n",
    "    True if n is odd.\n",
    "    False otherwise.\n",
    "    \"\"\"    \n",
    "    return(n%2==1)  "
   ]
  },
  {
   "cell_type": "markdown",
   "metadata": {},
   "source": [
    "Computes the number of layers in the mesh required to obtain `totCount` number of mixers.  For instance, suppose that you want 6 DoFs from a 4 port to 4 port mesh.  The even columns (0th, 2nd, etc) would have 2 mixers.  The odd columns (1st, 3rd, etc) would have 1 mixer."
   ]
  },
  {
   "cell_type": "code",
   "execution_count": 26,
   "metadata": {},
   "outputs": [],
   "source": [
    "def computeNLayers(evenCount, oddCount, totCount):\n",
    "    \"\"\"\n",
    "    Given finds the total number of elements in the pattern [e, o, e, o, ...]\n",
    "    required to achieve `totCount`.  Returns `None` if not evenly divisable.\n",
    "\n",
    "    This is done directly by totaling the contribution of an e + o combination\n",
    "    \"\"\"\n",
    "    if totCount == 1:\n",
    "        return 1\n",
    "    comboCount = evenCount + oddCount\n",
    "    nComboLayers = totCount//comboCount\n",
    "    if nComboLayers*comboCount == totCount:\n",
    "        return 2*nComboLayers\n",
    "    elif nComboLayers*comboCount + evenCount == totCount:\n",
    "        return 2*nComboLayers + 1\n",
    "    else:\n",
    "        print(\"does not appear evenly divisable\")\n",
    "        return None\n"
   ]
  },
  {
   "cell_type": "code",
   "execution_count": 27,
   "metadata": {},
   "outputs": [
    {
     "data": {
      "text/plain": [
       "True"
      ]
     },
     "execution_count": 27,
     "metadata": {},
     "output_type": "execute_result"
    }
   ],
   "source": [
    "4 == computeNLayers(evenCount=2, oddCount=1, totCount=6) # 2 + 1 + 2 + 1"
   ]
  },
  {
   "cell_type": "code",
   "execution_count": 28,
   "metadata": {},
   "outputs": [
    {
     "data": {
      "text/plain": [
       "True"
      ]
     },
     "execution_count": 28,
     "metadata": {},
     "output_type": "execute_result"
    }
   ],
   "source": [
    "3 == computeNLayers(evenCount=2, oddCount=5, totCount=9) # 2 + 5 + 2"
   ]
  },
  {
   "cell_type": "code",
   "execution_count": 29,
   "metadata": {},
   "outputs": [],
   "source": [
    "# None == computeNLayers(evenCount=2, oddCount=5, totCount=8) # 2 + 5 + ?"
   ]
  },
  {
   "cell_type": "markdown",
   "metadata": {},
   "source": [
    "Generates Device Labels for mesh which can realize a given kernel size.\n",
    "It will return labels for each input port, output port, mixer, and thru.  Only the mixers\n",
    "are used for mesh calcu\n",
    "\n",
    "This is done in a naive fashion, stepping across the mesh from the input ports to\n",
    "the output ports.  For lines which do not intersect a mixer, a thru will be inserted. "
   ]
  },
  {
   "cell_type": "code",
   "execution_count": 30,
   "metadata": {},
   "outputs": [],
   "source": [
    "def generateDeviceLabels(kernelSize, mixerLabel='m', thruLabel='t', inputLabel='i', outputLabel='o', verbose=False):\n",
    "    NN = kernelSize\n",
    "    evenCount = NN//2\n",
    "    oddCount = (NN-1)//2\n",
    "    if verbose: print(\"NN:\", NN)\n",
    "    nMixers = NN*(NN-1)//2\n",
    "    if verbose: print(\"nDOFs:\", nMixers)\n",
    "    if verbose: print(\"evenCounts:\", evenCount, \"\\toddCounts:\", oddCount)\n",
    "    nLayers = computeNLayers(evenCount, oddCount, nMixers)\n",
    "    if verbose: print(\"nLayers:\", nLayers)\n",
    "    mixers = []\n",
    "    thrus = []\n",
    "    inPorts = [(inputLabel, i) for i in range(kernelSize)]\n",
    "    if verbose: print(\"inPorts:\", inPorts)    \n",
    "    outPorts = [(outputLabel, i) for i in range(kernelSize)]\n",
    "    if verbose: print(\"outPorts:\", outPorts)    \n",
    "    (i, j) = (0, 0)\n",
    "    while i < nLayers:\n",
    "        oddLayer = (i%2 == 1)\n",
    "        if (j == 0 and oddLayer) or (j == NN - 1):\n",
    "            thrus.append((thruLabel, i, j))\n",
    "            j += 1\n",
    "        else:\n",
    "            mixers.append((mixerLabel, i, j))\n",
    "            j += 2\n",
    "        if j >= NN:\n",
    "            j = 0\n",
    "            i += 1\n",
    "    if verbose: print(\"mixers:\", mixers)\n",
    "    if verbose: print(\"thrus:\", thrus)\n",
    "    return (inPorts, mixers, thrus, outPorts)"
   ]
  },
  {
   "cell_type": "code",
   "execution_count": 31,
   "metadata": {},
   "outputs": [
    {
     "name": "stdout",
     "output_type": "stream",
     "text": [
      "NN: 5\n",
      "nDOFs: 10\n",
      "evenCounts: 2 \toddCounts: 2\n",
      "nLayers: 5\n",
      "inPorts: [('i', 0), ('i', 1), ('i', 2), ('i', 3), ('i', 4)]\n",
      "outPorts: [('o', 0), ('o', 1), ('o', 2), ('o', 3), ('o', 4)]\n",
      "mixers: [('m', 0, 0), ('m', 0, 2), ('m', 1, 1), ('m', 1, 3), ('m', 2, 0), ('m', 2, 2), ('m', 3, 1), ('m', 3, 3), ('m', 4, 0), ('m', 4, 2)]\n",
      "thrus: [('t', 0, 4), ('t', 1, 0), ('t', 2, 4), ('t', 3, 0), ('t', 4, 4)]\n"
     ]
    }
   ],
   "source": [
    "(inPorts, mixers, thrus, outPorts) = generateDeviceLabels(kernelSize=5, mixerLabel='m', thruLabel='t', verbose=True)"
   ]
  },
  {
   "cell_type": "markdown",
   "metadata": {},
   "source": [
    "Generates Mixer Labels for a mesh which can realize a given kernel size.\n",
    "\n",
    "This is done in a naive fashion, stepping across the mesh from the input ports\n",
    "to the output ports.  Mixers are grouped by column.  In other words, all mixers\n",
    "which touch the input ports are in the first list."
   ]
  },
  {
   "cell_type": "code",
   "execution_count": 32,
   "metadata": {},
   "outputs": [],
   "source": [
    "def generateMixerLabels(kernelSize, mixerLabel='m', verbose=False):\n",
    "    NN = kernelSize\n",
    "    evenCount = NN//2\n",
    "    oddCount = (NN-1)//2\n",
    "    if verbose: print(\"NN:\", NN)\n",
    "    nMixers = NN*(NN-1)//2\n",
    "    if verbose: print(\"nDOFs:\", nMixers)\n",
    "    if verbose: print(\"evenCounts:\", evenCount, \"\\toddCounts:\", oddCount)\n",
    "    nLayers = computeNLayers(evenCount, oddCount, nMixers)\n",
    "    if verbose: print(\"nLayers:\", nLayers)\n",
    "    mixers = []\n",
    "    (i, j) = (0, 0)\n",
    "    for i in range(nLayers):\n",
    "        if EvenQ(i):\n",
    "            colList = [(mixerLabel, i, 2*j) for j in range(0, evenCount)]\n",
    "        if OddQ(i):\n",
    "            colList = [(mixerLabel, i, 2*j + 1) for j in range(0, oddCount)]            \n",
    "        mixers.append(colList)\n",
    "    return (mixers)"
   ]
  },
  {
   "cell_type": "code",
   "execution_count": 33,
   "metadata": {},
   "outputs": [
    {
     "name": "stdout",
     "output_type": "stream",
     "text": [
      "NN: 5\n",
      "nDOFs: 10\n",
      "evenCounts: 2 \toddCounts: 2\n",
      "nLayers: 5\n"
     ]
    },
    {
     "data": {
      "text/plain": [
       "[[('m', 0, 0), ('m', 0, 2)],\n",
       " [('m', 1, 1), ('m', 1, 3)],\n",
       " [('m', 2, 0), ('m', 2, 2)],\n",
       " [('m', 3, 1), ('m', 3, 3)],\n",
       " [('m', 4, 0), ('m', 4, 2)]]"
      ]
     },
     "execution_count": 33,
     "metadata": {},
     "output_type": "execute_result"
    }
   ],
   "source": [
    "generateMixerLabels(kernelSize=5, mixerLabel='m', verbose=True)"
   ]
  },
  {
   "cell_type": "markdown",
   "metadata": {},
   "source": [
    "Generates Mixer Labels for a mesh which can realize a given kernel size.\n",
    "\n",
    "This is done on the diagonal to create a list which corresponds to the order in\n",
    "which they are nulled according to Clements et al.  Mixers are grouped by diagonal."
   ]
  },
  {
   "cell_type": "code",
   "execution_count": 34,
   "metadata": {},
   "outputs": [],
   "source": [
    "def generateMixerLabelsDiag(kernelSize, mixerLabel='m', verbose=False):\n",
    "    NN = kernelSize\n",
    "    orderedLabels = []\n",
    "    for i in range(NN-1):\n",
    "        diagList = []\n",
    "        for j in range(i+1):\n",
    "            if EvenQ(i):\n",
    "                label = (mixerLabel, j, i - j)\n",
    "            else:\n",
    "                label = (mixerLabel, NN - j - 1, NN - (i - j) - 2)\n",
    "            diagList.append(label)\n",
    "        orderedLabels.append(diagList)\n",
    "    return orderedLabels"
   ]
  },
  {
   "cell_type": "code",
   "execution_count": 35,
   "metadata": {},
   "outputs": [
    {
     "data": {
      "text/plain": [
       "[[('m', 0, 0)],\n",
       " [('m', 4, 2), ('m', 3, 3)],\n",
       " [('m', 0, 2), ('m', 1, 1), ('m', 2, 0)],\n",
       " [('m', 4, 0), ('m', 3, 1), ('m', 2, 2), ('m', 1, 3)]]"
      ]
     },
     "execution_count": 35,
     "metadata": {},
     "output_type": "execute_result"
    }
   ],
   "source": [
    "generateMixerLabelsDiag(kernelSize=5, mixerLabel='m', verbose=False)"
   ]
  },
  {
   "cell_type": "markdown",
   "metadata": {},
   "source": [
    "We now have three ways of generating mixer labels.  Let's confirm they all give the same results."
   ]
  },
  {
   "cell_type": "code",
   "execution_count": 36,
   "metadata": {},
   "outputs": [],
   "source": [
    "NN = 100\n",
    "(inPorts, mixers, thrus, outPorts) = generateDeviceLabels(kernelSize=NN, mixerLabel='m', thruLabel='t', verbose=False)\n",
    "s1 = mixers\n",
    "s2 = list(concat(generateMixerLabels(kernelSize=NN, mixerLabel='m', verbose=False)))\n",
    "s3 = list(concat(generateMixerLabelsDiag(kernelSize=NN, mixerLabel='m', verbose=False)))"
   ]
  },
  {
   "cell_type": "code",
   "execution_count": 37,
   "metadata": {},
   "outputs": [
    {
     "data": {
      "text/plain": [
       "True"
      ]
     },
     "execution_count": 37,
     "metadata": {},
     "output_type": "execute_result"
    }
   ],
   "source": [
    "sorted(s1) == sorted(s2) and sorted(s1) == sorted(s3)\n"
   ]
  },
  {
   "cell_type": "markdown",
   "metadata": {},
   "source": [
    "### Drawing"
   ]
  },
  {
   "cell_type": "code",
   "execution_count": 38,
   "metadata": {},
   "outputs": [
    {
     "name": "stdout",
     "output_type": "stream",
     "text": [
      "NN: 5\n",
      "nDOFs: 10\n",
      "evenCounts: 2 \toddCounts: 2\n",
      "nLayers: 5\n",
      "inPorts: [('i', 0), ('i', 1), ('i', 2), ('i', 3), ('i', 4)]\n",
      "outPorts: [('o', 0), ('o', 1), ('o', 2), ('o', 3), ('o', 4)]\n",
      "mixers: [('m', 0, 0), ('m', 0, 2), ('m', 1, 1), ('m', 1, 3), ('m', 2, 0), ('m', 2, 2), ('m', 3, 1), ('m', 3, 3), ('m', 4, 0), ('m', 4, 2)]\n",
      "thrus: [('t', 0, 4), ('t', 1, 0), ('t', 2, 4), ('t', 3, 0), ('t', 4, 4)]\n"
     ]
    }
   ],
   "source": [
    "(inPortLabels, mixerLabels, thruLabels, outPortLabels) = generateDeviceLabels(kernelSize=5, mixerLabel='m', thruLabel='t', verbose=True)"
   ]
  },
  {
   "cell_type": "code",
   "execution_count": 39,
   "metadata": {},
   "outputs": [],
   "source": [
    "def makeGraph(inPortLabels, mixerLabels, thruLabels, outPortLabels):\n",
    "    G = nx.Graph()\n",
    "    maxMixerX = np.max(np.array(mixerLabels,dtype=object)[:,1])\n",
    "    maxMixerY = np.max(np.array(mixerLabels,dtype=object)[:,2])\n",
    "    for lab in inPortLabels:\n",
    "        (_, y) = lab\n",
    "        G.add_node(lab, pos=(-1, -y), col='#88ff88')\n",
    "    for lab in mixerLabels:\n",
    "        (_, x, y) = lab\n",
    "        G.add_node(lab, pos=(x, -y-0.5), col='#ffff00')\n",
    "    for lab in thruLabels:\n",
    "        (_, x, y) = lab\n",
    "        if y == 0:\n",
    "            G.add_node(lab, pos=(x, -y-0.5), col='#8888ff')\n",
    "        else:\n",
    "            G.add_node(lab, pos=(x, -y+0.5), col='#8888ff')\n",
    "    for lab in outPortLabels:\n",
    "        (_, y) = lab\n",
    "        G.add_node(lab, pos=(maxMixerX+1, -y), col='#ff8888')\n",
    "    for lab in inPortLabels:\n",
    "        pass\n",
    "    allElements = set()\n",
    "    for l in (inPortLabels, mixerLabels, thruLabels, outPortLabels):\n",
    "        allElements.update(l)\n",
    "    for lab in mixerLabels:\n",
    "        (_, x, y) = lab\n",
    "        potLab = ('m', x+1, y+1)\n",
    "        if potLab in allElements:\n",
    "            G.add_edge(lab, potLab)\n",
    "        potLab = ('m', x+1, y-1)\n",
    "        if potLab in allElements:\n",
    "            G.add_edge(lab, potLab)\n",
    "        potLab = ('t', x+1, y)\n",
    "        if potLab in allElements:\n",
    "            G.add_edge(lab, potLab)\n",
    "        potLab = ('t', x+1, y+1)\n",
    "        if potLab in allElements:\n",
    "            G.add_edge(lab, potLab)\n",
    "        potLab = ('t', x-1, y)\n",
    "        if potLab in allElements:\n",
    "            G.add_edge(lab, potLab)\n",
    "        potLab = ('t', x-1, y+1)\n",
    "        if potLab in allElements:\n",
    "            G.add_edge(lab, potLab)\n",
    "    for lab in inPortLabels:\n",
    "        (_, y) = lab\n",
    "        potLab = ('m', 0, y-1)\n",
    "        if potLab in allElements:\n",
    "            G.add_edge(lab, potLab)\n",
    "        potLab = ('m', 0, y)\n",
    "        if potLab in allElements:\n",
    "            G.add_edge(lab, potLab)\n",
    "        potLab = ('t', 0, y)\n",
    "        if potLab in allElements:\n",
    "            G.add_edge(lab, potLab)\n",
    "    for lab in outPortLabels:\n",
    "        (_, y) = lab\n",
    "        potLab = ('m', maxMixerX, y-1)\n",
    "        if potLab in allElements:\n",
    "            G.add_edge(lab, potLab)\n",
    "        potLab = ('m', maxMixerX, y)\n",
    "        if potLab in allElements:\n",
    "            G.add_edge(lab, potLab)\n",
    "        potLab = ('t', maxMixerX, y)\n",
    "        if potLab in allElements:\n",
    "            G.add_edge(lab, potLab)\n",
    "    return G                               \n",
    "    "
   ]
  },
  {
   "cell_type": "code",
   "execution_count": 40,
   "metadata": {},
   "outputs": [
    {
     "data": {
      "image/png": "[encoded data removed]",
      "text/plain": [
       "<Figure size 432x288 with 1 Axes>"
      ]
     },
     "metadata": {},
     "output_type": "display_data"
    }
   ],
   "source": [
    "(inPortLabels, mixerLabels, thruLabels, outPortLabels) = generateDeviceLabels(kernelSize=5, mixerLabel='m', thruLabel='t', verbose=False)\n",
    "G = makeGraph(inPortLabels, mixerLabels, thruLabels, outPortLabels)\n",
    "pos = nx.get_node_attributes(G,'pos')\n",
    "colors = nx.get_node_attributes(G, 'col')\n",
    "nx.draw(G, pos, with_labels=True, node_size=2000, font_size=10, node_color=list(colors.values()))\n",
    "fig = plt.figure(1, figsize=(20, 10), dpi=60)\n",
    "ax = plt.gca()\n",
    "ax.margins(0.10)\n",
    "plt.axis(\"off\")\n",
    "plt.show()"
   ]
  },
  {
   "cell_type": "markdown",
   "metadata": {},
   "source": [
    "### Solving"
   ]
  },
  {
   "cell_type": "code",
   "execution_count": 41,
   "metadata": {},
   "outputs": [],
   "source": [
    "def ChopPrint(A, tol=1e-16):\n",
    "    AC = A.copy()\n",
    "    AC.real[abs(AC.real) < tol] = 0.0\n",
    "    AC.imag[abs(AC.imag) < tol] = 0.0\n",
    "    print(AC)"
   ]
  },
  {
   "cell_type": "markdown",
   "metadata": {},
   "source": [
    "As part the Clements iterative algorithm, a matrix product is nulled element by element by\n",
    "tweaking the $\\theta$ and $\\phi$ on a mixer while the effect of that mixer is applied to either\n",
    "the left or right side of the matrix product.  For each iteration, we need to know:\n",
    "* which mixer is being tweaked\n",
    "* whether it is being applied to the left or right side\n",
    "* which element of the matrix product is being nulled"
   ]
  },
  {
   "cell_type": "markdown",
   "metadata": {},
   "source": [
    "The ordering of the mixers has already been computed and an example is shown below."
   ]
  },
  {
   "cell_type": "code",
   "execution_count": 42,
   "metadata": {},
   "outputs": [],
   "source": [
    "NN = 5"
   ]
  },
  {
   "cell_type": "code",
   "execution_count": 43,
   "metadata": {},
   "outputs": [
    {
     "name": "stdout",
     "output_type": "stream",
     "text": [
      "frontLabelsM: [[('m', 0, 0)], [('m', 0, 2), ('m', 1, 1), ('m', 2, 0)]]\n",
      "backLabelsM: [[('m', 4, 2), ('m', 3, 3)], [('m', 4, 0), ('m', 3, 1), ('m', 2, 2), ('m', 1, 3)]]\n"
     ]
    }
   ],
   "source": [
    "mixerLabelsDiag = generateMixerLabelsDiag(kernelSize=NN, mixerLabel='m', verbose=False)\n",
    "frontLabelsM = mixerLabelsDiag[0::2]\n",
    "print(\"frontLabelsM:\", frontLabelsM)\n",
    "backLabelsM = mixerLabelsDiag[1::2]\n",
    "print(\"backLabelsM:\", backLabelsM)"
   ]
  },
  {
   "cell_type": "code",
   "execution_count": 44,
   "metadata": {},
   "outputs": [
    {
     "name": "stdout",
     "output_type": "stream",
     "text": [
      "LHS:\n",
      "deque([{'item': 'D'}])\n",
      "RHS:\n",
      "deque([{'inv': False, 'item': ('m', 1, 3)},\n",
      "       {'inv': False, 'item': ('m', 2, 2)},\n",
      "       {'inv': False, 'item': ('m', 3, 1)},\n",
      "       {'inv': False, 'item': ('m', 4, 0)},\n",
      "       {'inv': False, 'item': ('m', 3, 3)},\n",
      "       {'inv': False, 'item': ('m', 4, 2)},\n",
      "       {'item': 'U'},\n",
      "       {'inv': True, 'item': ('m', 0, 0)},\n",
      "       {'inv': True, 'item': ('m', 0, 2)},\n",
      "       {'inv': True, 'item': ('m', 1, 1)},\n",
      "       {'inv': True, 'item': ('m', 2, 0)}])\n",
      "UPos: 6\n"
     ]
    }
   ],
   "source": [
    "LHS = deque([{'item':'D'}])\n",
    "RHS = deque()\n",
    "RHS.append({'item':'U'})\n",
    "UPos = 0\n",
    "for listM in frontLabelsM:\n",
    "    for label in listM:\n",
    "        operatorDesc = {'item':label, 'inv':True}\n",
    "        RHS.append(operatorDesc)\n",
    "for listM in backLabelsM:\n",
    "    for label in listM:\n",
    "        operatorDesc = {'item':label, 'inv':False}\n",
    "        RHS.appendleft(operatorDesc)\n",
    "        UPos += 1\n",
    "print(\"LHS:\")\n",
    "pprint(LHS)\n",
    "print(\"RHS:\")\n",
    "pprint(RHS)\n",
    "print(\"UPos:\", UPos)"
   ]
  },
  {
   "cell_type": "code",
   "execution_count": 45,
   "metadata": {},
   "outputs": [],
   "source": [
    "def generateMatrixZeroTargets(kernelSize):\n",
    "    NN = kernelSize\n",
    "    orderedLabels = []\n",
    "    cMax = 0\n",
    "    for i in range(1, NN):\n",
    "        diagList = []\n",
    "        cMin = 0\n",
    "        cMax = i\n",
    "        rMin = NN - i\n",
    "        rMax = NN\n",
    "        for r,c in zip(range(rMin, rMax), range(cMin, cMax)):\n",
    "            label = (r, c)\n",
    "            diagList.append(label)\n",
    "        if OddQ(i):\n",
    "            diagList.reverse()\n",
    "        orderedLabels.append(diagList)\n",
    "    return orderedLabels"
   ]
  },
  {
   "cell_type": "code",
   "execution_count": 46,
   "metadata": {},
   "outputs": [
    {
     "data": {
      "text/plain": [
       "[{'targMat': 7,\n",
       "  'matRange': (6, 7),\n",
       "  'side': 'R',\n",
       "  'targElem': (4, 0),\n",
       "  'mixer': ('m', 0, 0)},\n",
       " {'targMat': 5,\n",
       "  'matRange': (6, 8),\n",
       "  'side': 'L',\n",
       "  'targElem': (3, 0),\n",
       "  'mixer': ('m', 4, 2)},\n",
       " {'targMat': 4,\n",
       "  'matRange': (5, 8),\n",
       "  'side': 'L',\n",
       "  'targElem': (4, 1),\n",
       "  'mixer': ('m', 3, 3)},\n",
       " {'targMat': 8,\n",
       "  'matRange': (4, 8),\n",
       "  'side': 'R',\n",
       "  'targElem': (4, 2),\n",
       "  'mixer': ('m', 0, 2)},\n",
       " {'targMat': 9,\n",
       "  'matRange': (4, 9),\n",
       "  'side': 'R',\n",
       "  'targElem': (3, 1),\n",
       "  'mixer': ('m', 1, 1)},\n",
       " {'targMat': 10,\n",
       "  'matRange': (4, 10),\n",
       "  'side': 'R',\n",
       "  'targElem': (2, 0),\n",
       "  'mixer': ('m', 2, 0)},\n",
       " {'targMat': 3,\n",
       "  'matRange': (4, 11),\n",
       "  'side': 'L',\n",
       "  'targElem': (1, 0),\n",
       "  'mixer': ('m', 4, 0)},\n",
       " {'targMat': 2,\n",
       "  'matRange': (3, 11),\n",
       "  'side': 'L',\n",
       "  'targElem': (2, 1),\n",
       "  'mixer': ('m', 3, 1)},\n",
       " {'targMat': 1,\n",
       "  'matRange': (2, 11),\n",
       "  'side': 'L',\n",
       "  'targElem': (3, 2),\n",
       "  'mixer': ('m', 2, 2)},\n",
       " {'targMat': 0,\n",
       "  'matRange': (1, 11),\n",
       "  'side': 'L',\n",
       "  'targElem': (4, 3),\n",
       "  'mixer': ('m', 1, 3)}]"
      ]
     },
     "execution_count": 46,
     "metadata": {},
     "output_type": "execute_result"
    }
   ],
   "source": [
    "leftRange = 0\n",
    "rightRange = 0\n",
    "\n",
    "solvingPath = []\n",
    "for n in range(1, NN):\n",
    "    # zeroTargL = zeroTargs[(n-1)]\n",
    "    for i in range(1, n+1):\n",
    "        # zeroTarg = zeroTargL[i-1]\n",
    "        if OddQ(n):\n",
    "            newItem = {'targMat': rightRange + 1 + UPos, \n",
    "                        'matRange': (leftRange + UPos, rightRange + UPos + 1),\n",
    "                        'side': 'R'}\n",
    "            solvingPath.append(newItem)\n",
    "            rightRange += 1\n",
    "        if EvenQ(n):\n",
    "            newItem = {'targMat': leftRange - 1 + UPos,\n",
    "                       'matRange': (leftRange + UPos, rightRange + UPos + 1),\n",
    "                       'side': 'L'}\n",
    "            solvingPath.append(newItem)\n",
    "            leftRange -= 1\n",
    "\n",
    "zeroTargs = concat(generateMatrixZeroTargets(kernelSize=NN))\n",
    "mixerLabels = concat(generateMixerLabelsDiag(kernelSize=NN, mixerLabel='m', verbose=False))\n",
    "\n",
    "for step, zeroTarg, mixerLabel in zip(solvingPath, zeroTargs, mixerLabels):\n",
    "    step['targElem'] = zeroTarg\n",
    "    step['mixer'] = mixerLabel\n",
    "solvingPath\n"
   ]
  },
  {
   "cell_type": "markdown",
   "metadata": {},
   "source": [
    "Now let's apply this to a random unitary matrix."
   ]
  },
  {
   "cell_type": "code",
   "execution_count": 47,
   "metadata": {},
   "outputs": [],
   "source": [
    "U = getRandomUnitaryMatrix(n=NN)"
   ]
  },
  {
   "cell_type": "markdown",
   "metadata": {},
   "source": [
    "We can create a dictionary of mixers using the labels as keys."
   ]
  },
  {
   "cell_type": "code",
   "execution_count": 48,
   "metadata": {},
   "outputs": [],
   "source": [
    "mixerLabelsDiag = generateMixerLabelsDiag(NN)\n",
    "mixerDict = {label:Mixer() for label in concat(mixerLabelsDiag)}"
   ]
  },
  {
   "cell_type": "code",
   "execution_count": 49,
   "metadata": {},
   "outputs": [],
   "source": [
    "D = np.identity(n=NN, dtype='complex')"
   ]
  },
  {
   "cell_type": "markdown",
   "metadata": {},
   "source": [
    "For each item description, we can obtain a matrix.  As such, the LHS and RHS above\n",
    "represent matrix products."
   ]
  },
  {
   "cell_type": "code",
   "execution_count": 50,
   "metadata": {},
   "outputs": [],
   "source": [
    "def getM(desc):\n",
    "    if desc['item'] == 'U':\n",
    "        M = U\n",
    "    elif desc['item'] == 'D':\n",
    "        M = D\n",
    "    elif desc['item'][0] == 'm':\n",
    "        (_, i, j) = desc['item']\n",
    "        mixer = mixerDict[desc['item']]\n",
    "        theta_phi = (mixer.theta, mixer.phi)\n",
    "        if(desc['inv'] == False):\n",
    "            M = TMesh(theta_phi, N=NN, lines=(j, j+1))\n",
    "        else:\n",
    "            M = TinvMesh(theta_phi, N=NN, lines=(j, j+1))\n",
    "    else:\n",
    "        print(\"You shouldn't be here\")\n",
    "    return M"
   ]
  },
  {
   "cell_type": "code",
   "execution_count": 51,
   "metadata": {},
   "outputs": [],
   "source": [
    "# for desc in LHS:\n",
    "#     print(getM(desc))\n",
    "\n",
    "# for desc in RHS:\n",
    "#     print(getM(desc))"
   ]
  },
  {
   "cell_type": "markdown",
   "metadata": {},
   "source": [
    "We will use the `minimize` function above to find the proper $\\theta$ and $\\phi$\n",
    "for each mixer in turn.  Here `f` is a cost function which will be minimized by\n",
    "tweaking $\\theta$ and $\\phi$ while trying to render the element `zeroTarg` of \n",
    "$(S_{\\mathrm{tot}} \\times T^{-1})$ to be zero, assuming `side = 'r'`.  Note that if\n",
    "`side = 'l'`, then we will be looking at $(T \\times S_{\\mathrm{tot}})$"
   ]
  },
  {
   "cell_type": "code",
   "execution_count": 52,
   "metadata": {},
   "outputs": [],
   "source": [
    "from scipy.optimize import minimize"
   ]
  },
  {
   "cell_type": "code",
   "execution_count": 53,
   "metadata": {},
   "outputs": [],
   "source": [
    "def f(theta_phi, Stot, side, zeroTarg, lines):\n",
    "    NN, _ = Stot.shape\n",
    "    if side == 'R':\n",
    "        Ainv = TinvMesh(theta_phi, N=NN, lines=lines)\n",
    "        Ttot = Stot@Ainv\n",
    "    elif side == 'L':\n",
    "        A = TMesh(theta_phi, N=NN, lines=lines)\n",
    "        Ttot = A@Stot\n",
    "    else:\n",
    "        print(\"you shouldn't be here\")\n",
    "    return np.abs(Ttot[zeroTarg])"
   ]
  },
  {
   "cell_type": "code",
   "execution_count": 54,
   "metadata": {},
   "outputs": [
    {
     "name": "stdout",
     "output_type": "stream",
     "text": [
      "[{'matRange': (6, 7),\n",
      "  'mixer': ('m', 0, 0),\n",
      "  'side': 'R',\n",
      "  'targElem': (4, 0),\n",
      "  'targMat': 7},\n",
      " {'matRange': (6, 8),\n",
      "  'mixer': ('m', 4, 2),\n",
      "  'side': 'L',\n",
      "  'targElem': (3, 0),\n",
      "  'targMat': 5},\n",
      " {'matRange': (5, 8),\n",
      "  'mixer': ('m', 3, 3),\n",
      "  'side': 'L',\n",
      "  'targElem': (4, 1),\n",
      "  'targMat': 4},\n",
      " {'matRange': (4, 8),\n",
      "  'mixer': ('m', 0, 2),\n",
      "  'side': 'R',\n",
      "  'targElem': (4, 2),\n",
      "  'targMat': 8},\n",
      " {'matRange': (4, 9),\n",
      "  'mixer': ('m', 1, 1),\n",
      "  'side': 'R',\n",
      "  'targElem': (3, 1),\n",
      "  'targMat': 9},\n",
      " {'matRange': (4, 10),\n",
      "  'mixer': ('m', 2, 0),\n",
      "  'side': 'R',\n",
      "  'targElem': (2, 0),\n",
      "  'targMat': 10},\n",
      " {'matRange': (4, 11),\n",
      "  'mixer': ('m', 4, 0),\n",
      "  'side': 'L',\n",
      "  'targElem': (1, 0),\n",
      "  'targMat': 3},\n",
      " {'matRange': (3, 11),\n",
      "  'mixer': ('m', 3, 1),\n",
      "  'side': 'L',\n",
      "  'targElem': (2, 1),\n",
      "  'targMat': 2},\n",
      " {'matRange': (2, 11),\n",
      "  'mixer': ('m', 2, 2),\n",
      "  'side': 'L',\n",
      "  'targElem': (3, 2),\n",
      "  'targMat': 1},\n",
      " {'matRange': (1, 11),\n",
      "  'mixer': ('m', 1, 3),\n",
      "  'side': 'L',\n",
      "  'targElem': (4, 3),\n",
      "  'targMat': 0}]\n"
     ]
    }
   ],
   "source": [
    "pprint(solvingPath)"
   ]
  },
  {
   "cell_type": "code",
   "execution_count": 55,
   "metadata": {},
   "outputs": [],
   "source": [
    "RHSL = list(RHS)"
   ]
  },
  {
   "cell_type": "code",
   "execution_count": 56,
   "metadata": {},
   "outputs": [
    {
     "data": {
      "text/plain": [
       "[{'item': ('m', 3, 3), 'inv': False},\n",
       " {'item': ('m', 4, 2), 'inv': False},\n",
       " {'item': 'U'},\n",
       " {'item': ('m', 0, 0), 'inv': True},\n",
       " {'item': ('m', 0, 2), 'inv': True},\n",
       " {'item': ('m', 1, 1), 'inv': True}]"
      ]
     },
     "execution_count": 56,
     "metadata": {},
     "output_type": "execute_result"
    }
   ],
   "source": [
    "RHSL[4:10]"
   ]
  },
  {
   "cell_type": "code",
   "execution_count": 57,
   "metadata": {},
   "outputs": [
    {
     "name": "stdout",
     "output_type": "stream",
     "text": [
      "U:\n",
      "[[-0.31832994-0.08498355j  0.14951723-0.61500162j -0.19138184-0.3226603j   0.4150422 +0.0194724j   0.27690952+0.31750068j]\n",
      " [-0.05482787-0.15950533j -0.04385883-0.14494036j  0.53155104+0.40026463j -0.00432757-0.55254636j -0.04225817+0.44581432j]\n",
      " [ 0.56010829+0.06816944j -0.48469534+0.13675408j  0.04251138-0.3725173j   0.30769257+0.04400491j -0.12022333+0.41995145j]\n",
      " [ 0.50268788-0.17023829j  0.24454725-0.3983181j   0.00135341-0.30389858j -0.12626343-0.44915061j -0.15770963-0.40614766j]\n",
      " [ 0.42292853-0.28997017j -0.11065104-0.30356338j  0.16257942+0.39640944j -0.02595608+0.45505054j  0.48060434-0.10176749j]]\n",
      "{'matRange': (6, 7),\n",
      " 'mixer': ('m', 0, 0),\n",
      " 'side': 'R',\n",
      " 'targElem': (4, 0),\n",
      " 'targMat': 7}\n",
      "('m', 0, 0) [1 1.3] 4.948904795251735e-09\n",
      "{'matRange': (6, 8),\n",
      " 'mixer': ('m', 4, 2),\n",
      " 'side': 'L',\n",
      " 'targElem': (3, 0),\n",
      " 'targMat': 5}\n",
      "('m', 4, 2) [0.34 0.42] 4.014959568489383e-09\n",
      "{'matRange': (5, 8),\n",
      " 'mixer': ('m', 3, 3),\n",
      " 'side': 'L',\n",
      " 'targElem': (4, 1),\n",
      " 'targMat': 4}\n",
      "('m', 3, 3) [-0.68 -0.5] 2.7917388481151265e-09\n",
      "{'matRange': (4, 8),\n",
      " 'mixer': ('m', 0, 2),\n",
      " 'side': 'R',\n",
      " 'targElem': (4, 2),\n",
      " 'targMat': 8}\n",
      "('m', 0, 2) [0.81 -0.18] 4.861161828502039e-09\n",
      "{'matRange': (4, 9),\n",
      " 'mixer': ('m', 1, 1),\n",
      " 'side': 'R',\n",
      " 'targElem': (3, 1),\n",
      " 'targMat': 9}\n",
      "('m', 1, 1) [1.4 -1.5] 1.47321628986422e-09\n",
      "{'matRange': (4, 10),\n",
      " 'mixer': ('m', 2, 0),\n",
      " 'side': 'R',\n",
      " 'targElem': (2, 0),\n",
      " 'targMat': 10}\n",
      "('m', 2, 0) [11 -1.6] 5.847706356767883e-09\n",
      "{'matRange': (4, 11),\n",
      " 'mixer': ('m', 4, 0),\n",
      " 'side': 'L',\n",
      " 'targElem': (1, 0),\n",
      " 'targMat': 3}\n",
      "('m', 4, 0) [0.75 0.81] 8.220680477964624e-09\n",
      "{'matRange': (3, 11),\n",
      " 'mixer': ('m', 3, 1),\n",
      " 'side': 'L',\n",
      " 'targElem': (2, 1),\n",
      " 'targMat': 2}\n",
      "('m', 3, 1) [0.89 0.34] 6.598149643405825e-09\n",
      "{'matRange': (2, 11),\n",
      " 'mixer': ('m', 2, 2),\n",
      " 'side': 'L',\n",
      " 'targElem': (3, 2),\n",
      " 'targMat': 1}\n",
      "('m', 2, 2) [-1.4 -0.22] 1.2590203102806088e-09\n",
      "{'matRange': (1, 11),\n",
      " 'mixer': ('m', 1, 3),\n",
      " 'side': 'L',\n",
      " 'targElem': (4, 3),\n",
      " 'targMat': 0}\n",
      "('m', 1, 3) [0.94 1.4] 4.436072154581003e-09\n"
     ]
    }
   ],
   "source": [
    "NN = 5\n",
    "U = getRandomUnitaryMatrix(n=NN)\n",
    "print(\"U:\")\n",
    "print(U)\n",
    "\n",
    "Stot = U\n",
    "for pathStep in solvingPath:\n",
    "    pprint(pathStep)\n",
    "\n",
    "    lR, rR = pathStep['matRange']\n",
    "    side = pathStep['side']\n",
    "    zeroTarg = pathStep['targElem']\n",
    "    mixerLabel = pathStep['mixer']\n",
    "    (_, _, topLine) = mixerLabel\n",
    "    lines = (topLine, topLine + 1)\n",
    "    \n",
    "    if rR - lR == 1:\n",
    "        partialProduct = U\n",
    "    else:\n",
    "        partialProduct = np.linalg.multi_dot(list(map(getM, RHSL[lR:rR])))\n",
    "    sol = minimize(f, x0=[0,0], args=(partialProduct, side, zeroTarg, lines))\n",
    "    setThetaPhi = sol.x\n",
    "    print(mixerLabel, setThetaPhi, sol.fun)\n",
    "    (_, i, j) = mixerLabel\n",
    "    setMixer = mixerDict[mixerLabel]\n",
    "    setMixer.theta, setMixer.phi = setThetaPhi"
   ]
  },
  {
   "cell_type": "markdown",
   "metadata": {},
   "source": [
    "At this point, the RHS should be a diagonal matrix corresponding to $\\mathbf{D}$"
   ]
  },
  {
   "cell_type": "code",
   "execution_count": 58,
   "metadata": {},
   "outputs": [
    {
     "name": "stdout",
     "output_type": "stream",
     "text": [
      "[[ 0.31365461+0.94953714j  0.        +0.j          0.        +0.j          0.        +0.j          0.        +0.j        ]\n",
      " [ 0.        +0.j          0.24322739+0.9699693j   0.        +0.j          0.        +0.j          0.        +0.j        ]\n",
      " [ 0.        +0.j          0.        +0.j          0.89606933-0.44391414j  0.        +0.j          0.        +0.j        ]\n",
      " [ 0.        +0.j          0.        +0.j          0.        +0.j         -0.19114128-0.98156254j  0.        +0.j        ]\n",
      " [ 0.        +0.j          0.        +0.j          0.        +0.j          0.        +0.j          0.99995823-0.00913967j]]\n"
     ]
    }
   ],
   "source": [
    "ChopPrint(np.linalg.multi_dot(list(map(getM, RHS))), tol=1e-8)"
   ]
  },
  {
   "cell_type": "markdown",
   "metadata": {},
   "source": [
    "There will be some minor numerical errors for off-diagonal terms which we will remove using element-by-element multiplication\n",
    "with an identity matrix"
   ]
  },
  {
   "cell_type": "code",
   "execution_count": 60,
   "metadata": {},
   "outputs": [
    {
     "name": "stdout",
     "output_type": "stream",
     "text": [
      "[[ 0.31365461+0.94953714j  0.        +0.j          0.        -0.j          0.        +0.j          0.        +0.j        ]\n",
      " [ 0.        +0.j          0.24322739+0.9699693j   0.        +0.j         -0.        +0.j         -0.        +0.j        ]\n",
      " [ 0.        +0.j          0.        -0.j          0.89606933-0.44391414j -0.        +0.j          0.        +0.j        ]\n",
      " [-0.        +0.j          0.        +0.j          0.        -0.j         -0.19114128-0.98156254j  0.        +0.j        ]\n",
      " [ 0.        -0.j         -0.        +0.j         -0.        +0.j         -0.        +0.j          0.99995823-0.00913967j]]\n"
     ]
    }
   ],
   "source": [
    "D[:] = np.identity(n=NN) * np.linalg.multi_dot(list(map(getM, RHS)))\n",
    "print(D)"
   ]
  },
  {
   "cell_type": "markdown",
   "metadata": {},
   "source": [
    "Next, we pop the matrices off the RHS to the LHS.  In typical fashion, this involves the inverse.  We begin with the equation below"
   ]
  },
  {
   "cell_type": "code",
   "execution_count": 61,
   "metadata": {},
   "outputs": [
    {
     "name": "stdout",
     "output_type": "stream",
     "text": [
      "deque([{'item': 'D'}])\n",
      " == \n",
      "deque([{'inv': False, 'item': ('m', 1, 3)},\n",
      "       {'inv': False, 'item': ('m', 2, 2)},\n",
      "       {'inv': False, 'item': ('m', 3, 1)},\n",
      "       {'inv': False, 'item': ('m', 4, 0)},\n",
      "       {'inv': False, 'item': ('m', 3, 3)},\n",
      "       {'inv': False, 'item': ('m', 4, 2)},\n",
      "       {'item': 'U'},\n",
      "       {'inv': True, 'item': ('m', 0, 0)},\n",
      "       {'inv': True, 'item': ('m', 0, 2)},\n",
      "       {'inv': True, 'item': ('m', 1, 1)},\n",
      "       {'inv': True, 'item': ('m', 2, 0)}])\n"
     ]
    }
   ],
   "source": [
    "pprint(LHS)\n",
    "print(\" == \")\n",
    "pprint(RHS)"
   ]
  },
  {
   "cell_type": "markdown",
   "metadata": {},
   "source": [
    "And then first strip the everything to the \"right\" of the $U$, and then everything to the \"left\" of the $U$."
   ]
  },
  {
   "cell_type": "code",
   "execution_count": 62,
   "metadata": {},
   "outputs": [],
   "source": [
    "while(True):\n",
    "    term = RHS[-1]\n",
    "    if term['item'] == 'U':\n",
    "        break\n",
    "    RHS.pop()\n",
    "    term['inv'] = not term['inv']\n",
    "    LHS.append(term)\n",
    "\n",
    "while(True):\n",
    "    term = RHS[0]\n",
    "    if term['item'] == 'U':\n",
    "        break\n",
    "    RHS.popleft()\n",
    "    term['inv'] = not term['inv']\n",
    "    LHS.appendleft(term)\n",
    "\n",
    "(LHS, RHS) = (RHS, LHS)"
   ]
  },
  {
   "cell_type": "code",
   "execution_count": 63,
   "metadata": {},
   "outputs": [
    {
     "name": "stdout",
     "output_type": "stream",
     "text": [
      "deque([{'item': 'U'}])\n",
      " == \n",
      "deque([{'inv': True, 'item': ('m', 4, 2)},\n",
      "       {'inv': True, 'item': ('m', 3, 3)},\n",
      "       {'inv': True, 'item': ('m', 4, 0)},\n",
      "       {'inv': True, 'item': ('m', 3, 1)},\n",
      "       {'inv': True, 'item': ('m', 2, 2)},\n",
      "       {'inv': True, 'item': ('m', 1, 3)},\n",
      "       {'item': 'D'},\n",
      "       {'inv': False, 'item': ('m', 2, 0)},\n",
      "       {'inv': False, 'item': ('m', 1, 1)},\n",
      "       {'inv': False, 'item': ('m', 0, 2)},\n",
      "       {'inv': False, 'item': ('m', 0, 0)}])\n"
     ]
    }
   ],
   "source": [
    "pprint(LHS)\n",
    "print(\" == \")\n",
    "pprint(RHS)"
   ]
  },
  {
   "cell_type": "markdown",
   "metadata": {},
   "source": [
    "At this point, we have a system of mixers and an array of phase shifters nestled in the middle.  The product of all of these elements is indeed $\\mathbf{U}$."
   ]
  },
  {
   "cell_type": "code",
   "execution_count": 64,
   "metadata": {},
   "outputs": [
    {
     "name": "stdout",
     "output_type": "stream",
     "text": [
      "RHS:\n",
      "[[-0.31832995-0.08498355j  0.14951724-0.61500162j -0.19138185-0.3226603j   0.4150422 +0.0194724j   0.27690951+0.31750068j]\n",
      " [-0.05482787-0.15950533j -0.04385882-0.14494036j  0.53155104+0.40026462j -0.00432757-0.55254636j -0.04225817+0.44581432j]\n",
      " [ 0.56010829+0.06816944j -0.48469534+0.13675407j  0.04251138-0.3725173j   0.30769257+0.04400491j -0.12022333+0.41995146j]\n",
      " [ 0.50268788-0.17023829j  0.24454725-0.3983181j   0.00135341-0.30389858j -0.12626343-0.44915061j -0.15770963-0.40614766j]\n",
      " [ 0.42292853-0.28997018j -0.11065104-0.30356338j  0.16257942+0.39640943j -0.02595608+0.45505054j  0.48060434-0.10176749j]]\n",
      "U: \n",
      "[[-0.31832994-0.08498355j  0.14951723-0.61500162j -0.19138184-0.3226603j   0.4150422 +0.0194724j   0.27690952+0.31750068j]\n",
      " [-0.05482787-0.15950533j -0.04385883-0.14494036j  0.53155104+0.40026463j -0.00432757-0.55254636j -0.04225817+0.44581432j]\n",
      " [ 0.56010829+0.06816944j -0.48469534+0.13675408j  0.04251138-0.3725173j   0.30769257+0.04400491j -0.12022333+0.41995145j]\n",
      " [ 0.50268788-0.17023829j  0.24454725-0.3983181j   0.00135341-0.30389858j -0.12626343-0.44915061j -0.15770963-0.40614766j]\n",
      " [ 0.42292853-0.28997017j -0.11065104-0.30356338j  0.16257942+0.39640944j -0.02595608+0.45505054j  0.48060434-0.10176749j]]\n"
     ]
    }
   ],
   "source": [
    "print(\"RHS:\")\n",
    "print(np.linalg.multi_dot(list(map(getM, RHS))))\n",
    "print(\"U: \")\n",
    "print(U)\n"
   ]
  },
  {
   "cell_type": "markdown",
   "metadata": {},
   "source": [
    "However, we notice that approximately the last half of these elements (left-most) are defined by their inverse.  Additionally, the \n",
    "middle might not be a convenient place to put an array of phase shifters.  Next, we employ a transformation to push \n",
    "$\\mathbf{D}$ to the very end of the structure, which in matrix multiplication would be the left-most term, while transforming\n",
    "the \"inverse mixers\" into standard ones."
   ]
  },
  {
   "cell_type": "markdown",
   "metadata": {},
   "source": [
    "The idea is that given a mixer with transmission coefficient:\n",
    "\n",
    "$$\n",
    "T(\\theta, \\phi) = \\begin{pmatrix}\n",
    "e^{i\\phi} \\cos(\\theta) & -\\sin(\\theta)\\\\\n",
    "e^{i\\phi} \\sin(\\theta) & \\cos(\\theta)\n",
    "\\end{pmatrix}\n",
    "$$\n",
    "\n",
    "and a phase shifter array\n",
    "\n",
    "$$\n",
    "D(\\gamma_1, \\gamma_2) = \\begin{pmatrix}\n",
    "e^{i\\gamma_1}  & 0\\\\\n",
    "0 & e^{i\\gamma_2}\n",
    "\\end{pmatrix}\n",
    "$$\n",
    "\n",
    "and a sequence $(T(\\theta, \\phi))^{-1}\\times D(\\gamma_1, \\gamma_2)$, can we\n",
    "find an equivalent $ D(\\gamma_1', \\gamma_2') \\times T(\\theta', \\phi')$ and if so,\n",
    "is there a convenient transform from $\\{\\theta, \\phi, \\gamma_1, \\gamma2 \\}$ to \n",
    "$\\{\\theta', \\phi', \\gamma_1', \\gamma2'\\}$?"
   ]
  },
  {
   "cell_type": "markdown",
   "metadata": {},
   "source": [
    "After a bit of work, one can conclude that, indeed, such a transformation can\n",
    "occur providing:\n",
    "\\begin{align*} \n",
    "\\theta' &= -\\theta \\\\\n",
    "\\phi' &= \\gamma_1 - \\gamma_2 \\\\\n",
    "\\gamma_1' &= \\gamma_2 - \\phi \\\\\n",
    "\\gamma_2' &= \\gamma_2 \\\\\n",
    "\n",
    "\\end{align*}"
   ]
  },
  {
   "cell_type": "markdown",
   "metadata": {},
   "source": [
    "First we must find the location of the D matrix in the product:"
   ]
  },
  {
   "cell_type": "code",
   "execution_count": 65,
   "metadata": {},
   "outputs": [
    {
     "name": "stdout",
     "output_type": "stream",
     "text": [
      "6\n"
     ]
    }
   ],
   "source": [
    "RHS\n",
    "DPos = next(i for (i, x) in enumerate(RHS) if x['item'] == 'D')\n",
    "print(DPos)"
   ]
  },
  {
   "cell_type": "markdown",
   "metadata": {},
   "source": [
    "Next we iteratively move D to the left, applying the transformtion rules above."
   ]
  },
  {
   "cell_type": "code",
   "execution_count": 66,
   "metadata": {},
   "outputs": [],
   "source": [
    "while DPos > 0:\n",
    "    # get mixer to left of D\n",
    "    termDesc = RHS[DPos - 1]\n",
    "    label = termDesc['item']\n",
    "    (_, _, j) = label\n",
    "    L1, L2 = (j, j+1)\n",
    "    mixer = mixerDict[label]\n",
    "\n",
    "    # get old mixer and D values for the connected lines.\n",
    "    gamma1 = np.real(np.log(D[L1, L1])/I)\n",
    "    gamma2 = np.real(np.log(D[L2, L2])/I)\n",
    "    theta = mixer.theta\n",
    "    phi = mixer.phi\n",
    "\n",
    "    # computer new mixer and D values for the connected lines.\n",
    "    thetap = -theta\n",
    "    phip = gamma1 - gamma2\n",
    "    gamma1p = gamma2 - phi\n",
    "    gamma2p = gamma2\n",
    "\n",
    "    # set the mixer to the new values.\n",
    "    mixer.theta = thetap\n",
    "    mixer.phi = phip\n",
    "    termDesc['inv'] = False\n",
    "    # set D to the new values.\n",
    "    D[L1, L1] = exp(I*gamma1p)\n",
    "    D[L2, L2] = exp(I*gamma2p)\n",
    "\n",
    "    # swap the location of the mixer and D.\n",
    "    (RHS[DPos], RHS[DPos-1]) = (RHS[DPos-1], RHS[DPos])\n",
    "    DPos = DPos - 1"
   ]
  },
  {
   "cell_type": "markdown",
   "metadata": {},
   "source": [
    "And indeed, we see that D is in the front position."
   ]
  },
  {
   "cell_type": "code",
   "execution_count": 68,
   "metadata": {},
   "outputs": [
    {
     "data": {
      "text/plain": [
       "deque([{'item': 'D'},\n",
       "       {'item': ('m', 4, 2), 'inv': False},\n",
       "       {'item': ('m', 3, 3), 'inv': False},\n",
       "       {'item': ('m', 4, 0), 'inv': False},\n",
       "       {'item': ('m', 3, 1), 'inv': False},\n",
       "       {'item': ('m', 2, 2), 'inv': False},\n",
       "       {'item': ('m', 1, 3), 'inv': False},\n",
       "       {'item': ('m', 2, 0), 'inv': False},\n",
       "       {'item': ('m', 1, 1), 'inv': False},\n",
       "       {'item': ('m', 0, 2), 'inv': False},\n",
       "       {'item': ('m', 0, 0), 'inv': False}])"
      ]
     },
     "execution_count": 68,
     "metadata": {},
     "output_type": "execute_result"
    }
   ],
   "source": [
    "RHS"
   ]
  },
  {
   "cell_type": "markdown",
   "metadata": {},
   "source": [
    "and that the product of the above devices, does yield the original $\\mathbf{U}$."
   ]
  },
  {
   "cell_type": "code",
   "execution_count": 69,
   "metadata": {},
   "outputs": [
    {
     "name": "stdout",
     "output_type": "stream",
     "text": [
      "RHS:\n",
      "[[-0.31832995-0.08498355j  0.14951724-0.61500162j -0.19138185-0.3226603j   0.4150422 +0.0194724j   0.27690951+0.31750068j]\n",
      " [-0.05482787-0.15950533j -0.04385882-0.14494036j  0.53155104+0.40026462j -0.00432757-0.55254636j -0.04225817+0.44581432j]\n",
      " [ 0.56010829+0.06816944j -0.48469534+0.13675407j  0.04251138-0.3725173j   0.30769257+0.04400491j -0.12022333+0.41995146j]\n",
      " [ 0.50268788-0.17023829j  0.24454725-0.3983181j   0.00135341-0.30389858j -0.12626343-0.44915061j -0.15770963-0.40614766j]\n",
      " [ 0.42292853-0.28997018j -0.11065104-0.30356338j  0.16257942+0.39640943j -0.02595608+0.45505054j  0.48060434-0.10176749j]]\n",
      "U: \n",
      "[[-0.31832994-0.08498355j  0.14951723-0.61500162j -0.19138184-0.3226603j   0.4150422 +0.0194724j   0.27690952+0.31750068j]\n",
      " [-0.05482787-0.15950533j -0.04385883-0.14494036j  0.53155104+0.40026463j -0.00432757-0.55254636j -0.04225817+0.44581432j]\n",
      " [ 0.56010829+0.06816944j -0.48469534+0.13675408j  0.04251138-0.3725173j   0.30769257+0.04400491j -0.12022333+0.41995145j]\n",
      " [ 0.50268788-0.17023829j  0.24454725-0.3983181j   0.00135341-0.30389858j -0.12626343-0.44915061j -0.15770963-0.40614766j]\n",
      " [ 0.42292853-0.28997017j -0.11065104-0.30356338j  0.16257942+0.39640944j -0.02595608+0.45505054j  0.48060434-0.10176749j]]\n"
     ]
    }
   ],
   "source": [
    "print(\"RHS:\")\n",
    "print(np.linalg.multi_dot(list(map(getM, RHS))))\n",
    "print(\"U: \")\n",
    "print(U)"
   ]
  },
  {
   "cell_type": "code",
   "execution_count": null,
   "metadata": {},
   "outputs": [],
   "source": []
  }
 ],
 "metadata": {
  "interpreter": {
   "hash": "172a64f8fbf5e912fff9df3bb5ed396635f932701996a7224f71e02466f142fe"
  },
  "kernelspec": {
   "display_name": "Python 3.9.4 64-bit ('jupyterlab': conda)",
   "name": "python3"
  },
  "language_info": {
   "codemirror_mode": {
    "name": "ipython",
    "version": 3
   },
   "file_extension": ".py",
   "mimetype": "text/x-python",
   "name": "python",
   "nbconvert_exporter": "python",
   "pygments_lexer": "ipython3",
   "version": "3.8.8"
  },
  "toc-autonumbering": false,
  "toc-showcode": false,
  "toc-showmarkdowntxt": false,
  "toc-showtags": true
 },
 "nbformat": 4,
 "nbformat_minor": 4
}
