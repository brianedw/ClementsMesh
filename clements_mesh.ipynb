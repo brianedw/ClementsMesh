{
 "cells": [
  {
   "cell_type": "markdown",
   "metadata": {
    "tags": []
   },
   "source": [
    "### Python Libraries"
   ]
  },
  {
   "cell_type": "markdown",
   "metadata": {},
   "source": [
    "Standard Python imports"
   ]
  },
  {
   "cell_type": "code",
   "execution_count": 1,
   "metadata": {},
   "outputs": [],
   "source": [
    "import os, sys, time, glob"
   ]
  },
  {
   "cell_type": "code",
   "execution_count": 2,
   "metadata": {},
   "outputs": [],
   "source": [
    "from collections import deque\n",
    "from pprint import pprint"
   ]
  },
  {
   "cell_type": "code",
   "execution_count": 3,
   "metadata": {},
   "outputs": [],
   "source": [
    "from math import pi, radians\n",
    "deg = radians(1)    # so that we can refer to 90*deg\n",
    "I = 1j              # potentially neater imaginary nomenclature."
   ]
  },
  {
   "cell_type": "code",
   "execution_count": 4,
   "metadata": {},
   "outputs": [],
   "source": [
    "import numpy as np  # Does high performance dense array operations\n",
    "np.set_printoptions(edgeitems=30, linewidth=100000,\n",
    "                    formatter=dict(float=lambda x: \"%.3g\" % x))\n",
    "import scipy as sp"
   ]
  },
  {
   "cell_type": "code",
   "execution_count": 5,
   "metadata": {},
   "outputs": [],
   "source": [
    "from toolz.itertoolz import (concat, partition, interleave)\n",
    "from toolz.functoolz import (curry, pipe, thread_first)\n",
    "# from toolz.dicttoolz import ()"
   ]
  },
  {
   "cell_type": "code",
   "execution_count": 6,
   "metadata": {},
   "outputs": [
    {
     "data": {
      "text/html": [
       "\n",
       "    <div class=\"bk-root\">\n",
       "        <a href=\"https://bokeh.org\" target=\"_blank\" class=\"bk-logo bk-logo-small bk-logo-notebook\"></a>\n",
       "        <span id=\"1002\">Loading BokehJS ...</span>\n",
       "    </div>"
      ]
     },
     "metadata": {},
     "output_type": "display_data"
    },
    {
     "data": {
      "application/javascript": "\n(function(root) {\n  function now() {\n    return new Date();\n  }\n\n  var force = true;\n\n  if (typeof root._bokeh_onload_callbacks === \"undefined\" || force === true) {\n    root._bokeh_onload_callbacks = [];\n    root._bokeh_is_loading = undefined;\n  }\n\n  var JS_MIME_TYPE = 'application/javascript';\n  var HTML_MIME_TYPE = 'text/html';\n  var EXEC_MIME_TYPE = 'application/vnd.bokehjs_exec.v0+json';\n  var CLASS_NAME = 'output_bokeh rendered_html';\n\n  /**\n   * Render data to the DOM node\n   */\n  function render(props, node) {\n    var script = document.createElement(\"script\");\n    node.appendChild(script);\n  }\n\n  /**\n   * Handle when an output is cleared or removed\n   */\n  function handleClearOutput(event, handle) {\n    var cell = handle.cell;\n\n    var id = cell.output_area._bokeh_element_id;\n    var server_id = cell.output_area._bokeh_server_id;\n    // Clean up Bokeh references\n    if (id != null && id in Bokeh.index) {\n      Bokeh.index[id].model.document.clear();\n      delete Bokeh.index[id];\n    }\n\n    if (server_id !== undefined) {\n      // Clean up Bokeh references\n      var cmd = \"from bokeh.io.state import curstate; print(curstate().uuid_to_server['\" + server_id + \"'].get_sessions()[0].document.roots[0]._id)\";\n      cell.notebook.kernel.execute(cmd, {\n        iopub: {\n          output: function(msg) {\n            var id = msg.content.text.trim();\n            if (id in Bokeh.index) {\n              Bokeh.index[id].model.document.clear();\n              delete Bokeh.index[id];\n            }\n          }\n        }\n      });\n      // Destroy server and session\n      var cmd = \"import bokeh.io.notebook as ion; ion.destroy_server('\" + server_id + \"')\";\n      cell.notebook.kernel.execute(cmd);\n    }\n  }\n\n  /**\n   * Handle when a new output is added\n   */\n  function handleAddOutput(event, handle) {\n    var output_area = handle.output_area;\n    var output = handle.output;\n\n    // limit handleAddOutput to display_data with EXEC_MIME_TYPE content only\n    if ((output.output_type != \"display_data\") || (!Object.prototype.hasOwnProperty.call(output.data, EXEC_MIME_TYPE))) {\n      return\n    }\n\n    var toinsert = output_area.element.find(\".\" + CLASS_NAME.split(' ')[0]);\n\n    if (output.metadata[EXEC_MIME_TYPE][\"id\"] !== undefined) {\n      toinsert[toinsert.length - 1].firstChild.textContent = output.data[JS_MIME_TYPE];\n      // store reference to embed id on output_area\n      output_area._bokeh_element_id = output.metadata[EXEC_MIME_TYPE][\"id\"];\n    }\n    if (output.metadata[EXEC_MIME_TYPE][\"server_id\"] !== undefined) {\n      var bk_div = document.createElement(\"div\");\n      bk_div.innerHTML = output.data[HTML_MIME_TYPE];\n      var script_attrs = bk_div.children[0].attributes;\n      for (var i = 0; i < script_attrs.length; i++) {\n        toinsert[toinsert.length - 1].firstChild.setAttribute(script_attrs[i].name, script_attrs[i].value);\n        toinsert[toinsert.length - 1].firstChild.textContent = bk_div.children[0].textContent\n      }\n      // store reference to server id on output_area\n      output_area._bokeh_server_id = output.metadata[EXEC_MIME_TYPE][\"server_id\"];\n    }\n  }\n\n  function register_renderer(events, OutputArea) {\n\n    function append_mime(data, metadata, element) {\n      // create a DOM node to render to\n      var toinsert = this.create_output_subarea(\n        metadata,\n        CLASS_NAME,\n        EXEC_MIME_TYPE\n      );\n      this.keyboard_manager.register_events(toinsert);\n      // Render to node\n      var props = {data: data, metadata: metadata[EXEC_MIME_TYPE]};\n      render(props, toinsert[toinsert.length - 1]);\n      element.append(toinsert);\n      return toinsert\n    }\n\n    /* Handle when an output is cleared or removed */\n    events.on('clear_output.CodeCell', handleClearOutput);\n    events.on('delete.Cell', handleClearOutput);\n\n    /* Handle when a new output is added */\n    events.on('output_added.OutputArea', handleAddOutput);\n\n    /**\n     * Register the mime type and append_mime function with output_area\n     */\n    OutputArea.prototype.register_mime_type(EXEC_MIME_TYPE, append_mime, {\n      /* Is output safe? */\n      safe: true,\n      /* Index of renderer in `output_area.display_order` */\n      index: 0\n    });\n  }\n\n  // register the mime type if in Jupyter Notebook environment and previously unregistered\n  if (root.Jupyter !== undefined) {\n    var events = require('base/js/events');\n    var OutputArea = require('notebook/js/outputarea').OutputArea;\n\n    if (OutputArea.prototype.mime_types().indexOf(EXEC_MIME_TYPE) == -1) {\n      register_renderer(events, OutputArea);\n    }\n  }\n\n  \n  if (typeof (root._bokeh_timeout) === \"undefined\" || force === true) {\n    root._bokeh_timeout = Date.now() + 5000;\n    root._bokeh_failed_load = false;\n  }\n\n  var NB_LOAD_WARNING = {'data': {'text/html':\n     \"<div style='background-color: #fdd'>\\n\"+\n     \"<p>\\n\"+\n     \"BokehJS does not appear to have successfully loaded. If loading BokehJS from CDN, this \\n\"+\n     \"may be due to a slow or bad network connection. Possible fixes:\\n\"+\n     \"</p>\\n\"+\n     \"<ul>\\n\"+\n     \"<li>re-rerun `output_notebook()` to attempt to load from CDN again, or</li>\\n\"+\n     \"<li>use INLINE resources instead, as so:</li>\\n\"+\n     \"</ul>\\n\"+\n     \"<code>\\n\"+\n     \"from bokeh.resources import INLINE\\n\"+\n     \"output_notebook(resources=INLINE)\\n\"+\n     \"</code>\\n\"+\n     \"</div>\"}};\n\n  function display_loaded() {\n    var el = document.getElementById(\"1002\");\n    if (el != null) {\n      el.textContent = \"BokehJS is loading...\";\n    }\n    if (root.Bokeh !== undefined) {\n      if (el != null) {\n        el.textContent = \"BokehJS \" + root.Bokeh.version + \" successfully loaded.\";\n      }\n    } else if (Date.now() < root._bokeh_timeout) {\n      setTimeout(display_loaded, 100)\n    }\n  }\n\n\n  function run_callbacks() {\n    try {\n      root._bokeh_onload_callbacks.forEach(function(callback) {\n        if (callback != null)\n          callback();\n      });\n    } finally {\n      delete root._bokeh_onload_callbacks\n    }\n    console.debug(\"Bokeh: all callbacks have finished\");\n  }\n\n  function load_libs(css_urls, js_urls, callback) {\n    if (css_urls == null) css_urls = [];\n    if (js_urls == null) js_urls = [];\n\n    root._bokeh_onload_callbacks.push(callback);\n    if (root._bokeh_is_loading > 0) {\n      console.debug(\"Bokeh: BokehJS is being loaded, scheduling callback at\", now());\n      return null;\n    }\n    if (js_urls == null || js_urls.length === 0) {\n      run_callbacks();\n      return null;\n    }\n    console.debug(\"Bokeh: BokehJS not loaded, scheduling load and callback at\", now());\n    root._bokeh_is_loading = css_urls.length + js_urls.length;\n\n    function on_load() {\n      root._bokeh_is_loading--;\n      if (root._bokeh_is_loading === 0) {\n        console.debug(\"Bokeh: all BokehJS libraries/stylesheets loaded\");\n        run_callbacks()\n      }\n    }\n\n    function on_error(url) {\n      console.error(\"failed to load \" + url);\n    }\n\n    for (let i = 0; i < css_urls.length; i++) {\n      const url = css_urls[i];\n      const element = document.createElement(\"link\");\n      element.onload = on_load;\n      element.onerror = on_error.bind(null, url);\n      element.rel = \"stylesheet\";\n      element.type = \"text/css\";\n      element.href = url;\n      console.debug(\"Bokeh: injecting link tag for BokehJS stylesheet: \", url);\n      document.body.appendChild(element);\n    }\n\n    const hashes = {\"https://cdn.bokeh.org/bokeh/release/bokeh-2.3.1.min.js\": \"YF85VygJKMVnHE+lLv2AM93Vbstr0yo2TbIu5v8se5Rq3UQAUmcuh4aaJwNlpKwa\", \"https://cdn.bokeh.org/bokeh/release/bokeh-widgets-2.3.1.min.js\": \"KKuas3gevv3PvrlkyCMzffFeaMq5we/a2QsP5AUoS3mJ0jmaCL7jirFJN3GoE/lM\", \"https://cdn.bokeh.org/bokeh/release/bokeh-tables-2.3.1.min.js\": \"MK/uFc3YT18pkvvXRl66tTHjP0/dxoSH2e/eiNMFIguKlun2+WVqaPTWmUy/zvh4\"};\n\n    for (let i = 0; i < js_urls.length; i++) {\n      const url = js_urls[i];\n      const element = document.createElement('script');\n      element.onload = on_load;\n      element.onerror = on_error.bind(null, url);\n      element.async = false;\n      element.src = url;\n      if (url in hashes) {\n        element.crossOrigin = \"anonymous\";\n        element.integrity = \"sha384-\" + hashes[url];\n      }\n      console.debug(\"Bokeh: injecting script tag for BokehJS library: \", url);\n      document.head.appendChild(element);\n    }\n  };\n\n  function inject_raw_css(css) {\n    const element = document.createElement(\"style\");\n    element.appendChild(document.createTextNode(css));\n    document.body.appendChild(element);\n  }\n\n  \n  var js_urls = [\"https://cdn.bokeh.org/bokeh/release/bokeh-2.3.1.min.js\", \"https://cdn.bokeh.org/bokeh/release/bokeh-widgets-2.3.1.min.js\", \"https://cdn.bokeh.org/bokeh/release/bokeh-tables-2.3.1.min.js\"];\n  var css_urls = [];\n  \n\n  var inline_js = [\n    function(Bokeh) {\n      Bokeh.set_log_level(\"info\");\n    },\n    function(Bokeh) {\n    \n    \n    }\n  ];\n\n  function run_inline_js() {\n    \n    if (root.Bokeh !== undefined || force === true) {\n      \n    for (var i = 0; i < inline_js.length; i++) {\n      inline_js[i].call(root, root.Bokeh);\n    }\n    if (force === true) {\n        display_loaded();\n      }} else if (Date.now() < root._bokeh_timeout) {\n      setTimeout(run_inline_js, 100);\n    } else if (!root._bokeh_failed_load) {\n      console.log(\"Bokeh: BokehJS failed to load within specified timeout.\");\n      root._bokeh_failed_load = true;\n    } else if (force !== true) {\n      var cell = $(document.getElementById(\"1002\")).parents('.cell').data().cell;\n      cell.output_area.append_execute_result(NB_LOAD_WARNING)\n    }\n\n  }\n\n  if (root._bokeh_is_loading === 0) {\n    console.debug(\"Bokeh: BokehJS loaded, going straight to plotting\");\n    run_inline_js();\n  } else {\n    load_libs(css_urls, js_urls, function() {\n      console.debug(\"Bokeh: BokehJS plotting callback run at\", now());\n      run_inline_js();\n    });\n  }\n}(window));",
      "application/vnd.bokehjs_load.v0+json": ""
     },
     "metadata": {},
     "output_type": "display_data"
    }
   ],
   "source": [
    "from UtilityMath import (plotComplexArray, \n",
    "                         RandomComplexCircularMatrix, RandomComplexGaussianMatrix,\n",
    "                         PolarPlot,\n",
    "                         RescaleToUnitary,\n",
    "                         ReIm,\n",
    "                         MatrixSqError, MatrixError, MatrixErrorNormalized)"
   ]
  },
  {
   "cell_type": "code",
   "execution_count": 7,
   "metadata": {},
   "outputs": [],
   "source": [
    "import networkx as nx\n",
    "import pylab as plt"
   ]
  },
  {
   "cell_type": "markdown",
   "metadata": {
    "tags": []
   },
   "source": [
    "# Work"
   ]
  },
  {
   "cell_type": "markdown",
   "metadata": {},
   "source": [
    "## Clements Decomposition"
   ]
  },
  {
   "cell_type": "code",
   "execution_count": 8,
   "metadata": {},
   "outputs": [],
   "source": [
    "from numpy import cos, sin, exp"
   ]
  },
  {
   "cell_type": "code",
   "execution_count": 9,
   "metadata": {},
   "outputs": [],
   "source": [
    "np.set_printoptions(edgeitems=30, linewidth=100000,\n",
    "                    suppress=True,\n",
    "                    formatter=dict(float=lambda x: \"%.2g\" % x))"
   ]
  },
  {
   "cell_type": "markdown",
   "metadata": {},
   "source": [
    "### Unitary Matrix Generation"
   ]
  },
  {
   "cell_type": "code",
   "execution_count": 10,
   "metadata": {},
   "outputs": [],
   "source": [
    "def isPassive(M, verbose=False):\n",
    "    Im = np.identity(M.shape[0])\n",
    "    TH = np.conj(M.T)\n",
    "    eigVals = np.linalg.eigvals(Im - TH @ M).real\n",
    "    if verbose:\n",
    "        print(eigVals)\n",
    "    isPassive = np.alltrue(eigVals >= -1e-12)\n",
    "    return isPassive"
   ]
  },
  {
   "cell_type": "code",
   "execution_count": 11,
   "metadata": {},
   "outputs": [
    {
     "data": {
      "text/plain": [
       "True"
      ]
     },
     "execution_count": 11,
     "metadata": {},
     "output_type": "execute_result"
    }
   ],
   "source": [
    "testM = np.identity(5, dtype='complex')\n",
    "isPassive(testM)"
   ]
  },
  {
   "cell_type": "code",
   "execution_count": 12,
   "metadata": {},
   "outputs": [],
   "source": [
    "def getRandomUnitaryMatrix(n=5, verbose=False):\n",
    "    rMat = RandomComplexCircularMatrix(1, (n, n))\n",
    "    # print(rMat)\n",
    "    U, Svec, Vh = np.linalg.svd(rMat, full_matrices=True)\n",
    "    S = np.diag(Svec)\n",
    "    recovery = U @ S @ Vh\n",
    "    if verbose:\n",
    "        print(\"Successful SVD Decomposition:\", np.allclose(recovery, rMat))\n",
    "    M = U @ Vh\n",
    "    return M"
   ]
  },
  {
   "cell_type": "code",
   "execution_count": 13,
   "metadata": {},
   "outputs": [],
   "source": [
    "U = getRandomUnitaryMatrix(n=5)"
   ]
  },
  {
   "cell_type": "markdown",
   "metadata": {},
   "source": [
    "### Mixer"
   ]
  },
  {
   "cell_type": "markdown",
   "metadata": {},
   "source": [
    "The `Mixer` represents a 4 port directional coupler with variable weights similar to a Mach-Zender Interferometer."
   ]
  },
  {
   "cell_type": "markdown",
   "metadata": {},
   "source": [
    "We begin with the definition of a directional \"beam splitter\" given below\n",
    "$$\n",
    "T(\\theta, \\phi) = \\begin{pmatrix}\n",
    "e^{i\\phi} \\cos(\\theta) & -\\sin(\\theta)\\\\\n",
    "e^{i\\phi} \\sin(\\theta) & \\cos(\\theta)\n",
    "\\end{pmatrix}\n",
    "$$\n",
    "This shows only the transmissive part and all reflections are assumed to be zero."
   ]
  },
  {
   "cell_type": "code",
   "execution_count": 14,
   "metadata": {},
   "outputs": [],
   "source": [
    "def T(theta, phi):\n",
    "    a = [[ exp(I*phi) * cos(theta), -sin(theta)], \n",
    "         [ exp(I*phi) * sin(theta),  cos(theta)]]\n",
    "    return np.array(a)"
   ]
  },
  {
   "cell_type": "markdown",
   "metadata": {},
   "source": [
    "We also need the inverse of this matrix.  This was computed in Mathematica."
   ]
  },
  {
   "cell_type": "code",
   "execution_count": 15,
   "metadata": {},
   "outputs": [],
   "source": [
    "def Tinv(theta, phi):\n",
    "    a = [[ exp(-I*phi) * cos(theta),  exp(-I*phi) * sin(theta)],\n",
    "         [              -sin(theta),                cos(theta)]]\n",
    "    return np.array(a)"
   ]
  },
  {
   "cell_type": "markdown",
   "metadata": {},
   "source": [
    "This allows us to define a simple class for a `Mixer`."
   ]
  },
  {
   "cell_type": "code",
   "execution_count": 16,
   "metadata": {},
   "outputs": [],
   "source": [
    "class Mixer:\n",
    "\n",
    "    def __init__(self, theta_phi=(0,0)):\n",
    "        self.theta, self.phi = theta_phi\n",
    "\n",
    "    def T(self):\n",
    "        return T(self.theta, self.phi)\n",
    "\n",
    "    def Tinv(self):\n",
    "        return Tinv(self.theta, self.phi)"
   ]
  },
  {
   "cell_type": "code",
   "execution_count": 17,
   "metadata": {},
   "outputs": [],
   "source": [
    "mixer = Mixer()\n",
    "mixer = Mixer(theta_phi=(0.2*pi, 0.3*pi))"
   ]
  },
  {
   "cell_type": "code",
   "execution_count": 18,
   "metadata": {},
   "outputs": [
    {
     "name": "stdout",
     "output_type": "stream",
     "text": [
      "[[ 0.47552826+0.6545085j  -0.58778525+0.j        ]\n",
      " [ 0.3454915 +0.47552826j  0.80901699+0.j        ]]\n",
      "[[ 0.47552826-0.6545085j   0.3454915 -0.47552826j]\n",
      " [-0.58778525+0.j          0.80901699+0.j        ]]\n"
     ]
    }
   ],
   "source": [
    "print(mixer.T())\n",
    "print(mixer.Tinv())"
   ]
  },
  {
   "cell_type": "markdown",
   "metadata": {},
   "source": [
    "### Mixer Mesh Interaction"
   ]
  },
  {
   "cell_type": "markdown",
   "metadata": {},
   "source": [
    "The formulation makes use of how a mixer interacts with all of the channels in the system.  Let us imagine a vector of $n$ \n",
    " lines.  Of course, if the mixer is not connected to a line, that line would remain unperturbed.  It follows that we can understand a mixer's effect on a\n",
    "mesh as the identity matrix with several elements changed to those given by $T(\\theta, \\phi)$ above.\n",
    "\n",
    "Note that within the paper, Clements uses the notation $T_{m,n}(\\theta, \\phi)$ which represents a mixing between lines $m$ and $n$.  In all cases within\n",
    "that work, $n = m + 1$."
   ]
  },
  {
   "cell_type": "code",
   "execution_count": 19,
   "metadata": {},
   "outputs": [],
   "source": [
    "def TMesh(theta_phi, N, lines):\n",
    "    A = np.identity(N, dtype='complex')\n",
    "    a = T(*theta_phi)\n",
    "    m, n = lines\n",
    "    A[m, m] = a[0,0]\n",
    "    A[m, n] = a[0,1]\n",
    "    A[n, m] = a[1,0]\n",
    "    A[n, n] = a[1,1]\n",
    "    return A"
   ]
  },
  {
   "cell_type": "code",
   "execution_count": 20,
   "metadata": {},
   "outputs": [],
   "source": [
    "def TinvMesh(theta_phi, N, lines):\n",
    "    A = np.identity(N, dtype='complex')\n",
    "    a = Tinv(*theta_phi)\n",
    "    m, n = lines\n",
    "    A[m, m] = a[0,0]\n",
    "    A[m, n] = a[0,1]\n",
    "    A[n, m] = a[1,0]\n",
    "    A[n, n] = a[1,1]\n",
    "    return A"
   ]
  },
  {
   "cell_type": "code",
   "execution_count": 21,
   "metadata": {},
   "outputs": [
    {
     "name": "stdout",
     "output_type": "stream",
     "text": [
      "[[ 0.47552826+0.6545085j  -0.58778525+0.j        ]\n",
      " [ 0.3454915 +0.47552826j  0.80901699+0.j        ]]\n",
      "[[ 0.47552826-0.6545085j   0.3454915 -0.47552826j]\n",
      " [-0.58778525+0.j          0.80901699+0.j        ]]\n"
     ]
    }
   ],
   "source": [
    "mixer = Mixer(theta_phi=(0.2*pi, 0.3*pi))\n",
    "print(mixer.T())\n",
    "print(mixer.Tinv())"
   ]
  },
  {
   "cell_type": "code",
   "execution_count": 22,
   "metadata": {},
   "outputs": [
    {
     "data": {
      "text/plain": [
       "array([[ 1.        +0.j        ,  0.        +0.j        ,  0.        +0.j        ,  0.        +0.j        ,  0.        +0.j        ],\n",
       "       [ 0.        +0.j        ,  0.47552826+0.3454915j , -0.80901699+0.j        ,  0.        +0.j        ,  0.        +0.j        ],\n",
       "       [ 0.        +0.j        ,  0.6545085 +0.47552826j,  0.58778525+0.j        ,  0.        +0.j        ,  0.        +0.j        ],\n",
       "       [ 0.        +0.j        ,  0.        +0.j        ,  0.        +0.j        ,  1.        +0.j        ,  0.        +0.j        ],\n",
       "       [ 0.        +0.j        ,  0.        +0.j        ,  0.        +0.j        ,  0.        +0.j        ,  1.        +0.j        ]])"
      ]
     },
     "execution_count": 22,
     "metadata": {},
     "output_type": "execute_result"
    }
   ],
   "source": [
    "TMesh(theta_phi=(0.3*pi, 0.2*pi), N=5, lines=(1,2))"
   ]
  },
  {
   "cell_type": "code",
   "execution_count": 23,
   "metadata": {},
   "outputs": [
    {
     "data": {
      "text/plain": [
       "array([[ 1.        +0.j        ,  0.        +0.j        ,  0.        +0.j        ,  0.        +0.j        ,  0.        +0.j        ],\n",
       "       [ 0.        +0.j        ,  0.47552826-0.3454915j ,  0.6545085 -0.47552826j,  0.        +0.j        ,  0.        +0.j        ],\n",
       "       [ 0.        +0.j        , -0.80901699+0.j        ,  0.58778525+0.j        ,  0.        +0.j        ,  0.        +0.j        ],\n",
       "       [ 0.        +0.j        ,  0.        +0.j        ,  0.        +0.j        ,  1.        +0.j        ,  0.        +0.j        ],\n",
       "       [ 0.        +0.j        ,  0.        +0.j        ,  0.        +0.j        ,  0.        +0.j        ,  1.        +0.j        ]])"
      ]
     },
     "execution_count": 23,
     "metadata": {},
     "output_type": "execute_result"
    }
   ],
   "source": [
    "TinvMesh(theta_phi=(0.3*pi, 0.2*pi), N=5, lines=(1,2))"
   ]
  },
  {
   "cell_type": "markdown",
   "metadata": {},
   "source": [
    "And just as a check, let us verify that the analytical aligns with the numerical inverse."
   ]
  },
  {
   "cell_type": "code",
   "execution_count": 24,
   "metadata": {},
   "outputs": [
    {
     "data": {
      "text/plain": [
       "True"
      ]
     },
     "execution_count": 24,
     "metadata": {},
     "output_type": "execute_result"
    }
   ],
   "source": [
    "invNum = np.linalg.inv(TMesh(theta_phi=(0.4*pi, 0.2*pi), N=5, lines=(1,4)))\n",
    "invAnal = TinvMesh(theta_phi=(0.4*pi, 0.2*pi), N=5, lines=(1,4))\n",
    "np.allclose(invNum, invAnal)"
   ]
  },
  {
   "cell_type": "markdown",
   "metadata": {},
   "source": [
    "### Mesh"
   ]
  },
  {
   "cell_type": "code",
   "execution_count": 25,
   "metadata": {},
   "outputs": [],
   "source": [
    "def EvenQ(n):\n",
    "    \"\"\"\n",
    "    True if n is even.\n",
    "    False otherwise.\n",
    "    \"\"\"\n",
    "    return(n%2==0)\n",
    "\n",
    "def OddQ(n):\n",
    "    \"\"\"\n",
    "    True if n is odd.\n",
    "    False otherwise.\n",
    "    \"\"\"    \n",
    "    return(n%2==1)  "
   ]
  },
  {
   "cell_type": "markdown",
   "metadata": {},
   "source": [
    "Computes the number of layers in the mesh required to obtain `totCount` number of mixers.  For instance, suppose that you want 6 DoFs from a 4 port to 4 port mesh.  The even columns (0th, 2nd, etc) would have 2 mixers.  The odd columns (1st, 3rd, etc) would have 1 mixer."
   ]
  },
  {
   "cell_type": "code",
   "execution_count": 26,
   "metadata": {},
   "outputs": [],
   "source": [
    "def computeNLayers(evenCount, oddCount, totCount):\n",
    "    \"\"\"\n",
    "    Given finds the total number of elements in the pattern [e, o, e, o, ...]\n",
    "    required to achieve `totCount`.  Returns `None` if not evenly divisable.\n",
    "\n",
    "    This is done directly by totaling the contribution of an e + o combination\n",
    "    \"\"\"\n",
    "    if totCount == 1:\n",
    "        return 1\n",
    "    comboCount = evenCount + oddCount\n",
    "    nComboLayers = totCount//comboCount\n",
    "    if nComboLayers*comboCount == totCount:\n",
    "        return 2*nComboLayers\n",
    "    elif nComboLayers*comboCount + evenCount == totCount:\n",
    "        return 2*nComboLayers + 1\n",
    "    else:\n",
    "        print(\"does not appear evenly divisable\")\n",
    "        return None\n"
   ]
  },
  {
   "cell_type": "code",
   "execution_count": 27,
   "metadata": {},
   "outputs": [
    {
     "data": {
      "text/plain": [
       "True"
      ]
     },
     "execution_count": 27,
     "metadata": {},
     "output_type": "execute_result"
    }
   ],
   "source": [
    "4 == computeNLayers(evenCount=2, oddCount=1, totCount=6) # 2 + 1 + 2 + 1"
   ]
  },
  {
   "cell_type": "code",
   "execution_count": 28,
   "metadata": {},
   "outputs": [
    {
     "data": {
      "text/plain": [
       "True"
      ]
     },
     "execution_count": 28,
     "metadata": {},
     "output_type": "execute_result"
    }
   ],
   "source": [
    "3 == computeNLayers(evenCount=2, oddCount=5, totCount=9) # 2 + 5 + 2"
   ]
  },
  {
   "cell_type": "code",
   "execution_count": 29,
   "metadata": {},
   "outputs": [],
   "source": [
    "# None == computeNLayers(evenCount=2, oddCount=5, totCount=8) # 2 + 5 + ?"
   ]
  },
  {
   "cell_type": "markdown",
   "metadata": {},
   "source": [
    "Generates Device Labels for mesh which can realize a given kernel size.\n",
    "It will return labels for each input port, output port, mixer, and thru.  Only the mixers\n",
    "are used for mesh calcu\n",
    "\n",
    "This is done in a naive fashion, stepping across the mesh from the input ports to\n",
    "the output ports.  For lines which do not intersect a mixer, a thru will be inserted. "
   ]
  },
  {
   "cell_type": "code",
   "execution_count": 30,
   "metadata": {},
   "outputs": [],
   "source": [
    "def generateDeviceLabels(kernelSize, mixerLabel='m', thruLabel='t', inputLabel='i', outputLabel='o', verbose=False):\n",
    "    NN = kernelSize\n",
    "    evenCount = NN//2\n",
    "    oddCount = (NN-1)//2\n",
    "    if verbose: print(\"NN:\", NN)\n",
    "    nMixers = NN*(NN-1)//2\n",
    "    if verbose: print(\"nDOFs:\", nMixers)\n",
    "    if verbose: print(\"evenCounts:\", evenCount, \"\\toddCounts:\", oddCount)\n",
    "    nLayers = computeNLayers(evenCount, oddCount, nMixers)\n",
    "    if verbose: print(\"nLayers:\", nLayers)\n",
    "    mixers = []\n",
    "    thrus = []\n",
    "    inPorts = [(inputLabel, i) for i in range(kernelSize)]\n",
    "    if verbose: print(\"inPorts:\", inPorts)    \n",
    "    outPorts = [(outputLabel, i) for i in range(kernelSize)]\n",
    "    if verbose: print(\"outPorts:\", outPorts)    \n",
    "    (i, j) = (0, 0)\n",
    "    while i < nLayers:\n",
    "        oddLayer = (i%2 == 1)\n",
    "        if (j == 0 and oddLayer) or (j == NN - 1):\n",
    "            thrus.append((thruLabel, i, j))\n",
    "            j += 1\n",
    "        else:\n",
    "            mixers.append((mixerLabel, i, j))\n",
    "            j += 2\n",
    "        if j >= NN:\n",
    "            j = 0\n",
    "            i += 1\n",
    "    if verbose: print(\"mixers:\", mixers)\n",
    "    if verbose: print(\"thrus:\", thrus)\n",
    "    return (inPorts, mixers, thrus, outPorts)"
   ]
  },
  {
   "cell_type": "code",
   "execution_count": 31,
   "metadata": {},
   "outputs": [
    {
     "name": "stdout",
     "output_type": "stream",
     "text": [
      "NN: 5\n",
      "nDOFs: 10\n",
      "evenCounts: 2 \toddCounts: 2\n",
      "nLayers: 5\n",
      "inPorts: [('i', 0), ('i', 1), ('i', 2), ('i', 3), ('i', 4)]\n",
      "outPorts: [('o', 0), ('o', 1), ('o', 2), ('o', 3), ('o', 4)]\n",
      "mixers: [('m', 0, 0), ('m', 0, 2), ('m', 1, 1), ('m', 1, 3), ('m', 2, 0), ('m', 2, 2), ('m', 3, 1), ('m', 3, 3), ('m', 4, 0), ('m', 4, 2)]\n",
      "thrus: [('t', 0, 4), ('t', 1, 0), ('t', 2, 4), ('t', 3, 0), ('t', 4, 4)]\n"
     ]
    }
   ],
   "source": [
    "(inPorts, mixers, thrus, outPorts) = generateDeviceLabels(kernelSize=5, mixerLabel='m', thruLabel='t', verbose=True)"
   ]
  },
  {
   "cell_type": "markdown",
   "metadata": {},
   "source": [
    "Generates Mixer Labels for a mesh which can realize a given kernel size.\n",
    "\n",
    "This is done in a naive fashion, stepping across the mesh from the input ports\n",
    "to the output ports.  Mixers are grouped by column.  In other words, all mixers\n",
    "which touch the input ports are in the first list."
   ]
  },
  {
   "cell_type": "code",
   "execution_count": 32,
   "metadata": {},
   "outputs": [],
   "source": [
    "def generateMixerLabels(kernelSize, mixerLabel='m', verbose=False):\n",
    "    NN = kernelSize\n",
    "    evenCount = NN//2\n",
    "    oddCount = (NN-1)//2\n",
    "    if verbose: print(\"NN:\", NN)\n",
    "    nMixers = NN*(NN-1)//2\n",
    "    if verbose: print(\"nDOFs:\", nMixers)\n",
    "    if verbose: print(\"evenCounts:\", evenCount, \"\\toddCounts:\", oddCount)\n",
    "    nLayers = computeNLayers(evenCount, oddCount, nMixers)\n",
    "    if verbose: print(\"nLayers:\", nLayers)\n",
    "    mixers = []\n",
    "    (i, j) = (0, 0)\n",
    "    for i in range(nLayers):\n",
    "        if EvenQ(i):\n",
    "            colList = [(mixerLabel, i, 2*j) for j in range(0, evenCount)]\n",
    "        if OddQ(i):\n",
    "            colList = [(mixerLabel, i, 2*j + 1) for j in range(0, oddCount)]\n",
    "        mixers.append(colList)\n",
    "    return (mixers)"
   ]
  },
  {
   "cell_type": "code",
   "execution_count": 33,
   "metadata": {},
   "outputs": [
    {
     "name": "stdout",
     "output_type": "stream",
     "text": [
      "NN: 5\n",
      "nDOFs: 10\n",
      "evenCounts: 2 \toddCounts: 2\n",
      "nLayers: 5\n"
     ]
    },
    {
     "data": {
      "text/plain": [
       "[[('m', 0, 0), ('m', 0, 2)],\n",
       " [('m', 1, 1), ('m', 1, 3)],\n",
       " [('m', 2, 0), ('m', 2, 2)],\n",
       " [('m', 3, 1), ('m', 3, 3)],\n",
       " [('m', 4, 0), ('m', 4, 2)]]"
      ]
     },
     "execution_count": 33,
     "metadata": {},
     "output_type": "execute_result"
    }
   ],
   "source": [
    "generateMixerLabels(kernelSize=5, mixerLabel='m', verbose=True)"
   ]
  },
  {
   "cell_type": "markdown",
   "metadata": {},
   "source": [
    "Generates Mixer Labels for a mesh which can realize a given kernel size.\n",
    "\n",
    "This is done on the diagonal to create a list which corresponds to the order in\n",
    "which they are nulled according to Clements et al.  Mixers are grouped by diagonal."
   ]
  },
  {
   "cell_type": "code",
   "execution_count": 34,
   "metadata": {},
   "outputs": [],
   "source": [
    "def generateMixerLabelsDiag(kernelSize, mixerLabel='m', verbose=False):\n",
    "    NN = kernelSize\n",
    "    orderedLabels = []\n",
    "    for i in range(NN-1):\n",
    "        diagList = []\n",
    "        for j in range(i+1):\n",
    "            if EvenQ(i):\n",
    "                label = (mixerLabel, j, i - j)\n",
    "            else:\n",
    "                label = (mixerLabel, NN - j - 1, NN - (i - j) - 2)\n",
    "            diagList.append(label)\n",
    "        orderedLabels.append(diagList)\n",
    "    return orderedLabels"
   ]
  },
  {
   "cell_type": "code",
   "execution_count": 35,
   "metadata": {},
   "outputs": [
    {
     "data": {
      "text/plain": [
       "[[('m', 0, 0)],\n",
       " [('m', 4, 2), ('m', 3, 3)],\n",
       " [('m', 0, 2), ('m', 1, 1), ('m', 2, 0)],\n",
       " [('m', 4, 0), ('m', 3, 1), ('m', 2, 2), ('m', 1, 3)]]"
      ]
     },
     "execution_count": 35,
     "metadata": {},
     "output_type": "execute_result"
    }
   ],
   "source": [
    "generateMixerLabelsDiag(kernelSize=5, mixerLabel='m', verbose=False)"
   ]
  },
  {
   "cell_type": "markdown",
   "metadata": {},
   "source": [
    "We now have three ways of generating mixer labels.  Let's confirm they all give the same results."
   ]
  },
  {
   "cell_type": "code",
   "execution_count": 36,
   "metadata": {},
   "outputs": [],
   "source": [
    "NN = 100\n",
    "(inPorts, mixers, thrus, outPorts) = generateDeviceLabels(kernelSize=NN, mixerLabel='m', thruLabel='t', verbose=False)\n",
    "s1 = mixers\n",
    "s2 = list(concat(generateMixerLabels(kernelSize=NN, mixerLabel='m', verbose=False)))\n",
    "s3 = list(concat(generateMixerLabelsDiag(kernelSize=NN, mixerLabel='m', verbose=False)))"
   ]
  },
  {
   "cell_type": "code",
   "execution_count": 37,
   "metadata": {},
   "outputs": [
    {
     "data": {
      "text/plain": [
       "True"
      ]
     },
     "execution_count": 37,
     "metadata": {},
     "output_type": "execute_result"
    }
   ],
   "source": [
    "sorted(s1) == sorted(s2) and sorted(s1) == sorted(s3)\n"
   ]
  },
  {
   "cell_type": "markdown",
   "metadata": {},
   "source": [
    "### Drawing"
   ]
  },
  {
   "cell_type": "code",
   "execution_count": 38,
   "metadata": {},
   "outputs": [
    {
     "name": "stdout",
     "output_type": "stream",
     "text": [
      "NN: 5\n",
      "nDOFs: 10\n",
      "evenCounts: 2 \toddCounts: 2\n",
      "nLayers: 5\n",
      "inPorts: [('i', 0), ('i', 1), ('i', 2), ('i', 3), ('i', 4)]\n",
      "outPorts: [('o', 0), ('o', 1), ('o', 2), ('o', 3), ('o', 4)]\n",
      "mixers: [('m', 0, 0), ('m', 0, 2), ('m', 1, 1), ('m', 1, 3), ('m', 2, 0), ('m', 2, 2), ('m', 3, 1), ('m', 3, 3), ('m', 4, 0), ('m', 4, 2)]\n",
      "thrus: [('t', 0, 4), ('t', 1, 0), ('t', 2, 4), ('t', 3, 0), ('t', 4, 4)]\n"
     ]
    }
   ],
   "source": [
    "(inPortLabels, mixerLabels, thruLabels, outPortLabels) = generateDeviceLabels(kernelSize=5, mixerLabel='m', thruLabel='t', verbose=True)"
   ]
  },
  {
   "cell_type": "code",
   "execution_count": 39,
   "metadata": {},
   "outputs": [],
   "source": [
    "def makeGraph(inPortLabels, mixerLabels, thruLabels, outPortLabels):\n",
    "    G = nx.Graph()\n",
    "    maxMixerX = np.max(np.array(mixerLabels,dtype=object)[:,1])\n",
    "    maxMixerY = np.max(np.array(mixerLabels,dtype=object)[:,2])\n",
    "    for lab in inPortLabels:\n",
    "        (_, y) = lab\n",
    "        G.add_node(lab, pos=(-1, -y), col='#88ff88')\n",
    "    for lab in mixerLabels:\n",
    "        (_, x, y) = lab\n",
    "        G.add_node(lab, pos=(x, -y-0.5), col='#ffff00')\n",
    "    for lab in thruLabels:\n",
    "        (_, x, y) = lab\n",
    "        if y == 0:\n",
    "            G.add_node(lab, pos=(x, -y-0.5), col='#8888ff')\n",
    "        else:\n",
    "            G.add_node(lab, pos=(x, -y+0.5), col='#8888ff')\n",
    "    for lab in outPortLabels:\n",
    "        (_, y) = lab\n",
    "        G.add_node(lab, pos=(maxMixerX+1, -y), col='#ff8888')\n",
    "    for lab in inPortLabels:\n",
    "        pass\n",
    "    allElements = set()\n",
    "    for l in (inPortLabels, mixerLabels, thruLabels, outPortLabels):\n",
    "        allElements.update(l)\n",
    "    for lab in mixerLabels:\n",
    "        (_, x, y) = lab\n",
    "        potLab = ('m', x+1, y+1)\n",
    "        if potLab in allElements:\n",
    "            G.add_edge(lab, potLab)\n",
    "        potLab = ('m', x+1, y-1)\n",
    "        if potLab in allElements:\n",
    "            G.add_edge(lab, potLab)\n",
    "        potLab = ('t', x+1, y)\n",
    "        if potLab in allElements:\n",
    "            G.add_edge(lab, potLab)\n",
    "        potLab = ('t', x+1, y+1)\n",
    "        if potLab in allElements:\n",
    "            G.add_edge(lab, potLab)\n",
    "        potLab = ('t', x-1, y)\n",
    "        if potLab in allElements:\n",
    "            G.add_edge(lab, potLab)\n",
    "        potLab = ('t', x-1, y+1)\n",
    "        if potLab in allElements:\n",
    "            G.add_edge(lab, potLab)\n",
    "    for lab in inPortLabels:\n",
    "        (_, y) = lab\n",
    "        potLab = ('m', 0, y-1)\n",
    "        if potLab in allElements:\n",
    "            G.add_edge(lab, potLab)\n",
    "        potLab = ('m', 0, y)\n",
    "        if potLab in allElements:\n",
    "            G.add_edge(lab, potLab)\n",
    "        potLab = ('t', 0, y)\n",
    "        if potLab in allElements:\n",
    "            G.add_edge(lab, potLab)\n",
    "    for lab in outPortLabels:\n",
    "        (_, y) = lab\n",
    "        potLab = ('m', maxMixerX, y-1)\n",
    "        if potLab in allElements:\n",
    "            G.add_edge(lab, potLab)\n",
    "        potLab = ('m', maxMixerX, y)\n",
    "        if potLab in allElements:\n",
    "            G.add_edge(lab, potLab)\n",
    "        potLab = ('t', maxMixerX, y)\n",
    "        if potLab in allElements:\n",
    "            G.add_edge(lab, potLab)\n",
    "    return G                               \n",
    "    "
   ]
  },
  {
   "cell_type": "code",
   "execution_count": 40,
   "metadata": {},
   "outputs": [],
   "source": [
    "def plotMesh(kSize):\n",
    "    (inPortLabels, mixerLabels, thruLabels, outPortLabels) = generateDeviceLabels(kernelSize=kSize, mixerLabel='m', thruLabel='t', verbose=False)\n",
    "    G = makeGraph(inPortLabels, mixerLabels, thruLabels, outPortLabels)\n",
    "    pos = nx.get_node_attributes(G,'pos')\n",
    "    colors = nx.get_node_attributes(G, 'col')\n",
    "    nx.draw(G, pos, with_labels=True, node_size=2000, font_size=10, node_color=list(colors.values()))\n",
    "    fig = plt.figure(1, figsize=(20, 10), dpi=60)\n",
    "    ax = plt.gca()\n",
    "    ax.margins(0.10)\n",
    "    plt.axis(\"off\")\n",
    "    plt.show()"
   ]
  },
  {
   "cell_type": "code",
   "execution_count": 168,
   "metadata": {},
   "outputs": [
    {
     "data": {
      "image/png": "[encoded data removed]",
      "text/plain": [
       "<Figure size 432x288 with 1 Axes>"
      ]
     },
     "metadata": {},
     "output_type": "display_data"
    }
   ],
   "source": [
    "plotMesh(5)"
   ]
  },
  {
   "cell_type": "markdown",
   "metadata": {},
   "source": [
    "### Solving"
   ]
  },
  {
   "cell_type": "markdown",
   "metadata": {},
   "source": [
    "Now let's apply this to a random unitary matrix of size `NN`."
   ]
  },
  {
   "cell_type": "code",
   "execution_count": 333,
   "metadata": {},
   "outputs": [],
   "source": [
    "NN = 5"
   ]
  },
  {
   "cell_type": "code",
   "execution_count": 334,
   "metadata": {},
   "outputs": [],
   "source": [
    "U = getRandomUnitaryMatrix(n=NN)"
   ]
  },
  {
   "cell_type": "code",
   "execution_count": 335,
   "metadata": {},
   "outputs": [],
   "source": [
    "def ChopPrint(A, tol=1e-16):\n",
    "    AC = A.copy()\n",
    "    AC.real[abs(AC.real) < tol] = 0.0\n",
    "    AC.imag[abs(AC.imag) < tol] = 0.0\n",
    "    print(AC)"
   ]
  },
  {
   "cell_type": "markdown",
   "metadata": {},
   "source": [
    "As part the Clements iterative algorithm, a matrix product is nulled element by element by\n",
    "tweaking the $\\theta$ and $\\phi$ on a mixer while the effect of that mixer is applied to either\n",
    "the left or right side of the matrix product.  For each iteration, we need to know:\n",
    "* which mixer is being tweaked\n",
    "* whether it is being applied to the left or right side\n",
    "* which element of the matrix product is being nulled"
   ]
  },
  {
   "cell_type": "markdown",
   "metadata": {},
   "source": [
    "The ordering of the mixers has already been computed and an example is shown below."
   ]
  },
  {
   "cell_type": "code",
   "execution_count": 336,
   "metadata": {},
   "outputs": [],
   "source": [
    "def buildMeshEquation(kSize, verbose=False):\n",
    "    mixerLabelsDiag = generateMixerLabelsDiag(kernelSize=kSize, mixerLabel='m', verbose=False)\n",
    "    frontLabelsM = mixerLabelsDiag[0::2]\n",
    "    if verbose: print(\"frontLabelsM:\", frontLabelsM)\n",
    "    backLabelsM = mixerLabelsDiag[1::2]\n",
    "    if verbose: print(\"backLabelsM:\", backLabelsM)\n",
    "\n",
    "    LHS = deque([{'item':'D'}])\n",
    "    RHS = deque()\n",
    "    RHS.append({'item':'U'})\n",
    "    UPos = 0\n",
    "    for listM in frontLabelsM:\n",
    "        for label in listM:\n",
    "            operatorDesc = {'item':label, 'inv':True}\n",
    "            RHS.append(operatorDesc)\n",
    "    for listM in backLabelsM:\n",
    "        for label in listM:\n",
    "            operatorDesc = {'item':label, 'inv':False}\n",
    "            RHS.appendleft(operatorDesc)\n",
    "            UPos += 1\n",
    "    if verbose: print(\"LHS:\")\n",
    "    if verbose: pprint(LHS)\n",
    "    if verbose: print(\"RHS:\")\n",
    "    if verbose: pprint(RHS)\n",
    "    if verbose: print(\"UPos:\", UPos)\n",
    "    return (LHS, RHS)"
   ]
  },
  {
   "cell_type": "code",
   "execution_count": 337,
   "metadata": {},
   "outputs": [
    {
     "name": "stdout",
     "output_type": "stream",
     "text": [
      "frontLabelsM: [[('m', 0, 0)], [('m', 0, 2), ('m', 1, 1), ('m', 2, 0)]]\n",
      "backLabelsM: [[('m', 4, 2), ('m', 3, 3)], [('m', 4, 0), ('m', 3, 1), ('m', 2, 2), ('m', 1, 3)]]\n",
      "LHS:\n",
      "deque([{'item': 'D'}])\n",
      "RHS:\n",
      "deque([{'inv': False, 'item': ('m', 1, 3)},\n",
      "       {'inv': False, 'item': ('m', 2, 2)},\n",
      "       {'inv': False, 'item': ('m', 3, 1)},\n",
      "       {'inv': False, 'item': ('m', 4, 0)},\n",
      "       {'inv': False, 'item': ('m', 3, 3)},\n",
      "       {'inv': False, 'item': ('m', 4, 2)},\n",
      "       {'item': 'U'},\n",
      "       {'inv': True, 'item': ('m', 0, 0)},\n",
      "       {'inv': True, 'item': ('m', 0, 2)},\n",
      "       {'inv': True, 'item': ('m', 1, 1)},\n",
      "       {'inv': True, 'item': ('m', 2, 0)}])\n",
      "UPos: 6\n"
     ]
    }
   ],
   "source": [
    "(LHS, RHS) = buildMeshEquation(NN, verbose=True)"
   ]
  },
  {
   "cell_type": "code",
   "execution_count": 338,
   "metadata": {},
   "outputs": [],
   "source": [
    "def generateMatrixZeroTargets(kernelSize):\n",
    "    NN = kernelSize\n",
    "    orderedLabels = []\n",
    "    cMax = 0\n",
    "    for i in range(1, NN):\n",
    "        diagList = []\n",
    "        cMin = 0\n",
    "        cMax = i\n",
    "        rMin = NN - i\n",
    "        rMax = NN\n",
    "        for r,c in zip(range(rMin, rMax), range(cMin, cMax)):\n",
    "            label = (r, c)\n",
    "            diagList.append(label)\n",
    "        if OddQ(i):\n",
    "            diagList.reverse()\n",
    "        orderedLabels.append(diagList)\n",
    "    return orderedLabels"
   ]
  },
  {
   "cell_type": "code",
   "execution_count": 339,
   "metadata": {},
   "outputs": [
    {
     "data": {
      "text/plain": [
       "[[(4, 0)],\n",
       " [(3, 0), (4, 1)],\n",
       " [(4, 2), (3, 1), (2, 0)],\n",
       " [(1, 0), (2, 1), (3, 2), (4, 3)]]"
      ]
     },
     "execution_count": 339,
     "metadata": {},
     "output_type": "execute_result"
    }
   ],
   "source": [
    "generateMatrixZeroTargets(NN)"
   ]
  },
  {
   "cell_type": "code",
   "execution_count": 340,
   "metadata": {},
   "outputs": [],
   "source": [
    "def buildSolultionRanges(UPos, kSize):\n",
    "    leftRange = 0\n",
    "    rightRange = 0\n",
    "\n",
    "    solRange = []\n",
    "    for n in range(1, kSize):\n",
    "        # zeroTargL = zeroTargs[(n-1)]\n",
    "        for i in range(1, n+1):\n",
    "            # zeroTarg = zeroTargL[i-1]\n",
    "            if OddQ(n):\n",
    "                newItem = {'targMat': rightRange + 1 + UPos, \n",
    "                            'matRange': (leftRange + UPos, rightRange + UPos + 1),\n",
    "                            'side': 'R'}\n",
    "                solRange.append(newItem)\n",
    "                rightRange += 1\n",
    "            if EvenQ(n):\n",
    "                newItem = {'targMat': leftRange - 1 + UPos,\n",
    "                        'matRange': (leftRange + UPos, rightRange + UPos + 1),\n",
    "                        'side': 'L'}\n",
    "                solRange.append(newItem)\n",
    "                leftRange -= 1\n",
    "    return solRange"
   ]
  },
  {
   "cell_type": "code",
   "execution_count": 341,
   "metadata": {},
   "outputs": [
    {
     "data": {
      "text/plain": [
       "[{'targMat': 7, 'matRange': (6, 7), 'side': 'R'},\n",
       " {'targMat': 5, 'matRange': (6, 8), 'side': 'L'},\n",
       " {'targMat': 4, 'matRange': (5, 8), 'side': 'L'},\n",
       " {'targMat': 8, 'matRange': (4, 8), 'side': 'R'},\n",
       " {'targMat': 9, 'matRange': (4, 9), 'side': 'R'},\n",
       " {'targMat': 10, 'matRange': (4, 10), 'side': 'R'},\n",
       " {'targMat': 3, 'matRange': (4, 11), 'side': 'L'},\n",
       " {'targMat': 2, 'matRange': (3, 11), 'side': 'L'},\n",
       " {'targMat': 1, 'matRange': (2, 11), 'side': 'L'},\n",
       " {'targMat': 0, 'matRange': (1, 11), 'side': 'L'}]"
      ]
     },
     "execution_count": 341,
     "metadata": {},
     "output_type": "execute_result"
    }
   ],
   "source": [
    "UPos = RHS.index({'item': 'U'})\n",
    "buildSolultionRanges(UPos, NN)"
   ]
  },
  {
   "cell_type": "code",
   "execution_count": 342,
   "metadata": {},
   "outputs": [],
   "source": [
    "def buildSolvingPath(kSize, UPos):\n",
    "    solRanges = buildSolultionRanges(UPos, kSize)\n",
    "    zeroTargs = concat(generateMatrixZeroTargets(kernelSize=kSize))\n",
    "    mixerLabels = concat(generateMixerLabelsDiag(kernelSize=kSize, mixerLabel='m', verbose=False))\n",
    "\n",
    "    solvingPath = []\n",
    "    for solRange, zeroTarg, mixerLabel in zip(solRanges, zeroTargs, mixerLabels):\n",
    "        step = {}\n",
    "        step['targMat'] = solRange['targMat']\n",
    "        step['matRange'] = solRange['matRange']\n",
    "        step['side'] = solRange['side']\n",
    "        step['targElem'] = zeroTarg\n",
    "        step['mixer'] = mixerLabel\n",
    "        solvingPath.append(step)\n",
    "    return solvingPath\n"
   ]
  },
  {
   "cell_type": "code",
   "execution_count": 343,
   "metadata": {},
   "outputs": [
    {
     "data": {
      "text/plain": [
       "[{'targMat': 7,\n",
       "  'matRange': (6, 7),\n",
       "  'side': 'R',\n",
       "  'targElem': (4, 0),\n",
       "  'mixer': ('m', 0, 0)},\n",
       " {'targMat': 5,\n",
       "  'matRange': (6, 8),\n",
       "  'side': 'L',\n",
       "  'targElem': (3, 0),\n",
       "  'mixer': ('m', 4, 2)},\n",
       " {'targMat': 4,\n",
       "  'matRange': (5, 8),\n",
       "  'side': 'L',\n",
       "  'targElem': (4, 1),\n",
       "  'mixer': ('m', 3, 3)},\n",
       " {'targMat': 8,\n",
       "  'matRange': (4, 8),\n",
       "  'side': 'R',\n",
       "  'targElem': (4, 2),\n",
       "  'mixer': ('m', 0, 2)},\n",
       " {'targMat': 9,\n",
       "  'matRange': (4, 9),\n",
       "  'side': 'R',\n",
       "  'targElem': (3, 1),\n",
       "  'mixer': ('m', 1, 1)},\n",
       " {'targMat': 10,\n",
       "  'matRange': (4, 10),\n",
       "  'side': 'R',\n",
       "  'targElem': (2, 0),\n",
       "  'mixer': ('m', 2, 0)},\n",
       " {'targMat': 3,\n",
       "  'matRange': (4, 11),\n",
       "  'side': 'L',\n",
       "  'targElem': (1, 0),\n",
       "  'mixer': ('m', 4, 0)},\n",
       " {'targMat': 2,\n",
       "  'matRange': (3, 11),\n",
       "  'side': 'L',\n",
       "  'targElem': (2, 1),\n",
       "  'mixer': ('m', 3, 1)},\n",
       " {'targMat': 1,\n",
       "  'matRange': (2, 11),\n",
       "  'side': 'L',\n",
       "  'targElem': (3, 2),\n",
       "  'mixer': ('m', 2, 2)},\n",
       " {'targMat': 0,\n",
       "  'matRange': (1, 11),\n",
       "  'side': 'L',\n",
       "  'targElem': (4, 3),\n",
       "  'mixer': ('m', 1, 3)}]"
      ]
     },
     "execution_count": 343,
     "metadata": {},
     "output_type": "execute_result"
    }
   ],
   "source": [
    "solvingPath = buildSolvingPath(NN, UPos)\n",
    "solvingPath"
   ]
  },
  {
   "cell_type": "markdown",
   "metadata": {},
   "source": [
    "We can create a dictionary of mixers using the labels as keys."
   ]
  },
  {
   "cell_type": "code",
   "execution_count": 344,
   "metadata": {},
   "outputs": [],
   "source": [
    "mixerLabelsDiag = generateMixerLabelsDiag(NN)\n",
    "mixerDict = {label:Mixer() for label in concat(mixerLabelsDiag)}"
   ]
  },
  {
   "cell_type": "code",
   "execution_count": 345,
   "metadata": {},
   "outputs": [],
   "source": [
    "D = np.identity(n=NN, dtype='complex')"
   ]
  },
  {
   "cell_type": "markdown",
   "metadata": {},
   "source": [
    "For each item description, we can obtain a matrix.  As such, the LHS and RHS above\n",
    "represent matrix products."
   ]
  },
  {
   "cell_type": "code",
   "execution_count": 346,
   "metadata": {},
   "outputs": [],
   "source": [
    "def getM(desc):\n",
    "    if desc['item'] == 'U':\n",
    "        M = U\n",
    "    elif desc['item'] == 'D':\n",
    "        M = D\n",
    "    elif desc['item'][0] == 'm':\n",
    "        (_, i, j) = desc['item']\n",
    "        mixer = mixerDict[desc['item']]\n",
    "        theta_phi = (mixer.theta, mixer.phi)\n",
    "        if(desc['inv'] == False):\n",
    "            M = TMesh(theta_phi, N=NN, lines=(j, j+1))\n",
    "        else:\n",
    "            M = TinvMesh(theta_phi, N=NN, lines=(j, j+1))\n",
    "    else:\n",
    "        print(\"You shouldn't be here\")\n",
    "    return M"
   ]
  },
  {
   "cell_type": "code",
   "execution_count": 347,
   "metadata": {},
   "outputs": [],
   "source": [
    "# for desc in LHS:\n",
    "#     print(getM(desc, mixerDict, kSize, U, D))\n",
    "\n",
    "# for desc in RHS:\n",
    "#     print(getM(desc, mixerDict, kSize, U, D))"
   ]
  },
  {
   "cell_type": "code",
   "execution_count": 348,
   "metadata": {},
   "outputs": [],
   "source": [
    "def partialProduct(RHS, lR, rR, getM, verbose=False):\n",
    "    matrixList = []\n",
    "    for i, term in enumerate(RHS):\n",
    "        if i >= lR and i < rR:\n",
    "            M = getM(term)\n",
    "            matrixList.append(M)\n",
    "    if verbose: pprint(matrixList)            \n",
    "    if len(matrixList) == 1:\n",
    "        return matrixList[0]\n",
    "    else:\n",
    "        return np.linalg.multi_dot(matrixList)"
   ]
  },
  {
   "cell_type": "code",
   "execution_count": 349,
   "metadata": {},
   "outputs": [
    {
     "name": "stdout",
     "output_type": "stream",
     "text": [
      "[array([[-0.2126301 -0.27708945j,  0.35390932+0.30148041j, -0.62889848-0.05711657j, -0.17778166-0.38581215j,  0.19590368+0.21037216j],\n",
      "       [-0.49980998+0.15371475j, -0.20916958-0.48955593j, -0.2775621 +0.01497567j,  0.45935965-0.13548546j, -0.23584969+0.28440672j],\n",
      "       [ 0.06316354+0.03936355j,  0.12889195-0.14796699j,  0.14579382-0.02024448j, -0.42276405-0.49807654j, -0.70900343-0.06922633j],\n",
      "       [ 0.39536264-0.26947816j,  0.30856521-0.02924354j,  0.1773204 +0.54037301j,  0.36947384-0.10541608j, -0.08604745+0.44331601j],\n",
      "       [ 0.42233747-0.43787382j, -0.43842599-0.41671147j, -0.40583547+0.11893608j, -0.11193926-0.05667027j,  0.06521665-0.25532024j]]),\n",
      " array([[ 1.+0.j,  0.+0.j,  0.+0.j,  0.+0.j,  0.+0.j],\n",
      "       [-0.+0.j,  1.+0.j,  0.+0.j,  0.+0.j,  0.+0.j],\n",
      "       [ 0.+0.j,  0.+0.j,  1.+0.j,  0.+0.j,  0.+0.j],\n",
      "       [ 0.+0.j,  0.+0.j,  0.+0.j,  1.+0.j,  0.+0.j],\n",
      "       [ 0.+0.j,  0.+0.j,  0.+0.j,  0.+0.j,  1.+0.j]])]\n"
     ]
    },
    {
     "data": {
      "text/plain": [
       "array([[-0.2126301 -0.27708945j,  0.35390932+0.30148041j, -0.62889848-0.05711657j, -0.17778166-0.38581215j,  0.19590368+0.21037216j],\n",
       "       [-0.49980998+0.15371475j, -0.20916958-0.48955593j, -0.2775621 +0.01497567j,  0.45935965-0.13548546j, -0.23584969+0.28440672j],\n",
       "       [ 0.06316354+0.03936355j,  0.12889195-0.14796699j,  0.14579382-0.02024448j, -0.42276405-0.49807654j, -0.70900343-0.06922633j],\n",
       "       [ 0.39536264-0.26947816j,  0.30856521-0.02924354j,  0.1773204 +0.54037301j,  0.36947384-0.10541608j, -0.08604745+0.44331601j],\n",
       "       [ 0.42233747-0.43787382j, -0.43842599-0.41671147j, -0.40583547+0.11893608j, -0.11193926-0.05667027j,  0.06521665-0.25532024j]])"
      ]
     },
     "execution_count": 349,
     "metadata": {},
     "output_type": "execute_result"
    }
   ],
   "source": [
    "partialProduct(RHS, 6, 8, getM, verbose=True)"
   ]
  },
  {
   "cell_type": "markdown",
   "metadata": {},
   "source": [
    "We will use the `minimize` function above to find the proper $\\theta$ and $\\phi$\n",
    "for each mixer in turn.  Here `f` is a cost function which will be minimized by\n",
    "tweaking $\\theta$ and $\\phi$ while trying to render the element `zeroTarg` of \n",
    "$(S_{\\mathrm{tot}} \\times T^{-1})$ to be zero, assuming `side = 'r'`.  Note that if\n",
    "`side = 'l'`, then we will be looking at $(T \\times S_{\\mathrm{tot}})$"
   ]
  },
  {
   "cell_type": "code",
   "execution_count": 350,
   "metadata": {},
   "outputs": [],
   "source": [
    "from scipy.optimize import minimize"
   ]
  },
  {
   "cell_type": "code",
   "execution_count": 351,
   "metadata": {},
   "outputs": [],
   "source": [
    "def f(theta_phi, Stot, side, zeroTarg, lines):\n",
    "    NN, _ = Stot.shape\n",
    "    if side == 'R':\n",
    "        Ainv = TinvMesh(theta_phi, N=NN, lines=lines)\n",
    "        Ttot = Stot@Ainv\n",
    "    elif side == 'L':\n",
    "        A = TMesh(theta_phi, N=NN, lines=lines)\n",
    "        Ttot = A@Stot\n",
    "    else:\n",
    "        print(\"you shouldn't be here\")\n",
    "    return np.abs(Ttot[zeroTarg])"
   ]
  },
  {
   "cell_type": "code",
   "execution_count": 352,
   "metadata": {},
   "outputs": [
    {
     "name": "stdout",
     "output_type": "stream",
     "text": [
      "[{'matRange': (6, 7),\n",
      "  'mixer': ('m', 0, 0),\n",
      "  'side': 'R',\n",
      "  'targElem': (4, 0),\n",
      "  'targMat': 7},\n",
      " {'matRange': (6, 8),\n",
      "  'mixer': ('m', 4, 2),\n",
      "  'side': 'L',\n",
      "  'targElem': (3, 0),\n",
      "  'targMat': 5},\n",
      " {'matRange': (5, 8),\n",
      "  'mixer': ('m', 3, 3),\n",
      "  'side': 'L',\n",
      "  'targElem': (4, 1),\n",
      "  'targMat': 4},\n",
      " {'matRange': (4, 8),\n",
      "  'mixer': ('m', 0, 2),\n",
      "  'side': 'R',\n",
      "  'targElem': (4, 2),\n",
      "  'targMat': 8},\n",
      " {'matRange': (4, 9),\n",
      "  'mixer': ('m', 1, 1),\n",
      "  'side': 'R',\n",
      "  'targElem': (3, 1),\n",
      "  'targMat': 9},\n",
      " {'matRange': (4, 10),\n",
      "  'mixer': ('m', 2, 0),\n",
      "  'side': 'R',\n",
      "  'targElem': (2, 0),\n",
      "  'targMat': 10},\n",
      " {'matRange': (4, 11),\n",
      "  'mixer': ('m', 4, 0),\n",
      "  'side': 'L',\n",
      "  'targElem': (1, 0),\n",
      "  'targMat': 3},\n",
      " {'matRange': (3, 11),\n",
      "  'mixer': ('m', 3, 1),\n",
      "  'side': 'L',\n",
      "  'targElem': (2, 1),\n",
      "  'targMat': 2},\n",
      " {'matRange': (2, 11),\n",
      "  'mixer': ('m', 2, 2),\n",
      "  'side': 'L',\n",
      "  'targElem': (3, 2),\n",
      "  'targMat': 1},\n",
      " {'matRange': (1, 11),\n",
      "  'mixer': ('m', 1, 3),\n",
      "  'side': 'L',\n",
      "  'targElem': (4, 3),\n",
      "  'targMat': 0}]\n"
     ]
    }
   ],
   "source": [
    "pprint(solvingPath)"
   ]
  },
  {
   "cell_type": "code",
   "execution_count": 645,
   "metadata": {},
   "outputs": [],
   "source": [
    "def nullAllMixers(RHS, solvingPath, mixerDict, getM, verbose=False):\n",
    "    for pathStep in solvingPath:\n",
    "        if verbose: pprint(pathStep)\n",
    "\n",
    "        lR, rR = pathStep['matRange']\n",
    "        side = pathStep['side']\n",
    "        zeroTarg = pathStep['targElem']\n",
    "        mixerLabel = pathStep['mixer']\n",
    "        (_, _, topLine) = mixerLabel\n",
    "        lines = (topLine, topLine + 1)\n",
    "        \n",
    "        partProduct = partialProduct(RHS, lR, rR, getM)\n",
    "        sol = minimize(f, x0=[0,0], args=(partProduct, side, zeroTarg, lines))\n",
    "        setThetaPhi = sol.x\n",
    "        if verbose: print(mixerLabel, setThetaPhi, sol.fun)\n",
    "        (_, i, j) = mixerLabel\n",
    "        setMixer = mixerDict[mixerLabel]\n",
    "        setMixer.theta, setMixer.phi = setThetaPhi"
   ]
  },
  {
   "cell_type": "code",
   "execution_count": 494,
   "metadata": {},
   "outputs": [
    {
     "name": "stdout",
     "output_type": "stream",
     "text": [
      "{'matRange': (6, 7),\n",
      " 'mixer': ('m', 0, 0),\n",
      " 'side': 'R',\n",
      " 'targElem': (4, 0),\n",
      " 'targMat': 7}\n"
     ]
    },
    {
     "ename": "TypeError",
     "evalue": "getM() missing 1 required positional argument: 'desc'",
     "output_type": "error",
     "traceback": [
      "\u001b[1;31m---------------------------------------------------------------------------\u001b[0m",
      "\u001b[1;31mTypeError\u001b[0m                                 Traceback (most recent call last)",
      "\u001b[1;32m<ipython-input-494-dc44dd517d6f>\u001b[0m in \u001b[0;36m<module>\u001b[1;34m\u001b[0m\n\u001b[1;32m----> 1\u001b[1;33m \u001b[0mnullAllMixers\u001b[0m\u001b[1;33m(\u001b[0m\u001b[0mRHS\u001b[0m\u001b[1;33m,\u001b[0m \u001b[0msolvingPath\u001b[0m\u001b[1;33m,\u001b[0m \u001b[0mmixerDict\u001b[0m\u001b[1;33m,\u001b[0m \u001b[0mgetM\u001b[0m\u001b[1;33m)\u001b[0m\u001b[1;33m\u001b[0m\u001b[1;33m\u001b[0m\u001b[0m\n\u001b[0m",
      "\u001b[1;32m<ipython-input-493-a265e147576e>\u001b[0m in \u001b[0;36mnullAllMixers\u001b[1;34m(RHS, solvingPath, mixerDict, getM)\u001b[0m\n\u001b[0;32m     10\u001b[0m         \u001b[0mlines\u001b[0m \u001b[1;33m=\u001b[0m \u001b[1;33m(\u001b[0m\u001b[0mtopLine\u001b[0m\u001b[1;33m,\u001b[0m \u001b[0mtopLine\u001b[0m \u001b[1;33m+\u001b[0m \u001b[1;36m1\u001b[0m\u001b[1;33m)\u001b[0m\u001b[1;33m\u001b[0m\u001b[1;33m\u001b[0m\u001b[0m\n\u001b[0;32m     11\u001b[0m \u001b[1;33m\u001b[0m\u001b[0m\n\u001b[1;32m---> 12\u001b[1;33m         \u001b[0mpartProduct\u001b[0m \u001b[1;33m=\u001b[0m \u001b[0mpartialProduct\u001b[0m\u001b[1;33m(\u001b[0m\u001b[0mRHS\u001b[0m\u001b[1;33m,\u001b[0m \u001b[0mlR\u001b[0m\u001b[1;33m,\u001b[0m \u001b[0mrR\u001b[0m\u001b[1;33m,\u001b[0m \u001b[0mgetM\u001b[0m\u001b[1;33m)\u001b[0m\u001b[1;33m\u001b[0m\u001b[1;33m\u001b[0m\u001b[0m\n\u001b[0m\u001b[0;32m     13\u001b[0m         \u001b[0msol\u001b[0m \u001b[1;33m=\u001b[0m \u001b[0mminimize\u001b[0m\u001b[1;33m(\u001b[0m\u001b[0mf\u001b[0m\u001b[1;33m,\u001b[0m \u001b[0mx0\u001b[0m\u001b[1;33m=\u001b[0m\u001b[1;33m[\u001b[0m\u001b[1;36m0\u001b[0m\u001b[1;33m,\u001b[0m\u001b[1;36m0\u001b[0m\u001b[1;33m]\u001b[0m\u001b[1;33m,\u001b[0m \u001b[0margs\u001b[0m\u001b[1;33m=\u001b[0m\u001b[1;33m(\u001b[0m\u001b[0mpartProduct\u001b[0m\u001b[1;33m,\u001b[0m \u001b[0mside\u001b[0m\u001b[1;33m,\u001b[0m \u001b[0mzeroTarg\u001b[0m\u001b[1;33m,\u001b[0m \u001b[0mlines\u001b[0m\u001b[1;33m)\u001b[0m\u001b[1;33m)\u001b[0m\u001b[1;33m\u001b[0m\u001b[1;33m\u001b[0m\u001b[0m\n\u001b[0;32m     14\u001b[0m         \u001b[0msetThetaPhi\u001b[0m \u001b[1;33m=\u001b[0m \u001b[0msol\u001b[0m\u001b[1;33m.\u001b[0m\u001b[0mx\u001b[0m\u001b[1;33m\u001b[0m\u001b[1;33m\u001b[0m\u001b[0m\n",
      "\u001b[1;32m<ipython-input-348-38d064531ca2>\u001b[0m in \u001b[0;36mpartialProduct\u001b[1;34m(RHS, lR, rR, getM, verbose)\u001b[0m\n\u001b[0;32m      3\u001b[0m     \u001b[1;32mfor\u001b[0m \u001b[0mi\u001b[0m\u001b[1;33m,\u001b[0m \u001b[0mterm\u001b[0m \u001b[1;32min\u001b[0m \u001b[0menumerate\u001b[0m\u001b[1;33m(\u001b[0m\u001b[0mRHS\u001b[0m\u001b[1;33m)\u001b[0m\u001b[1;33m:\u001b[0m\u001b[1;33m\u001b[0m\u001b[1;33m\u001b[0m\u001b[0m\n\u001b[0;32m      4\u001b[0m         \u001b[1;32mif\u001b[0m \u001b[0mi\u001b[0m \u001b[1;33m>=\u001b[0m \u001b[0mlR\u001b[0m \u001b[1;32mand\u001b[0m \u001b[0mi\u001b[0m \u001b[1;33m<\u001b[0m \u001b[0mrR\u001b[0m\u001b[1;33m:\u001b[0m\u001b[1;33m\u001b[0m\u001b[1;33m\u001b[0m\u001b[0m\n\u001b[1;32m----> 5\u001b[1;33m             \u001b[0mM\u001b[0m \u001b[1;33m=\u001b[0m \u001b[0mgetM\u001b[0m\u001b[1;33m(\u001b[0m\u001b[0mterm\u001b[0m\u001b[1;33m)\u001b[0m\u001b[1;33m\u001b[0m\u001b[1;33m\u001b[0m\u001b[0m\n\u001b[0m\u001b[0;32m      6\u001b[0m             \u001b[0mmatrixList\u001b[0m\u001b[1;33m.\u001b[0m\u001b[0mappend\u001b[0m\u001b[1;33m(\u001b[0m\u001b[0mM\u001b[0m\u001b[1;33m)\u001b[0m\u001b[1;33m\u001b[0m\u001b[1;33m\u001b[0m\u001b[0m\n\u001b[0;32m      7\u001b[0m     \u001b[1;32mif\u001b[0m \u001b[0mverbose\u001b[0m\u001b[1;33m:\u001b[0m \u001b[0mpprint\u001b[0m\u001b[1;33m(\u001b[0m\u001b[0mmatrixList\u001b[0m\u001b[1;33m)\u001b[0m\u001b[1;33m\u001b[0m\u001b[1;33m\u001b[0m\u001b[0m\n",
      "\u001b[1;31mTypeError\u001b[0m: getM() missing 1 required positional argument: 'desc'"
     ]
    }
   ],
   "source": [
    "nullAllMixers(RHS, solvingPath, mixerDict, getM, verbose=True)"
   ]
  },
  {
   "cell_type": "markdown",
   "metadata": {},
   "source": [
    "At this point, the RHS should be a diagonal matrix corresponding to $\\mathbf{D}$"
   ]
  },
  {
   "cell_type": "code",
   "execution_count": 355,
   "metadata": {},
   "outputs": [
    {
     "data": {
      "text/plain": [
       "array([[-0.02007856+0.99979841j,  0.        +0.j        , -0.00000001-0.00000001j,  0.        -0.j        , -0.        +0.j        ],\n",
       "       [ 0.        -0.00000001j,  0.71502947+0.69909431j, -0.        -0.j        , -0.        -0.j        ,  0.        -0.j        ],\n",
       "       [-0.00000001-0.j        , -0.        +0.j        , -0.87228873+0.48899117j,  0.        -0.j        , -0.        +0.j        ],\n",
       "       [-0.        -0.j        , -0.        -0.j        ,  0.        -0.j        ,  0.55530545-0.83164648j,  0.        +0.00000001j],\n",
       "       [-0.        -0.j        ,  0.        -0.j        ,  0.        -0.j        , -0.00000001+0.j        , -0.00058918+0.99999983j]])"
      ]
     },
     "execution_count": 355,
     "metadata": {},
     "output_type": "execute_result"
    }
   ],
   "source": [
    "partialProduct(RHS, 0, len(RHS), getM)"
   ]
  },
  {
   "cell_type": "markdown",
   "metadata": {},
   "source": [
    "There will be some minor numerical errors for off-diagonal terms which we will remove using element-by-element multiplication\n",
    "with an identity matrix"
   ]
  },
  {
   "cell_type": "code",
   "execution_count": 356,
   "metadata": {},
   "outputs": [
    {
     "name": "stdout",
     "output_type": "stream",
     "text": [
      "[[-0.02007856+0.99979841j  0.        +0.j          0.        -0.j          0.        +0.j         -0.        +0.j        ]\n",
      " [ 0.        +0.j          0.71502947+0.69909431j  0.        -0.j          0.        -0.j          0.        +0.j        ]\n",
      " [ 0.        -0.j         -0.        +0.j         -0.87228873+0.48899117j  0.        +0.j         -0.        +0.j        ]\n",
      " [ 0.        -0.j          0.        -0.j          0.        +0.j          0.55530545-0.83164648j  0.        +0.j        ]\n",
      " [ 0.        -0.j          0.        +0.j          0.        +0.j         -0.        +0.j         -0.00058918+0.99999983j]]\n"
     ]
    }
   ],
   "source": [
    "D[:] = np.identity(n=NN) * partialProduct(RHS, 0, len(RHS), getM)\n",
    "print(D)"
   ]
  },
  {
   "cell_type": "markdown",
   "metadata": {},
   "source": [
    "Next, we pop the matrices off the RHS to the LHS.  In typical fashion, this involves the inverse.  We begin with the equation below"
   ]
  },
  {
   "cell_type": "code",
   "execution_count": 357,
   "metadata": {},
   "outputs": [
    {
     "name": "stdout",
     "output_type": "stream",
     "text": [
      "deque([{'item': 'D'}])\n",
      " == \n",
      "deque([{'inv': False, 'item': ('m', 1, 3)},\n",
      "       {'inv': False, 'item': ('m', 2, 2)},\n",
      "       {'inv': False, 'item': ('m', 3, 1)},\n",
      "       {'inv': False, 'item': ('m', 4, 0)},\n",
      "       {'inv': False, 'item': ('m', 3, 3)},\n",
      "       {'inv': False, 'item': ('m', 4, 2)},\n",
      "       {'item': 'U'},\n",
      "       {'inv': True, 'item': ('m', 0, 0)},\n",
      "       {'inv': True, 'item': ('m', 0, 2)},\n",
      "       {'inv': True, 'item': ('m', 1, 1)},\n",
      "       {'inv': True, 'item': ('m', 2, 0)}])\n"
     ]
    }
   ],
   "source": [
    "pprint(LHS)\n",
    "print(\" == \")\n",
    "pprint(RHS)"
   ]
  },
  {
   "cell_type": "markdown",
   "metadata": {},
   "source": [
    "And then first strip the everything to the \"right\" of the $U$, and then everything to the \"left\" of the $U$."
   ]
  },
  {
   "cell_type": "code",
   "execution_count": 358,
   "metadata": {},
   "outputs": [],
   "source": [
    "def solveForU(LHS, RHS):\n",
    "    while(True):\n",
    "        term = RHS[-1]\n",
    "        if term['item'] == 'U':\n",
    "            break\n",
    "        RHS.pop()\n",
    "        term['inv'] = not term['inv']\n",
    "        LHS.append(term)\n",
    "\n",
    "    while(True):\n",
    "        term = RHS[0]\n",
    "        if term['item'] == 'U':\n",
    "            break\n",
    "        RHS.popleft()\n",
    "        term['inv'] = not term['inv']\n",
    "        LHS.appendleft(term)\n",
    "    \n",
    "    return (RHS, LHS)"
   ]
  },
  {
   "cell_type": "code",
   "execution_count": 359,
   "metadata": {},
   "outputs": [],
   "source": [
    "LHS, RHS = solveForU(LHS, RHS)"
   ]
  },
  {
   "cell_type": "code",
   "execution_count": 360,
   "metadata": {},
   "outputs": [
    {
     "name": "stdout",
     "output_type": "stream",
     "text": [
      "deque([{'item': 'U'}])\n",
      " == \n",
      "deque([{'inv': True, 'item': ('m', 4, 2)},\n",
      "       {'inv': True, 'item': ('m', 3, 3)},\n",
      "       {'inv': True, 'item': ('m', 4, 0)},\n",
      "       {'inv': True, 'item': ('m', 3, 1)},\n",
      "       {'inv': True, 'item': ('m', 2, 2)},\n",
      "       {'inv': True, 'item': ('m', 1, 3)},\n",
      "       {'item': 'D'},\n",
      "       {'inv': False, 'item': ('m', 2, 0)},\n",
      "       {'inv': False, 'item': ('m', 1, 1)},\n",
      "       {'inv': False, 'item': ('m', 0, 2)},\n",
      "       {'inv': False, 'item': ('m', 0, 0)}])\n"
     ]
    }
   ],
   "source": [
    "pprint(LHS)\n",
    "print(\" == \")\n",
    "pprint(RHS)"
   ]
  },
  {
   "cell_type": "markdown",
   "metadata": {},
   "source": [
    "At this point, we have a system of mixers and an array of phase shifters nestled in the middle.  The product of all of these elements is indeed $\\mathbf{U}$."
   ]
  },
  {
   "cell_type": "code",
   "execution_count": 361,
   "metadata": {},
   "outputs": [
    {
     "name": "stdout",
     "output_type": "stream",
     "text": [
      "RHS:\n",
      "[[-0.2126301 -0.27708945j  0.35390932+0.30148041j -0.62889848-0.05711657j -0.17778165-0.38581215j  0.19590368+0.21037216j]\n",
      " [-0.49980997+0.15371475j -0.20916958-0.48955593j -0.2775621 +0.01497566j  0.45935965-0.13548546j -0.23584969+0.28440672j]\n",
      " [ 0.06316354+0.03936355j  0.12889195-0.14796699j  0.14579382-0.02024448j -0.42276405-0.49807653j -0.70900344-0.06922633j]\n",
      " [ 0.39536264-0.26947816j  0.30856521-0.02924354j  0.1773204 +0.540373j    0.36947384-0.10541609j -0.08604745+0.44331601j]\n",
      " [ 0.42233747-0.43787382j -0.43842599-0.41671147j -0.40583548+0.11893608j -0.11193926-0.05667027j  0.06521665-0.25532024j]]\n",
      "U: \n",
      "[[-0.2126301 -0.27708945j  0.35390932+0.30148041j -0.62889848-0.05711657j -0.17778166-0.38581215j  0.19590368+0.21037216j]\n",
      " [-0.49980998+0.15371475j -0.20916958-0.48955593j -0.2775621 +0.01497567j  0.45935965-0.13548546j -0.23584969+0.28440672j]\n",
      " [ 0.06316354+0.03936355j  0.12889195-0.14796699j  0.14579382-0.02024448j -0.42276405-0.49807654j -0.70900343-0.06922633j]\n",
      " [ 0.39536264-0.26947816j  0.30856521-0.02924354j  0.1773204 +0.54037301j  0.36947384-0.10541608j -0.08604745+0.44331601j]\n",
      " [ 0.42233747-0.43787382j -0.43842599-0.41671147j -0.40583547+0.11893608j -0.11193926-0.05667027j  0.06521665-0.25532024j]]\n"
     ]
    }
   ],
   "source": [
    "print(\"RHS:\")\n",
    "print(np.linalg.multi_dot(list(map(getM, RHS))))\n",
    "print(\"U: \")\n",
    "print(U)\n"
   ]
  },
  {
   "cell_type": "markdown",
   "metadata": {},
   "source": [
    "However, we notice that approximately the last half of these elements (left-most) are defined by their inverse.  Additionally, the \n",
    "middle might not be a convenient place to put an array of phase shifters.  Next, we employ a transformation to push \n",
    "$\\mathbf{D}$ to the very end of the structure, which in matrix multiplication would be the left-most term, while transforming\n",
    "the \"inverse mixers\" into standard ones."
   ]
  },
  {
   "cell_type": "markdown",
   "metadata": {},
   "source": [
    "The idea is that given a mixer with transmission coefficient:\n",
    "\n",
    "$$\n",
    "T(\\theta, \\phi) = \\begin{pmatrix}\n",
    "e^{i\\phi} \\cos(\\theta) & -\\sin(\\theta)\\\\\n",
    "e^{i\\phi} \\sin(\\theta) & \\cos(\\theta)\n",
    "\\end{pmatrix}\n",
    "$$\n",
    "\n",
    "and a phase shifter array\n",
    "\n",
    "$$\n",
    "D(\\gamma_1, \\gamma_2) = \\begin{pmatrix}\n",
    "e^{i\\gamma_1}  & 0\\\\\n",
    "0 & e^{i\\gamma_2}\n",
    "\\end{pmatrix}\n",
    "$$\n",
    "\n",
    "and a sequence $(T(\\theta, \\phi))^{-1}\\times D(\\gamma_1, \\gamma_2)$, can we\n",
    "find an equivalent $ D(\\gamma_1', \\gamma_2') \\times T(\\theta', \\phi')$ and if so,\n",
    "is there a convenient transform from $\\{\\theta, \\phi, \\gamma_1, \\gamma2 \\}$ to \n",
    "$\\{\\theta', \\phi', \\gamma_1', \\gamma2'\\}$?"
   ]
  },
  {
   "cell_type": "markdown",
   "metadata": {},
   "source": [
    "After a bit of work, one can conclude that, indeed, such a transformation can\n",
    "occur providing:\n",
    "\\begin{align*} \n",
    "\\theta' &= -\\theta \\\\\n",
    "\\phi' &= \\gamma_1 - \\gamma_2 \\\\\n",
    "\\gamma_1' &= \\gamma_2 - \\phi \\\\\n",
    "\\gamma_2' &= \\gamma_2 \\\\\n",
    "\n",
    "\\end{align*}"
   ]
  },
  {
   "cell_type": "markdown",
   "metadata": {},
   "source": [
    "First we must find the location of the D matrix in the product:"
   ]
  },
  {
   "cell_type": "code",
   "execution_count": 362,
   "metadata": {},
   "outputs": [
    {
     "name": "stdout",
     "output_type": "stream",
     "text": [
      "6\n"
     ]
    }
   ],
   "source": [
    "RHS\n",
    "DPos = next(i for (i, x) in enumerate(RHS) if x['item'] == 'D')\n",
    "print(DPos)"
   ]
  },
  {
   "cell_type": "markdown",
   "metadata": {},
   "source": [
    "Next we iteratively move D to the left, applying the transformtion rules above."
   ]
  },
  {
   "cell_type": "code",
   "execution_count": 363,
   "metadata": {},
   "outputs": [],
   "source": [
    "def pushOutD(RHS, mixerDict, D):\n",
    "    DPos = next(i for (i, x) in enumerate(RHS) if x['item'] == 'D')\n",
    "\n",
    "    while DPos > 0:\n",
    "        # get mixer to left of D\n",
    "        termDesc = RHS[DPos - 1]\n",
    "        label = termDesc['item']\n",
    "        (_, _, j) = label\n",
    "        L1, L2 = (j, j+1)\n",
    "        mixer = mixerDict[label]\n",
    "\n",
    "        # get old mixer and D values for the connected lines.\n",
    "        gamma1 = np.real(np.log(D[L1, L1])/I)\n",
    "        gamma2 = np.real(np.log(D[L2, L2])/I)\n",
    "        theta = mixer.theta\n",
    "        phi = mixer.phi\n",
    "\n",
    "        # computer new mixer and D values for the connected lines.\n",
    "        thetap = -theta\n",
    "        phip = gamma1 - gamma2\n",
    "        gamma1p = gamma2 - phi\n",
    "        gamma2p = gamma2\n",
    "\n",
    "        # set the mixer to the new values.\n",
    "        mixer.theta = thetap\n",
    "        mixer.phi = phip\n",
    "        termDesc['inv'] = False\n",
    "        # set D to the new values.\n",
    "        D[L1, L1] = exp(I*gamma1p)\n",
    "        D[L2, L2] = exp(I*gamma2p)\n",
    "\n",
    "        # swap the location of the mixer and D.\n",
    "        (RHS[DPos], RHS[DPos-1]) = (RHS[DPos-1], RHS[DPos])\n",
    "        DPos = DPos - 1"
   ]
  },
  {
   "cell_type": "code",
   "execution_count": 364,
   "metadata": {},
   "outputs": [],
   "source": [
    "pushOutD(RHS, mixerDict, D)"
   ]
  },
  {
   "cell_type": "markdown",
   "metadata": {},
   "source": [
    "And indeed, we see that D is in the front position."
   ]
  },
  {
   "cell_type": "code",
   "execution_count": 365,
   "metadata": {},
   "outputs": [
    {
     "data": {
      "text/plain": [
       "deque([{'item': 'D'},\n",
       "       {'item': ('m', 4, 2), 'inv': False},\n",
       "       {'item': ('m', 3, 3), 'inv': False},\n",
       "       {'item': ('m', 4, 0), 'inv': False},\n",
       "       {'item': ('m', 3, 1), 'inv': False},\n",
       "       {'item': ('m', 2, 2), 'inv': False},\n",
       "       {'item': ('m', 1, 3), 'inv': False},\n",
       "       {'item': ('m', 2, 0), 'inv': False},\n",
       "       {'item': ('m', 1, 1), 'inv': False},\n",
       "       {'item': ('m', 0, 2), 'inv': False},\n",
       "       {'item': ('m', 0, 0), 'inv': False}])"
      ]
     },
     "execution_count": 365,
     "metadata": {},
     "output_type": "execute_result"
    }
   ],
   "source": [
    "RHS"
   ]
  },
  {
   "cell_type": "markdown",
   "metadata": {},
   "source": [
    "and that the product of the above devices, does yield the original $\\mathbf{U}$."
   ]
  },
  {
   "cell_type": "code",
   "execution_count": 366,
   "metadata": {},
   "outputs": [
    {
     "name": "stdout",
     "output_type": "stream",
     "text": [
      "RHS:\n",
      "[[-0.2126301 -0.27708945j  0.35390932+0.30148041j -0.62889848-0.05711657j -0.17778165-0.38581215j  0.19590368+0.21037216j]\n",
      " [-0.49980997+0.15371475j -0.20916958-0.48955593j -0.2775621 +0.01497566j  0.45935965-0.13548546j -0.23584969+0.28440672j]\n",
      " [ 0.06316354+0.03936355j  0.12889195-0.14796699j  0.14579382-0.02024448j -0.42276405-0.49807653j -0.70900344-0.06922633j]\n",
      " [ 0.39536264-0.26947816j  0.30856521-0.02924354j  0.1773204 +0.540373j    0.36947384-0.10541609j -0.08604745+0.44331601j]\n",
      " [ 0.42233747-0.43787382j -0.43842599-0.41671147j -0.40583548+0.11893608j -0.11193926-0.05667027j  0.06521665-0.25532024j]]\n",
      "U: \n",
      "[[-0.2126301 -0.27708945j  0.35390932+0.30148041j -0.62889848-0.05711657j -0.17778166-0.38581215j  0.19590368+0.21037216j]\n",
      " [-0.49980998+0.15371475j -0.20916958-0.48955593j -0.2775621 +0.01497567j  0.45935965-0.13548546j -0.23584969+0.28440672j]\n",
      " [ 0.06316354+0.03936355j  0.12889195-0.14796699j  0.14579382-0.02024448j -0.42276405-0.49807654j -0.70900343-0.06922633j]\n",
      " [ 0.39536264-0.26947816j  0.30856521-0.02924354j  0.1773204 +0.54037301j  0.36947384-0.10541608j -0.08604745+0.44331601j]\n",
      " [ 0.42233747-0.43787382j -0.43842599-0.41671147j -0.40583547+0.11893608j -0.11193926-0.05667027j  0.06521665-0.25532024j]]\n"
     ]
    }
   ],
   "source": [
    "print(\"RHS:\")\n",
    "print(np.linalg.multi_dot(list(map(getM, RHS))))\n",
    "print(\"U: \")\n",
    "print(U)"
   ]
  },
  {
   "cell_type": "markdown",
   "metadata": {},
   "source": [
    "## Examination as Series of Banded Matrix Operators"
   ]
  },
  {
   "cell_type": "markdown",
   "metadata": {},
   "source": [
    "Now let us reorder the elements according to their column position."
   ]
  },
  {
   "cell_type": "code",
   "execution_count": 102,
   "metadata": {},
   "outputs": [],
   "source": [
    "mixerLabelsRect = generateMixerLabels(5, mixerLabel='m', verbose=False)"
   ]
  },
  {
   "cell_type": "code",
   "execution_count": 103,
   "metadata": {},
   "outputs": [
    {
     "data": {
      "text/plain": [
       "[{'item': 'D'},\n",
       " {'item': ('m', 4, 0), 'inv': False},\n",
       " {'item': ('m', 4, 2), 'inv': False},\n",
       " {'item': ('m', 3, 1), 'inv': False},\n",
       " {'item': ('m', 3, 3), 'inv': False},\n",
       " {'item': ('m', 2, 0), 'inv': False},\n",
       " {'item': ('m', 2, 2), 'inv': False},\n",
       " {'item': ('m', 1, 1), 'inv': False},\n",
       " {'item': ('m', 1, 3), 'inv': False},\n",
       " {'item': ('m', 0, 0), 'inv': False},\n",
       " {'item': ('m', 0, 2), 'inv': False}]"
      ]
     },
     "execution_count": 103,
     "metadata": {},
     "output_type": "execute_result"
    }
   ],
   "source": [
    "termsRect = [{'item':'D'}] + [{'item':label, 'inv': False} for col in mixerLabelsRect[::-1] for label in col]\n",
    "termsRect"
   ]
  },
  {
   "cell_type": "markdown",
   "metadata": {},
   "source": [
    "And then verify that this does not effect the operation at all."
   ]
  },
  {
   "cell_type": "code",
   "execution_count": 106,
   "metadata": {},
   "outputs": [
    {
     "name": "stdout",
     "output_type": "stream",
     "text": [
      "[[-0.34897975-0.06252544j -0.5142761 -0.01330259j -0.11382846-0.09111004j -0.39409821+0.64533178j -0.12844597-0.01113597j]\n",
      " [-0.01913944+0.44472877j -0.19344577-0.26894335j  0.24581771+0.554539j    0.02665135-0.02098682j -0.11220926-0.55715052j]\n",
      " [ 0.13635382-0.35962685j -0.54977226+0.09368529j -0.17183957-0.23817719j  0.36267031-0.20268857j  0.22783756-0.47986468j]\n",
      " [-0.30853028+0.4478571j  -0.45166271+0.1089018j   0.11007568-0.09937626j -0.11156993-0.48129971j  0.28171375+0.37805039j]\n",
      " [ 0.47734883-0.06783106j -0.30925771-0.05536908j -0.4959269 +0.50656608j -0.07028755-0.07370716j -0.12686592+0.37391208j]]\n",
      "[[-0.34897975-0.06252545j -0.5142761 -0.01330259j -0.11382845-0.09111004j -0.39409821+0.64533177j -0.12844598-0.01113598j]\n",
      " [-0.01913944+0.44472878j -0.19344577-0.26894335j  0.24581771+0.554539j    0.02665135-0.02098682j -0.11220926-0.55715051j]\n",
      " [ 0.13635382-0.35962685j -0.54977226+0.09368529j -0.17183958-0.23817719j  0.36267032-0.20268857j  0.22783756-0.47986468j]\n",
      " [-0.30853028+0.4478571j  -0.4516627 +0.1089018j   0.11007568-0.09937627j -0.11156993-0.48129971j  0.28171375+0.37805039j]\n",
      " [ 0.47734883-0.06783106j -0.30925772-0.05536908j -0.4959269 +0.50656607j -0.07028755-0.07370716j -0.12686592+0.37391208j]]\n"
     ]
    }
   ],
   "source": [
    "print(np.linalg.multi_dot(list(map(getM, termsRect[:]))))\n",
    "print(U)"
   ]
  },
  {
   "cell_type": "markdown",
   "metadata": {},
   "source": [
    "However, now we can determine the effect of applying only the first column."
   ]
  },
  {
   "cell_type": "code",
   "execution_count": 107,
   "metadata": {},
   "outputs": [
    {
     "data": {
      "text/plain": [
       "[{'item': ('m', 0, 0), 'inv': False}, {'item': ('m', 0, 2), 'inv': False}]"
      ]
     },
     "execution_count": 107,
     "metadata": {},
     "output_type": "execute_result"
    }
   ],
   "source": [
    "termsRect[-2:]"
   ]
  },
  {
   "cell_type": "code",
   "execution_count": 108,
   "metadata": {},
   "outputs": [
    {
     "name": "stdout",
     "output_type": "stream",
     "text": [
      "[[ 0.5185166 -0.17086246j  0.83782251+0.j          0.        +0.j          0.        +0.j          0.        +0.j        ]\n",
      " [-0.79573345+0.26221143j  0.54594271+0.j          0.        +0.j          0.        +0.j          0.        +0.j        ]\n",
      " [ 0.        +0.j          0.        +0.j          0.08216929+0.31354156j  0.94601263+0.j          0.        +0.j        ]\n",
      " [ 0.        +0.j          0.        +0.j         -0.23982121-0.91510966j  0.32412976+0.j          0.        +0.j        ]\n",
      " [ 0.        +0.j          0.        +0.j          0.        +0.j          0.        +0.j          1.        +0.j        ]]\n"
     ]
    }
   ],
   "source": [
    "print(np.linalg.multi_dot(list(map(getM, termsRect[-2:]))))"
   ]
  },
  {
   "cell_type": "markdown",
   "metadata": {},
   "source": [
    "Or the first two columns"
   ]
  },
  {
   "cell_type": "code",
   "execution_count": 109,
   "metadata": {},
   "outputs": [
    {
     "data": {
      "text/plain": [
       "[{'item': ('m', 1, 1), 'inv': False},\n",
       " {'item': ('m', 1, 3), 'inv': False},\n",
       " {'item': ('m', 0, 0), 'inv': False},\n",
       " {'item': ('m', 0, 2), 'inv': False}]"
      ]
     },
     "execution_count": 109,
     "metadata": {},
     "output_type": "execute_result"
    }
   ],
   "source": [
    "termsRect[-4:]"
   ]
  },
  {
   "cell_type": "code",
   "execution_count": 111,
   "metadata": {},
   "outputs": [
    {
     "name": "stdout",
     "output_type": "stream",
     "text": [
      "[[ 0.5185166 -0.17086246j  0.83782251+0.j          0.        +0.j          0.        +0.j          0.        +0.j        ]\n",
      " [-0.0469446 +0.18887485j  0.0675718 -0.10731828j  0.0799216 +0.3049648j   0.92013496+0.j          0.        +0.j        ]\n",
      " [ 0.19656291-0.79084264j -0.28293158+0.44935509j  0.01908746+0.07283393j  0.21975339+0.j          0.        +0.j        ]\n",
      " [ 0.        +0.j          0.        +0.j          0.65199473-0.1383322j  -0.01078321+0.22810911j -0.7096598 +0.j        ]\n",
      " [ 0.        +0.j          0.        +0.j          0.65672848-0.13933655j -0.0108615 +0.22976528j  0.70454451+0.j        ]]\n"
     ]
    }
   ],
   "source": [
    "print(np.linalg.multi_dot(list(map(getM, termsRect[-4:]))))"
   ]
  },
  {
   "cell_type": "markdown",
   "metadata": {},
   "source": [
    "# Defining a Class"
   ]
  },
  {
   "cell_type": "code",
   "execution_count": 646,
   "metadata": {},
   "outputs": [],
   "source": [
    "class ClementsMesh:\n",
    "    pass"
   ]
  },
  {
   "cell_type": "code",
   "execution_count": 647,
   "metadata": {},
   "outputs": [],
   "source": [
    "def __init__(self, U, verbose=False):\n",
    "    self.U = U\n",
    "    if not isPassive(U):\n",
    "        print(\"U does not appear to be passive\")\n",
    "        return\n",
    "    kSize = U.shape[0]\n",
    "    self.kSize = kSize\n",
    "    \n",
    "    mixerLabelsDiag = generateMixerLabelsDiag(kSize)\n",
    "    self.mixerDict = {label:Mixer() for label in concat(mixerLabelsDiag)}\n",
    "    self.D = np.identity(n=kSize, dtype='complex')\n",
    "\n",
    "    (self.LHS, self.RHS) = buildMeshEquation(self.kSize, verbose=verbose)\n",
    "    UPos = self.RHS.index({'item':'U'})\n",
    "    self.solvingPath = buildSolvingPath(kSize=self.kSize, UPos=UPos)\n",
    "    \n",
    "    # (inPortLabels, mixerLabels, thruLabels, outPortLabels) = generateDeviceLabels(kernelSize=self.kSize, mixerLabel='m', thruLabel='t', verbose=True)\n",
    "\n",
    "setattr(ClementsMesh, \"__init__\", __init__)"
   ]
  },
  {
   "cell_type": "code",
   "execution_count": 648,
   "metadata": {},
   "outputs": [],
   "source": [
    "def getM(self, desc):\n",
    "    if desc['item'] == 'U':\n",
    "        M = self.U\n",
    "    elif desc['item'] == 'D':\n",
    "        M = self.D\n",
    "    elif desc['item'][0] == 'm':\n",
    "        (_, i, j) = desc['item']\n",
    "        mixer = self.mixerDict[desc['item']]\n",
    "        theta_phi = (mixer.theta, mixer.phi)\n",
    "        if(desc['inv'] == False):\n",
    "            M = TMesh(theta_phi, N=self.kSize, lines=(j, j+1))\n",
    "        else:\n",
    "            M = TinvMesh(theta_phi, N=self.kSize, lines=(j, j+1))\n",
    "    else:\n",
    "        print(\"You shouldn't be here\")\n",
    "    return M\n",
    "\n",
    "setattr(ClementsMesh, \"getM\", getM)      "
   ]
  },
  {
   "cell_type": "code",
   "execution_count": 649,
   "metadata": {},
   "outputs": [],
   "source": [
    "def printMeshEq(self):\n",
    "    pprint(self.LHS)\n",
    "    print(\" == \")\n",
    "    pprint(self.RHS)\n",
    "\n",
    "setattr(ClementsMesh, \"printMeshEq\", printMeshEq)    "
   ]
  },
  {
   "cell_type": "code",
   "execution_count": 650,
   "metadata": {},
   "outputs": [],
   "source": [
    "def plotMeshC(self):\n",
    "    plotMesh(self.kSize)\n",
    "\n",
    "setattr(ClementsMesh, \"plotMesh\", plotMeshC)    "
   ]
  },
  {
   "cell_type": "code",
   "execution_count": 651,
   "metadata": {},
   "outputs": [],
   "source": [
    "def nullAllMixersC(self):\n",
    "    nullAllMixers(self.RHS, self.solvingPath, self.mixerDict, self.getM)\n",
    "\n",
    "setattr(ClementsMesh, \"nullAllMixers\", nullAllMixersC)"
   ]
  },
  {
   "cell_type": "code",
   "execution_count": 652,
   "metadata": {},
   "outputs": [],
   "source": [
    "def solveForD(self, verbose=False):\n",
    "    if verbose: self.printMeshEq()\n",
    "    DMessy = partialProduct(self.RHS, 0, len(self.RHS), self.getM)\n",
    "    if verbose: print(DMessy)\n",
    "    DClean = np.identity(n=self.kSize) * DMessy\n",
    "    self.D[:] = DClean\n",
    "    if verbose: print(D)\n",
    "    if verbose: self.printMeshEq()\n",
    "    \n",
    "setattr(ClementsMesh, \"solveForD\", solveForD)\n"
   ]
  },
  {
   "cell_type": "code",
   "execution_count": 653,
   "metadata": {},
   "outputs": [],
   "source": [
    "def solveForUC(self, verbose=False):\n",
    "    self.LHS, self.RHS = solveForU(self.LHS, self.RHS)\n",
    "    \n",
    "setattr(ClementsMesh, \"solveForU\", solveForUC)"
   ]
  },
  {
   "cell_type": "code",
   "execution_count": 654,
   "metadata": {},
   "outputs": [],
   "source": [
    "def pushOutDC(self, verbose=False):\n",
    "    pushOutD(self.RHS, self.mixerDict, self.D)\n",
    "    if verbose:\n",
    "        URealized = partialProduct(self.RHS, 0, len(self.RHS), self.getM)\n",
    "        workedQ = np.allclose(URealized, self.U)\n",
    "        if workedQ:\n",
    "            print(\"worked!\")\n",
    "        else:\n",
    "            print(\"didn't work\")\n",
    "            pprint(URealized - self.U)\n",
    "\n",
    "setattr(ClementsMesh, \"pushOutD\", pushOutDC)"
   ]
  },
  {
   "cell_type": "code",
   "execution_count": 655,
   "metadata": {},
   "outputs": [],
   "source": [
    "def calibrate(self):\n",
    "    self.nullAllMixers()\n",
    "    self.solveForD()\n",
    "    self.solveForU()\n",
    "    self.pushOutD()\n",
    "\n",
    "setattr(ClementsMesh, \"calibrate\", calibrate)"
   ]
  },
  {
   "cell_type": "code",
   "execution_count": 656,
   "metadata": {},
   "outputs": [],
   "source": [
    "def getLayerTransferFunction(self, lS, lE):\n",
    "    mixerLabelsRect = generateMixerLabels(self.kSize, mixerLabel='m', verbose=False)\n",
    "    mixerLabels\n",
    "    termsRect = [{'item':'D'}] + [{'item':label, 'inv': False} for col in mixerLabelsRect[::-1] for label in col]"
   ]
  },
  {
   "cell_type": "code",
   "execution_count": 657,
   "metadata": {},
   "outputs": [],
   "source": [
    "def getLayerTransferFunction(self, layStart, layEnd, verbose=False):\n",
    "    mixerLabelsRect = ['D'] + generateMixerLabels(self.kSize, mixerLabel='m', verbose=False)[::-1]\n",
    "    if verbose: pprint(mixerLabelsRect)\n",
    "    selLabels = list(concat(mixerLabelsRect[-layEnd: -layStart or None]))\n",
    "    terms = []\n",
    "    for label in selLabels:\n",
    "        if label == 'D':\n",
    "            terms.append({'item':'D'})\n",
    "        else:\n",
    "            terms.append({'item':label, 'inv': False})\n",
    "    if verbose: pprint(terms)\n",
    "    T = partialProduct(terms, 0, len(terms), self.getM)\n",
    "    return T\n",
    "\n",
    "setattr(ClementsMesh, \"getLayerTransferFunction\", getLayerTransferFunction)"
   ]
  },
  {
   "cell_type": "markdown",
   "metadata": {},
   "source": [
    "## Verbose Class Example"
   ]
  },
  {
   "cell_type": "code",
   "execution_count": 624,
   "metadata": {},
   "outputs": [],
   "source": [
    "U = getRandomUnitaryMatrix(n=6)"
   ]
  },
  {
   "cell_type": "code",
   "execution_count": 625,
   "metadata": {},
   "outputs": [],
   "source": [
    "mesh = ClementsMesh(U)"
   ]
  },
  {
   "cell_type": "code",
   "execution_count": 626,
   "metadata": {},
   "outputs": [
    {
     "name": "stdout",
     "output_type": "stream",
     "text": [
      "deque([{'item': 'D'}])\n",
      " == \n",
      "deque([{'inv': False, 'item': ('m', 2, 4)},\n",
      "       {'inv': False, 'item': ('m', 3, 3)},\n",
      "       {'inv': False, 'item': ('m', 4, 2)},\n",
      "       {'inv': False, 'item': ('m', 5, 1)},\n",
      "       {'inv': False, 'item': ('m', 4, 4)},\n",
      "       {'inv': False, 'item': ('m', 5, 3)},\n",
      "       {'item': 'U'},\n",
      "       {'inv': True, 'item': ('m', 0, 0)},\n",
      "       {'inv': True, 'item': ('m', 0, 2)},\n",
      "       {'inv': True, 'item': ('m', 1, 1)},\n",
      "       {'inv': True, 'item': ('m', 2, 0)},\n",
      "       {'inv': True, 'item': ('m', 0, 4)},\n",
      "       {'inv': True, 'item': ('m', 1, 3)},\n",
      "       {'inv': True, 'item': ('m', 2, 2)},\n",
      "       {'inv': True, 'item': ('m', 3, 1)},\n",
      "       {'inv': True, 'item': ('m', 4, 0)}])\n"
     ]
    }
   ],
   "source": [
    "mesh.printMeshEq()"
   ]
  },
  {
   "cell_type": "code",
   "execution_count": 627,
   "metadata": {},
   "outputs": [
    {
     "data": {
      "text/plain": [
       "[{'targMat': 7,\n",
       "  'matRange': (6, 7),\n",
       "  'side': 'R',\n",
       "  'targElem': (5, 0),\n",
       "  'mixer': ('m', 0, 0)},\n",
       " {'targMat': 5,\n",
       "  'matRange': (6, 8),\n",
       "  'side': 'L',\n",
       "  'targElem': (4, 0),\n",
       "  'mixer': ('m', 5, 3)},\n",
       " {'targMat': 4,\n",
       "  'matRange': (5, 8),\n",
       "  'side': 'L',\n",
       "  'targElem': (5, 1),\n",
       "  'mixer': ('m', 4, 4)},\n",
       " {'targMat': 8,\n",
       "  'matRange': (4, 8),\n",
       "  'side': 'R',\n",
       "  'targElem': (5, 2),\n",
       "  'mixer': ('m', 0, 2)},\n",
       " {'targMat': 9,\n",
       "  'matRange': (4, 9),\n",
       "  'side': 'R',\n",
       "  'targElem': (4, 1),\n",
       "  'mixer': ('m', 1, 1)},\n",
       " {'targMat': 10,\n",
       "  'matRange': (4, 10),\n",
       "  'side': 'R',\n",
       "  'targElem': (3, 0),\n",
       "  'mixer': ('m', 2, 0)},\n",
       " {'targMat': 3,\n",
       "  'matRange': (4, 11),\n",
       "  'side': 'L',\n",
       "  'targElem': (2, 0),\n",
       "  'mixer': ('m', 5, 1)},\n",
       " {'targMat': 2,\n",
       "  'matRange': (3, 11),\n",
       "  'side': 'L',\n",
       "  'targElem': (3, 1),\n",
       "  'mixer': ('m', 4, 2)},\n",
       " {'targMat': 1,\n",
       "  'matRange': (2, 11),\n",
       "  'side': 'L',\n",
       "  'targElem': (4, 2),\n",
       "  'mixer': ('m', 3, 3)},\n",
       " {'targMat': 0,\n",
       "  'matRange': (1, 11),\n",
       "  'side': 'L',\n",
       "  'targElem': (5, 3),\n",
       "  'mixer': ('m', 2, 4)},\n",
       " {'targMat': 11,\n",
       "  'matRange': (0, 11),\n",
       "  'side': 'R',\n",
       "  'targElem': (5, 4),\n",
       "  'mixer': ('m', 0, 4)},\n",
       " {'targMat': 12,\n",
       "  'matRange': (0, 12),\n",
       "  'side': 'R',\n",
       "  'targElem': (4, 3),\n",
       "  'mixer': ('m', 1, 3)},\n",
       " {'targMat': 13,\n",
       "  'matRange': (0, 13),\n",
       "  'side': 'R',\n",
       "  'targElem': (3, 2),\n",
       "  'mixer': ('m', 2, 2)},\n",
       " {'targMat': 14,\n",
       "  'matRange': (0, 14),\n",
       "  'side': 'R',\n",
       "  'targElem': (2, 1),\n",
       "  'mixer': ('m', 3, 1)},\n",
       " {'targMat': 15,\n",
       "  'matRange': (0, 15),\n",
       "  'side': 'R',\n",
       "  'targElem': (1, 0),\n",
       "  'mixer': ('m', 4, 0)}]"
      ]
     },
     "execution_count": 627,
     "metadata": {},
     "output_type": "execute_result"
    }
   ],
   "source": [
    "mesh.solvingPath"
   ]
  },
  {
   "cell_type": "code",
   "execution_count": 628,
   "metadata": {},
   "outputs": [
    {
     "name": "stdout",
     "output_type": "stream",
     "text": [
      "{'matRange': (6, 7),\n",
      " 'mixer': ('m', 0, 0),\n",
      " 'side': 'R',\n",
      " 'targElem': (5, 0),\n",
      " 'targMat': 7}\n",
      "('m', 0, 0) [-0.79 1.3] 4.364292496717716e-09\n",
      "{'matRange': (6, 8),\n",
      " 'mixer': ('m', 5, 3),\n",
      " 'side': 'L',\n",
      " 'targElem': (4, 0),\n",
      " 'targMat': 5}\n",
      "('m', 5, 3) [0.6 1.2] 3.4248396608091883e-09\n",
      "{'matRange': (5, 8),\n",
      " 'mixer': ('m', 4, 4),\n",
      " 'side': 'L',\n",
      " 'targElem': (5, 1),\n",
      " 'targMat': 4}\n",
      "('m', 4, 4) [-1.1 -1.2] 3.1666747237556954e-09\n",
      "{'matRange': (4, 8),\n",
      " 'mixer': ('m', 0, 2),\n",
      " 'side': 'R',\n",
      " 'targElem': (5, 2),\n",
      " 'targMat': 8}\n",
      "('m', 0, 2) [-0.61 -0.88] 9.669261533911674e-10\n",
      "{'matRange': (4, 9),\n",
      " 'mixer': ('m', 1, 1),\n",
      " 'side': 'R',\n",
      " 'targElem': (4, 1),\n",
      " 'targMat': 9}\n",
      "('m', 1, 1) [-1.3 0.99] 4.053269177732395e-09\n",
      "{'matRange': (4, 10),\n",
      " 'mixer': ('m', 2, 0),\n",
      " 'side': 'R',\n",
      " 'targElem': (3, 0),\n",
      " 'targMat': 10}\n",
      "('m', 2, 0) [1.2 -1.1] 1.4266361319966172e-09\n",
      "{'matRange': (4, 11),\n",
      " 'mixer': ('m', 5, 1),\n",
      " 'side': 'L',\n",
      " 'targElem': (2, 0),\n",
      " 'targMat': 3}\n",
      "('m', 5, 1) [-1.2 -0.21] 2.4757057996404277e-09\n",
      "{'matRange': (3, 11),\n",
      " 'mixer': ('m', 4, 2),\n",
      " 'side': 'L',\n",
      " 'targElem': (3, 1),\n",
      " 'targMat': 2}\n",
      "('m', 4, 2) [-1 0.25] 4.518006843171608e-09\n",
      "{'matRange': (2, 11),\n",
      " 'mixer': ('m', 3, 3),\n",
      " 'side': 'L',\n",
      " 'targElem': (4, 2),\n",
      " 'targMat': 1}\n",
      "('m', 3, 3) [-4.4 1.3] 4.18961282557094e-09\n",
      "{'matRange': (1, 11),\n",
      " 'mixer': ('m', 2, 4),\n",
      " 'side': 'L',\n",
      " 'targElem': (5, 3),\n",
      " 'targMat': 0}\n",
      "('m', 2, 4) [-1.2 -0.71] 4.696286307601917e-09\n",
      "{'matRange': (0, 11),\n",
      " 'mixer': ('m', 0, 4),\n",
      " 'side': 'R',\n",
      " 'targElem': (5, 4),\n",
      " 'targMat': 11}\n",
      "('m', 0, 4) [0.76 -0.54] 4.761947874267995e-09\n",
      "{'matRange': (0, 12),\n",
      " 'mixer': ('m', 1, 3),\n",
      " 'side': 'R',\n",
      " 'targElem': (4, 3),\n",
      " 'targMat': 12}\n",
      "('m', 1, 3) [-1.1 -0.71] 5.937270253155322e-09\n",
      "{'matRange': (0, 13),\n",
      " 'mixer': ('m', 2, 2),\n",
      " 'side': 'R',\n",
      " 'targElem': (3, 2),\n",
      " 'targMat': 13}\n",
      "('m', 2, 2) [-0.98 0.64] 4.830711868704171e-09\n",
      "{'matRange': (0, 14),\n",
      " 'mixer': ('m', 3, 1),\n",
      " 'side': 'R',\n",
      " 'targElem': (2, 1),\n",
      " 'targMat': 14}\n",
      "('m', 3, 1) [-1.2 -0.78] 1.0677129540266626e-09\n",
      "{'matRange': (0, 15),\n",
      " 'mixer': ('m', 4, 0),\n",
      " 'side': 'R',\n",
      " 'targElem': (1, 0),\n",
      " 'targMat': 15}\n",
      "('m', 4, 0) [-0.99 1.6] 3.658170482897259e-09\n"
     ]
    }
   ],
   "source": [
    "mesh.nullAllMixers()"
   ]
  },
  {
   "cell_type": "code",
   "execution_count": 629,
   "metadata": {},
   "outputs": [
    {
     "data": {
      "image/png": "[encoded data removed]",
      "text/plain": [
       "<Figure size 432x288 with 1 Axes>"
      ]
     },
     "metadata": {},
     "output_type": "display_data"
    }
   ],
   "source": [
    "mesh.plotMesh()"
   ]
  },
  {
   "cell_type": "code",
   "execution_count": 630,
   "metadata": {},
   "outputs": [
    {
     "name": "stdout",
     "output_type": "stream",
     "text": [
      "deque([{'item': 'D'}])\n",
      " == \n",
      "deque([{'inv': False, 'item': ('m', 2, 4)},\n",
      "       {'inv': False, 'item': ('m', 3, 3)},\n",
      "       {'inv': False, 'item': ('m', 4, 2)},\n",
      "       {'inv': False, 'item': ('m', 5, 1)},\n",
      "       {'inv': False, 'item': ('m', 4, 4)},\n",
      "       {'inv': False, 'item': ('m', 5, 3)},\n",
      "       {'item': 'U'},\n",
      "       {'inv': True, 'item': ('m', 0, 0)},\n",
      "       {'inv': True, 'item': ('m', 0, 2)},\n",
      "       {'inv': True, 'item': ('m', 1, 1)},\n",
      "       {'inv': True, 'item': ('m', 2, 0)},\n",
      "       {'inv': True, 'item': ('m', 0, 4)},\n",
      "       {'inv': True, 'item': ('m', 1, 3)},\n",
      "       {'inv': True, 'item': ('m', 2, 2)},\n",
      "       {'inv': True, 'item': ('m', 3, 1)},\n",
      "       {'inv': True, 'item': ('m', 4, 0)}])\n",
      "[[-0.76015037+0.64974719j  0.        +0.j          0.        -0.j          0.        +0.j          0.        +0.j          0.        -0.j        ]\n",
      " [-0.        -0.j          0.75260663-0.6584704j  -0.        -0.j          0.        +0.j         -0.        +0.j          0.        +0.00000001j]\n",
      " [ 0.        -0.j         -0.        -0.j          0.28763316-0.95774066j -0.        +0.00000001j -0.        +0.j         -0.        +0.j        ]\n",
      " [-0.        -0.j          0.        -0.j          0.        -0.00000001j  0.39075798-0.92049345j -0.        -0.j          0.        -0.j        ]\n",
      " [-0.        +0.00000001j -0.        +0.j         -0.        +0.j          0.        +0.j         -0.98043276-0.19685427j  0.        +0.j        ]\n",
      " [-0.        +0.j         -0.        +0.00000001j  0.        +0.j         -0.        +0.j          0.        -0.j          0.56460383+0.82536205j]]\n",
      "[[ 0.68149295+0.73182468j  0.        +0.j          0.        -0.j          0.        +0.j         -0.        +0.j        ]\n",
      " [ 0.        +0.j         -0.63833621+0.76975768j  0.        -0.j          0.        -0.j          0.        +0.j        ]\n",
      " [ 0.        -0.j         -0.        +0.j          0.9882121 +0.15309094j  0.        +0.j         -0.        +0.j        ]\n",
      " [ 0.        -0.j          0.        -0.j          0.        +0.j          0.10366137+0.99461265j  0.        +0.j        ]\n",
      " [ 0.        -0.j          0.        +0.j          0.        +0.j         -0.        +0.j         -0.00058918+0.99999983j]]\n",
      "deque([{'item': 'D'}])\n",
      " == \n",
      "deque([{'inv': False, 'item': ('m', 2, 4)},\n",
      "       {'inv': False, 'item': ('m', 3, 3)},\n",
      "       {'inv': False, 'item': ('m', 4, 2)},\n",
      "       {'inv': False, 'item': ('m', 5, 1)},\n",
      "       {'inv': False, 'item': ('m', 4, 4)},\n",
      "       {'inv': False, 'item': ('m', 5, 3)},\n",
      "       {'item': 'U'},\n",
      "       {'inv': True, 'item': ('m', 0, 0)},\n",
      "       {'inv': True, 'item': ('m', 0, 2)},\n",
      "       {'inv': True, 'item': ('m', 1, 1)},\n",
      "       {'inv': True, 'item': ('m', 2, 0)},\n",
      "       {'inv': True, 'item': ('m', 0, 4)},\n",
      "       {'inv': True, 'item': ('m', 1, 3)},\n",
      "       {'inv': True, 'item': ('m', 2, 2)},\n",
      "       {'inv': True, 'item': ('m', 3, 1)},\n",
      "       {'inv': True, 'item': ('m', 4, 0)}])\n"
     ]
    }
   ],
   "source": [
    "mesh.solveForD(verbose=True)"
   ]
  },
  {
   "cell_type": "code",
   "execution_count": 631,
   "metadata": {},
   "outputs": [],
   "source": [
    "mesh.solveForU()"
   ]
  },
  {
   "cell_type": "code",
   "execution_count": 632,
   "metadata": {},
   "outputs": [
    {
     "name": "stdout",
     "output_type": "stream",
     "text": [
      "worked!\n"
     ]
    }
   ],
   "source": [
    "mesh.pushOutD(verbose=True)"
   ]
  },
  {
   "cell_type": "code",
   "execution_count": 633,
   "metadata": {},
   "outputs": [
    {
     "name": "stdout",
     "output_type": "stream",
     "text": [
      "deque([{'item': 'U'}])\n",
      " == \n",
      "deque([{'item': 'D'},\n",
      "       {'inv': False, 'item': ('m', 5, 3)},\n",
      "       {'inv': False, 'item': ('m', 4, 4)},\n",
      "       {'inv': False, 'item': ('m', 5, 1)},\n",
      "       {'inv': False, 'item': ('m', 4, 2)},\n",
      "       {'inv': False, 'item': ('m', 3, 3)},\n",
      "       {'inv': False, 'item': ('m', 2, 4)},\n",
      "       {'inv': False, 'item': ('m', 4, 0)},\n",
      "       {'inv': False, 'item': ('m', 3, 1)},\n",
      "       {'inv': False, 'item': ('m', 2, 2)},\n",
      "       {'inv': False, 'item': ('m', 1, 3)},\n",
      "       {'inv': False, 'item': ('m', 0, 4)},\n",
      "       {'inv': False, 'item': ('m', 2, 0)},\n",
      "       {'inv': False, 'item': ('m', 1, 1)},\n",
      "       {'inv': False, 'item': ('m', 0, 2)},\n",
      "       {'inv': False, 'item': ('m', 0, 0)}])\n"
     ]
    }
   ],
   "source": [
    "mesh.printMeshEq()"
   ]
  },
  {
   "cell_type": "code",
   "execution_count": 641,
   "metadata": {},
   "outputs": [
    {
     "data": {
      "text/plain": [
       "array([[ 0.15309679-0.1268019j ,  0.18906496+0.47509332j,  0.30998382-0.01565145j,  0.08668112+0.52877686j, -0.12813338+0.38531413j,  0.2950762 -0.25221975j],\n",
       "       [ 0.01883599-0.36180673j, -0.45021958+0.05368628j,  0.10269788+0.16547685j,  0.20797124-0.14297257j, -0.37809702+0.20650539j, -0.54355311-0.28370189j],\n",
       "       [-0.02875258-0.04038207j, -0.32300303-0.12312748j,  0.69176906-0.08907488j,  0.31376772+0.1969577j ,  0.21625667-0.38363466j,  0.02958578+0.24395109j],\n",
       "       [ 0.56142038+0.19420872j,  0.03117287-0.29949939j,  0.20725083-0.47694335j, -0.31742469+0.06801915j, -0.06800329+0.26443435j, -0.31183598+0.09388262j],\n",
       "       [-0.33650744-0.34974133j, -0.17512813-0.24195314j,  0.24208361-0.19885875j, -0.49440999-0.19373501j,  0.19718485+0.16831331j,  0.30691687-0.36564954j],\n",
       "       [-0.1058029 +0.47655634j, -0.43164044-0.21742416j, -0.1032533 +0.00429794j,  0.35118897-0.0353903j ,  0.0947923 +0.55210845j,  0.28106097+0.00652648j]])"
      ]
     },
     "execution_count": 641,
     "metadata": {},
     "output_type": "execute_result"
    }
   ],
   "source": [
    "mesh.getLayerTransferFunction(0,7)"
   ]
  },
  {
   "cell_type": "code",
   "execution_count": 640,
   "metadata": {},
   "outputs": [
    {
     "data": {
      "text/plain": [
       "array([[ 0.15309679-0.1268019j ,  0.18906496+0.47509332j,  0.30998382-0.01565145j,  0.08668112+0.52877686j, -0.12813337+0.38531413j,  0.2950762 -0.25221975j],\n",
       "       [ 0.01883599-0.36180674j, -0.45021958+0.05368629j,  0.10269788+0.16547685j,  0.20797124-0.14297258j, -0.37809702+0.20650539j, -0.5435531 -0.28370188j],\n",
       "       [-0.02875258-0.04038207j, -0.32300304-0.12312748j,  0.69176906-0.08907488j,  0.31376772+0.1969577j ,  0.21625667-0.38363466j,  0.02958579+0.24395109j],\n",
       "       [ 0.56142038+0.19420872j,  0.03117287-0.29949939j,  0.20725083-0.47694335j, -0.31742469+0.06801915j, -0.06800329+0.26443435j, -0.31183598+0.09388262j],\n",
       "       [-0.33650744-0.34974133j, -0.17512813-0.24195314j,  0.24208361-0.19885875j, -0.49440999-0.19373501j,  0.19718485+0.1683133j ,  0.30691687-0.36564955j],\n",
       "       [-0.1058029 +0.47655634j, -0.43164044-0.21742416j, -0.10325331+0.00429794j,  0.35118896-0.0353903j ,  0.0947923 +0.55210845j,  0.28106097+0.00652647j]])"
      ]
     },
     "execution_count": 640,
     "metadata": {},
     "output_type": "execute_result"
    }
   ],
   "source": [
    "U"
   ]
  },
  {
   "cell_type": "markdown",
   "metadata": {},
   "source": [
    "## Compact Class Example"
   ]
  },
  {
   "cell_type": "code",
   "execution_count": 662,
   "metadata": {},
   "outputs": [],
   "source": [
    "U = getRandomUnitaryMatrix(n=10)"
   ]
  },
  {
   "cell_type": "code",
   "execution_count": 663,
   "metadata": {},
   "outputs": [],
   "source": [
    "mesh = ClementsMesh(U)\n",
    "mesh.calibrate()"
   ]
  },
  {
   "cell_type": "code",
   "execution_count": 664,
   "metadata": {},
   "outputs": [
    {
     "data": {
      "image/png": "[encoded data removed]",
      "text/plain": [
       "<Figure size 432x288 with 1 Axes>"
      ]
     },
     "metadata": {},
     "output_type": "display_data"
    }
   ],
   "source": [
    "mesh.plotMesh()"
   ]
  },
  {
   "cell_type": "code",
   "execution_count": 665,
   "metadata": {},
   "outputs": [
    {
     "data": {
      "text/plain": [
       "array([[ 0.15004193+0.18949084j,  0.1601605 +0.25475282j,  0.09505678-0.25101067j,  0.20068239+0.00202309j, -0.16284323+0.06931817j,  0.22357281-0.03716996j, -0.18283834-0.31816795j,  0.55336534+0.04624248j,  0.37662735+0.21823056j, -0.10968756-0.10726085j],\n",
       "       [ 0.14989045+0.13312725j,  0.3391534 -0.11262717j, -0.1077204 +0.26976624j, -0.10162122+0.30080257j,  0.39779244-0.26785275j,  0.04981674-0.25610385j, -0.40715691-0.03556599j, -0.03058984+0.11927051j, -0.05071002+0.25129614j,  0.30303811-0.09540683j],\n",
       "       [-0.36826863+0.1735115j ,  0.29030021+0.0111812j ,  0.42364573+0.20809011j, -0.24739687-0.13994972j, -0.30576538+0.06437113j, -0.04231296-0.44349865j, -0.03925237-0.08860274j,  0.06337652+0.05424407j, -0.14331826-0.29416338j, -0.01258144-0.16311392j],\n",
       "       [ 0.34737897+0.15974465j,  0.26015619+0.27815351j,  0.08892256-0.34041087j,  0.03367584+0.25275641j, -0.06259923-0.25084534j,  0.32633524-0.04406784j,  0.23801615+0.17372664j, -0.33632851-0.00644317j, -0.10559754-0.30606151j, -0.07811442-0.18372848j],\n",
       "       [-0.14239976+0.13604348j, -0.22752663-0.16009039j, -0.27932891-0.05303889j, -0.1275636 -0.02170389j,  0.19106025-0.00157059j,  0.20521239-0.3391673j ,  0.41968537+0.05645369j,  0.21038594-0.30631269j, -0.06540688+0.20267937j, -0.05664398-0.4760302j ],\n",
       "       [-0.34155183+0.07106106j,  0.0510975 +0.33953056j,  0.04496209-0.25906227j,  0.46785435-0.19986873j,  0.19083959-0.29516387j, -0.21856986-0.23265541j, -0.0441987 +0.16677605j,  0.02880513-0.16755639j, -0.26101161+0.16812077j,  0.05229379+0.2217858j ],\n",
       "       [ 0.1054389 -0.17312368j,  0.05644656+0.34084949j,  0.03228898-0.03617724j, -0.02952811+0.03555976j,  0.18379459+0.43143423j, -0.33377418-0.31318394j,  0.23331274+0.25609834j, -0.10109831+0.26667605j,  0.37670951+0.07230568j,  0.21413335-0.10631877j],\n",
       "       [ 0.32229833-0.10388969j, -0.04891116+0.21765696j, -0.01292114+0.19589004j, -0.07963973+0.22391178j, -0.24361735-0.09034403j, -0.22261588-0.00842664j,  0.24278357-0.08442715j,  0.40444285-0.31472118j, -0.26183047-0.10325201j,  0.43615841+0.15893131j],\n",
       "       [ 0.43441257-0.00738102j, -0.04998564+0.24073563j,  0.10570857+0.28631613j,  0.01287773-0.49485365j,  0.19654079+0.08808535j, -0.01172195+0.10287962j, -0.13533763+0.13729482j,  0.12530707+0.10479595j, -0.38337199+0.03021637j, -0.25197673-0.28327251j],\n",
       "       [ 0.18457176+0.2244667j ,  0.16580074-0.31611242j,  0.3782038 +0.26450552j,  0.341466  -0.13138997j,  0.23689655+0.15566745j,  0.20827922-0.03710276j,  0.40750624-0.06052011j, -0.04972094-0.12750934j,  0.11279631+0.06477804j,  0.06546364+0.32634137j]])"
      ]
     },
     "execution_count": 665,
     "metadata": {},
     "output_type": "execute_result"
    }
   ],
   "source": [
    "mesh.getLayerTransferFunction(0,11)"
   ]
  },
  {
   "cell_type": "code",
   "execution_count": 666,
   "metadata": {},
   "outputs": [
    {
     "data": {
      "text/plain": [
       "array([[ 0.15004193+0.18949084j,  0.16016051+0.25475282j,  0.09505678-0.25101068j,  0.2006824 +0.00202309j, -0.16284322+0.06931817j,  0.22357281-0.03716996j, -0.18283834-0.31816796j,  0.55336533+0.04624248j,  0.37662735+0.21823056j, -0.10968756-0.10726085j],\n",
       "       [ 0.14989046+0.13312726j,  0.3391534 -0.11262717j, -0.10772039+0.26976624j, -0.10162122+0.30080258j,  0.39779244-0.26785276j,  0.04981673-0.25610384j, -0.40715691-0.03556599j, -0.03058984+0.11927052j, -0.05071002+0.25129614j,  0.3030381 -0.09540683j],\n",
       "       [-0.36826864+0.1735115j ,  0.2903002 +0.01118119j,  0.42364573+0.20809011j, -0.24739687-0.13994972j, -0.30576539+0.06437113j, -0.04231296-0.44349865j, -0.03925237-0.08860274j,  0.06337652+0.05424407j, -0.14331826-0.29416338j, -0.01258144-0.16311392j],\n",
       "       [ 0.34737897+0.15974465j,  0.26015619+0.27815352j,  0.08892256-0.34041087j,  0.03367584+0.25275641j, -0.06259923-0.25084534j,  0.32633524-0.04406783j,  0.23801616+0.17372664j, -0.33632851-0.00644317j, -0.10559754-0.30606151j, -0.07811442-0.18372848j],\n",
       "       [-0.14239976+0.13604348j, -0.22752662-0.16009039j, -0.27932891-0.05303889j, -0.1275636 -0.02170389j,  0.19106026-0.0015706j ,  0.20521239-0.33916729j,  0.41968538+0.05645369j,  0.21038594-0.30631269j, -0.06540687+0.20267936j, -0.05664397-0.47603021j],\n",
       "       [-0.34155183+0.07106106j,  0.05109749+0.33953056j,  0.04496208-0.25906226j,  0.46785434-0.19986873j,  0.19083959-0.29516387j, -0.21856986-0.23265541j, -0.0441987 +0.16677605j,  0.02880512-0.16755638j, -0.26101161+0.16812077j,  0.0522938 +0.2217858j ],\n",
       "       [ 0.1054389 -0.17312369j,  0.05644656+0.3408495j ,  0.03228898-0.03617724j, -0.02952811+0.03555976j,  0.18379458+0.43143423j, -0.33377419-0.31318395j,  0.23331273+0.25609834j, -0.10109831+0.26667605j,  0.37670952+0.07230568j,  0.21413334-0.10631877j],\n",
       "       [ 0.32229833-0.10388969j, -0.04891116+0.21765695j, -0.01292114+0.19589004j, -0.07963973+0.22391177j, -0.24361735-0.09034403j, -0.22261588-0.00842665j,  0.24278357-0.08442715j,  0.40444285-0.31472118j, -0.26183047-0.10325201j,  0.43615841+0.15893131j],\n",
       "       [ 0.43441257-0.00738102j, -0.04998564+0.24073562j,  0.10570857+0.28631613j,  0.01287774-0.49485365j,  0.19654079+0.08808535j, -0.01172195+0.10287962j, -0.13533764+0.13729482j,  0.12530708+0.10479596j, -0.38337199+0.03021636j, -0.25197673-0.2832725j ],\n",
       "       [ 0.18457176+0.2244667j ,  0.16580074-0.31611242j,  0.3782038 +0.26450552j,  0.341466  -0.13138998j,  0.23689655+0.15566746j,  0.20827921-0.03710276j,  0.40750624-0.06052011j, -0.04972094-0.12750934j,  0.11279632+0.06477804j,  0.06546364+0.32634137j]])"
      ]
     },
     "execution_count": 666,
     "metadata": {},
     "output_type": "execute_result"
    }
   ],
   "source": [
    "U"
   ]
  },
  {
   "cell_type": "code",
   "execution_count": null,
   "metadata": {},
   "outputs": [],
   "source": []
  }
 ],
 "metadata": {
  "interpreter": {
   "hash": "172a64f8fbf5e912fff9df3bb5ed396635f932701996a7224f71e02466f142fe"
  },
  "kernelspec": {
   "display_name": "Python 3.9.4 64-bit ('jupyterlab': conda)",
   "name": "python3"
  },
  "language_info": {
   "codemirror_mode": {
    "name": "ipython",
    "version": 3
   },
   "file_extension": ".py",
   "mimetype": "text/x-python",
   "name": "python",
   "nbconvert_exporter": "python",
   "pygments_lexer": "ipython3",
   "version": "3.9.4"
  },
  "toc-autonumbering": false,
  "toc-showcode": false,
  "toc-showmarkdowntxt": false,
  "toc-showtags": true
 },
 "nbformat": 4,
 "nbformat_minor": 4
}
