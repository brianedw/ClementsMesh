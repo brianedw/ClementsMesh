{
 "cells": [
  {
   "cell_type": "markdown",
   "metadata": {
    "tags": [],
    "toc-hr-collapsed": true
   },
   "source": [
    "# Setup"
   ]
  },
  {
   "cell_type": "markdown",
   "metadata": {
    "tags": []
   },
   "source": [
    "## Stock Imports"
   ]
  },
  {
   "cell_type": "markdown",
   "metadata": {
    "tags": []
   },
   "source": [
    "### IDE Stuff"
   ]
  },
  {
   "cell_type": "markdown",
   "metadata": {
    "heading_collapsed": "true",
    "tags": []
   },
   "source": [
    "#### Installing New Packages"
   ]
  },
  {
   "cell_type": "code",
   "execution_count": null,
   "metadata": {},
   "outputs": [],
   "source": [
    "# Jupyter Plugins that make things much nicer:\n",
    "# * Collapsible_Headings\n",
    "# * hide_code\n",
    "# * jupyterlab-code-cell-collapser\n",
    "# * jupyterlab_templates"
   ]
  },
  {
   "cell_type": "markdown",
   "metadata": {},
   "source": [
    "Depending on how many installations of Python you have on your system, doing a simple `conda install` or `pip install` will put the module in the wrong installation.  This makes sure it lands in the installation corresponding to the current notebook."
   ]
  },
  {
   "cell_type": "code",
   "execution_count": null,
   "metadata": {},
   "outputs": [],
   "source": [
    "# Code for installing packages\n",
    "# !conda install --yes --prefix {sys.prefix} shapely\n",
    "# !{sys.executable} -m pip install shapely"
   ]
  },
  {
   "cell_type": "markdown",
   "metadata": {
    "heading_collapsed": "true",
    "tags": []
   },
   "source": [
    "#### Notebook Customization"
   ]
  },
  {
   "cell_type": "markdown",
   "metadata": {},
   "source": [
    "This will change the fonts in Anaconda JupyterLab and Notebook.  I find the rendered mardown heading fonts (H1, H2, H3, etc) to be too similar.  This will alternate between italicized and normal fonts for headings.  Additionally, it adds a small indent that grows with heading level.  H1 is centered."
   ]
  },
  {
   "cell_type": "code",
   "execution_count": null,
   "metadata": {},
   "outputs": [],
   "source": [
    "import IPython\n",
    "css_str = \"\"\"\n",
    "<link rel=\"preconnect\" href=\"https://fonts.gstatic.com\">\n",
    "\n",
    "<link href=\"https://fonts.googleapis.com/css2?family=Cormorant+Garamond:wght@300;400;600&family=Playfair+Display+SC&display=swap\" rel=\"stylesheet\">\n",
    "<link rel=\"stylesheet\" href=\"https://fonts.googleapis.com/css?family=Lora\">\n",
    "<link href=\"https://fonts.googleapis.com/css2?family=IM+Fell+Double+Pica:ital@1&display=swap\" rel=\"stylesheet\">\n",
    "    <style>\n",
    "h1 { color: #7c795d; font-family: 'Playfair Display SC', serif; text-indent: 00px; text-align: center;}\n",
    "h2 { color: #7c795d; font-family: 'Lora', serif;                text-indent: 00px; text-align: left; }\n",
    "h3 { color: #7c795d; font-family: 'IM Fell Double Pica', serif; text-indent: 15px; text-align: left; }\n",
    "h4 { color: #7c795d; font-family: 'Lora', Arial, serif;         text-indent: 30px; text-align: left}\n",
    "h5 { color: #71a832; font-family: 'IM Fell Double Pica', serif; text-indent: 45px; text-align: left}\n",
    "\n",
    "\"\"\"\n",
    "IPython.display.HTML(css_str)"
   ]
  },
  {
   "cell_type": "markdown",
   "metadata": {},
   "source": [
    "Allows for changes in packages to be detected and immediately incorporated into the present notebook without resetting the kernel."
   ]
  },
  {
   "cell_type": "code",
   "execution_count": null,
   "metadata": {},
   "outputs": [],
   "source": [
    "%load_ext autoreload\n",
    "%autoreload 2"
   ]
  },
  {
   "cell_type": "markdown",
   "metadata": {},
   "source": [
    "By default, Jupyter returns the last expression (and won't return this if it is a statement).  Sometimes we want different behavior that is more similar to Mathematica"
   ]
  },
  {
   "cell_type": "code",
   "execution_count": null,
   "metadata": {},
   "outputs": [],
   "source": [
    "from IPython.core.interactiveshell import InteractiveShell\n",
    "\n",
    "# pretty print only the last output of the cell\n",
    "InteractiveShell.ast_node_interactivity = 'last_expr' # ['all', 'last', 'last_expr', 'none', 'last_expr_or_assign']"
   ]
  },
  {
   "cell_type": "code",
   "execution_count": null,
   "metadata": {},
   "outputs": [],
   "source": [
    "x = 2\n",
    "y = 3"
   ]
  },
  {
   "cell_type": "code",
   "execution_count": null,
   "metadata": {},
   "outputs": [],
   "source": [
    "x = 2"
   ]
  },
  {
   "cell_type": "code",
   "execution_count": null,
   "metadata": {},
   "outputs": [],
   "source": [
    "del x, y"
   ]
  },
  {
   "cell_type": "markdown",
   "metadata": {
    "tags": []
   },
   "source": [
    "### Python Libraries"
   ]
  },
  {
   "cell_type": "markdown",
   "metadata": {},
   "source": [
    "Standard Python imports"
   ]
  },
  {
   "cell_type": "code",
   "execution_count": null,
   "metadata": {},
   "outputs": [],
   "source": [
    "import os, sys, time, glob"
   ]
  },
  {
   "cell_type": "markdown",
   "metadata": {},
   "source": [
    "It is a good idea to record the starting working directory before it gets changed around.  Note that this can be problematic depending on how you open the notebook, but it works most of the time."
   ]
  },
  {
   "cell_type": "code",
   "execution_count": null,
   "metadata": {},
   "outputs": [],
   "source": [
    "baseDir = os.getcwd()\n",
    "baseDir"
   ]
  },
  {
   "cell_type": "markdown",
   "metadata": {},
   "source": [
    "It is also nice to know if what is running is a notebook, or a python script generated from the notebook."
   ]
  },
  {
   "cell_type": "code",
   "execution_count": null,
   "metadata": {},
   "outputs": [],
   "source": [
    "mainQ = (__name__ == '__main__')\n",
    "if mainQ:\n",
    "    print(\"This is the main file\")"
   ]
  },
  {
   "cell_type": "markdown",
   "metadata": {},
   "source": [
    "JupyterLab doesn't support navigation to other drives.  This is a handy trick to make folders in other drives \"appear\" as if they're local.  It even works on network shares.  \n",
    "\n",
    "PowerShell Command to Map network drives:\n",
    "```powershell\n",
    "New-Item -ItemType SymbolicLink -Path \"c:\\users\\brianedw\\group_share\" -Target \"\\\\158.130.53.35\\_Group Share\"\n",
    "```\n"
   ]
  },
  {
   "cell_type": "markdown",
   "metadata": {
    "tags": []
   },
   "source": [
    "### Notebook Interactivity"
   ]
  },
  {
   "cell_type": "markdown",
   "metadata": {},
   "source": [
    "Adds a nice progress bar for visualizing a loop iterator.  See snippets."
   ]
  },
  {
   "cell_type": "code",
   "execution_count": null,
   "metadata": {},
   "outputs": [],
   "source": [
    "from tqdm import tqdm"
   ]
  },
  {
   "cell_type": "markdown",
   "metadata": {},
   "source": [
    "Useful for monitoring a calculation's progress."
   ]
  },
  {
   "cell_type": "code",
   "execution_count": null,
   "metadata": {},
   "outputs": [],
   "source": [
    "from IPython.display import clear_output"
   ]
  },
  {
   "cell_type": "code",
   "execution_count": null,
   "metadata": {},
   "outputs": [],
   "source": [
    "for i in range(5):\n",
    "    print(i)\n",
    "    time.sleep(0.1)\n",
    "    clear_output(wait=True)\n",
    "del(i)"
   ]
  },
  {
   "cell_type": "markdown",
   "metadata": {},
   "source": [
    "A nice sound to play when long calculations are completed."
   ]
  },
  {
   "cell_type": "code",
   "execution_count": null,
   "metadata": {},
   "outputs": [],
   "source": [
    "import winsound\n",
    "\n",
    "def soundDone():\n",
    "    soundfile = \"C:/Windows/Media/ring01.wav\"\n",
    "    winsound.PlaySound(soundfile, winsound.SND_FILENAME | winsound.SND_ASYNC)"
   ]
  },
  {
   "cell_type": "markdown",
   "metadata": {
    "tags": []
   },
   "source": [
    "### Functional Programming"
   ]
  },
  {
   "cell_type": "markdown",
   "metadata": {},
   "source": [
    "It is very common in data analysis to run data through a series of transformations, often called a \"pipe\".  The advantage of this is the arguments are contained with the functions and it is more readable (once you get used to it!).  For instance, in `Mathematica`, \n",
    "\n",
    "`H(#, 4)& @ G(#,3)& @ F(#,2)& @ 1  =>  H(G(F(1,2),3),4).`\n",
    "\n",
    "In the former, it is clear that `3` belongs to `G`.  In the latter, you need to count parenthesis.  This typically makes use of \"lambda functions\" or \"pure functions\".  As a primarily Object Oriented Programming (OOP) language, Python doesn't natively support much of this Functional paradigm.  However, it does treat functions as objects which can be manipulated.  Given the utility of Functional Programming, there are several packages that attempt to bring it into the language, each with varying success."
   ]
  },
  {
   "cell_type": "code",
   "execution_count": null,
   "metadata": {},
   "outputs": [],
   "source": [
    "# from pipetools import where, X, pipe\n",
    "# 10 > (pipe | range | where(X % 2) | sum)"
   ]
  },
  {
   "cell_type": "code",
   "execution_count": null,
   "metadata": {},
   "outputs": [],
   "source": [
    "# from pipey import Pipeable\n",
    "\n",
    "# Print = Pipeable(print)\n",
    "# @Pipeable\n",
    "# def add(a,b): return a + b\n",
    "# @Pipeable\n",
    "# def sqr(b): return b*b\n",
    "\n",
    "# np.array([3, 4]) >> sqr >> add(1000)"
   ]
  },
  {
   "cell_type": "markdown",
   "metadata": {},
   "source": [
    "The `toolz` library has a lot of great functions for performing common operations on iterables, functions, and dictionaries."
   ]
  },
  {
   "cell_type": "code",
   "execution_count": null,
   "metadata": {},
   "outputs": [],
   "source": [
    "from toolz.itertoolz import (concat, partition)\n",
    "from toolz.functoolz import (curry, pipe, thread_first)\n",
    "# from toolz.dicttoolz import ()"
   ]
  },
  {
   "cell_type": "code",
   "execution_count": null,
   "metadata": {},
   "outputs": [],
   "source": [
    "@curry\n",
    "def add(x, y): return x + y\n",
    "@curry\n",
    "def pow(x, y): return x**y\n",
    "thread_first(1, add(y=4), pow(y=2))  # pow(add(1, 4), 2)"
   ]
  },
  {
   "cell_type": "code",
   "execution_count": null,
   "metadata": {},
   "outputs": [],
   "source": [
    "from mini_lambda import InputVar, as_function\n",
    "_ = as_function\n",
    "X = InputVar('X')"
   ]
  },
  {
   "cell_type": "code",
   "execution_count": null,
   "metadata": {},
   "outputs": [],
   "source": [
    "_(X+3)(10)"
   ]
  },
  {
   "cell_type": "code",
   "execution_count": null,
   "metadata": {},
   "outputs": [],
   "source": [
    "thread_first(1, add(y=4), _(pow(x=2, y=X)))  # pow(2, add(1, 4))"
   ]
  },
  {
   "cell_type": "code",
   "execution_count": null,
   "metadata": {},
   "outputs": [],
   "source": [
    "thread_first(1, _(X+4), _(2**X))  # pow(add(1, 4), 2)"
   ]
  },
  {
   "cell_type": "code",
   "execution_count": null,
   "metadata": {},
   "outputs": [],
   "source": [
    "del(add, pow, X, _)"
   ]
  },
  {
   "cell_type": "markdown",
   "metadata": {
    "tags": []
   },
   "source": [
    "### Scientific Programming"
   ]
  },
  {
   "cell_type": "code",
   "execution_count": null,
   "metadata": {},
   "outputs": [],
   "source": [
    "from math import sin, cos, radians, degrees, tan, sinh, cosh, tanh, exp, pi, tau"
   ]
  },
  {
   "cell_type": "code",
   "execution_count": null,
   "metadata": {},
   "outputs": [],
   "source": [
    "deg = radians(1)    # so that we can refer to 90*deg\n",
    "I = 1j              # potentially neater imaginary nomenclature."
   ]
  },
  {
   "cell_type": "code",
   "execution_count": null,
   "metadata": {},
   "outputs": [],
   "source": [
    "import numpy as np  # Does high performance dense array operations\n",
    "np.set_printoptions(edgeitems=30, linewidth=100000,\n",
    "                    formatter=dict(float=lambda x: \"%.3g\" % x))\n",
    "import scipy as sp\n",
    "import pandas as pd\n",
    "import PIL "
   ]
  },
  {
   "cell_type": "code",
   "execution_count": null,
   "metadata": {},
   "outputs": [],
   "source": [
    "import skimage"
   ]
  },
  {
   "cell_type": "code",
   "execution_count": null,
   "metadata": {},
   "outputs": [],
   "source": [
    "# Python function compilization.  Makes things very fast.  Function must only include Numpy and basic Python.  No custom classes.\n",
    "import numba\n",
    "from numba import njit"
   ]
  },
  {
   "cell_type": "code",
   "execution_count": null,
   "metadata": {},
   "outputs": [],
   "source": [
    "import sympy as sp\n",
    "# sp.init_printing(pretty_print=True)\n",
    "# sp.init_printing(pretty_print=False)"
   ]
  },
  {
   "cell_type": "code",
   "execution_count": null,
   "metadata": {},
   "outputs": [],
   "source": [
    "import pint"
   ]
  },
  {
   "cell_type": "markdown",
   "metadata": {
    "tags": []
   },
   "source": [
    "### Plotting"
   ]
  },
  {
   "cell_type": "code",
   "execution_count": null,
   "metadata": {},
   "outputs": [],
   "source": [
    "import bokeh\n",
    "from bokeh.io import output_notebook\n",
    "from bokeh.plotting import figure, show\n",
    "output_notebook()\n",
    "bokeh.io.curdoc().theme = 'dark_minimal'"
   ]
  },
  {
   "cell_type": "markdown",
   "metadata": {
    "heading_collapsed": "true",
    "tags": []
   },
   "source": [
    "## Custom Imports"
   ]
  },
  {
   "cell_type": "code",
   "execution_count": null,
   "metadata": {},
   "outputs": [],
   "source": [
    "from UtilityMath import (plotComplexArray, \n",
    "                         RandomComplexCircularMatrix, RandomComplexGaussianMatrix,\n",
    "                         PolarPlot,\n",
    "                         RescaleToUnitary,\n",
    "                         ReIm,\n",
    "                         MatrixSqError, MatrixError, MatrixErrorNormalized)\n",
    "from Logger import Logger"
   ]
  },
  {
   "cell_type": "markdown",
   "metadata": {
    "tags": [],
    "toc-hr-collapsed": true
   },
   "source": [
    "## Code Snippets"
   ]
  },
  {
   "cell_type": "markdown",
   "metadata": {
    "heading_collapsed": "true",
    "tags": []
   },
   "source": [
    "### Cell Updating"
   ]
  },
  {
   "cell_type": "code",
   "execution_count": null,
   "metadata": {},
   "outputs": [],
   "source": [
    "if mainQ and False:\n",
    "    for f in range(10):\n",
    "        clear_output(wait=True)\n",
    "        print(f)\n",
    "        time.sleep(0.5)"
   ]
  },
  {
   "cell_type": "code",
   "execution_count": null,
   "metadata": {},
   "outputs": [],
   "source": [
    "if mainQ and False:\n",
    "    for i in tqdm(range(100000000)):\n",
    "        pass"
   ]
  },
  {
   "cell_type": "markdown",
   "metadata": {
    "heading_collapsed": "true",
    "tags": []
   },
   "source": [
    "### Bokeh Simple Line Plot"
   ]
  },
  {
   "cell_type": "code",
   "execution_count": null,
   "metadata": {},
   "outputs": [],
   "source": [
    "ts = np.linspace(0, 4, num=300)"
   ]
  },
  {
   "cell_type": "code",
   "execution_count": null,
   "metadata": {},
   "outputs": [],
   "source": [
    "xs = 5.0 * ts"
   ]
  },
  {
   "cell_type": "code",
   "execution_count": null,
   "metadata": {},
   "outputs": [],
   "source": [
    "ys = -9.8*ts**2 + 50*ts + 0"
   ]
  },
  {
   "cell_type": "code",
   "execution_count": null,
   "metadata": {},
   "outputs": [],
   "source": [
    "fig = figure(x_range=(min(xs), max(xs)), y_range=(min(ys), max(ys)), \n",
    "             plot_width=800, plot_height=400,\n",
    "             title='Trajectory')\n",
    "fig.xaxis.axis_label = \"x (m)\"\n",
    "fig.yaxis.axis_label = \"y (m)\"\n",
    "fig.line(x=xs, y=ys)\n",
    "if mainQ: show(fig)"
   ]
  },
  {
   "cell_type": "code",
   "execution_count": null,
   "metadata": {},
   "outputs": [],
   "source": [
    "del ts, xs, ys, fig"
   ]
  },
  {
   "cell_type": "markdown",
   "metadata": {},
   "source": [
    "### Units with Pint"
   ]
  },
  {
   "cell_type": "code",
   "execution_count": null,
   "metadata": {},
   "outputs": [],
   "source": [
    "from pint import UnitRegistry\n",
    "ureg = UnitRegistry()"
   ]
  },
  {
   "cell_type": "code",
   "execution_count": null,
   "metadata": {},
   "outputs": [],
   "source": [
    "d1 = 140.*ureg('thou')\n",
    "d2 = 0.891*ureg('mm')\n",
    "dTot = d1 + d2\n",
    "dTot.to('um')"
   ]
  },
  {
   "cell_type": "code",
   "execution_count": null,
   "metadata": {},
   "outputs": [],
   "source": [
    "del(d1, d2, dTot)"
   ]
  },
  {
   "cell_type": "markdown",
   "metadata": {},
   "source": [
    "### Error Propagation with `pint`"
   ]
  },
  {
   "cell_type": "code",
   "execution_count": null,
   "metadata": {},
   "outputs": [],
   "source": [
    "R1 = (130*ureg('ohm')).plus_minus(0.05, relative=True)\n",
    "print(R1)\n",
    "R2 = (150*ureg('ohm')).plus_minus(0.05, relative=True)\n",
    "print(R2)\n",
    "VIn = (10*ureg('V')).plus_minus(0.005)\n",
    "print(VIn*R1/(R1+R2))"
   ]
  },
  {
   "cell_type": "code",
   "execution_count": null,
   "metadata": {},
   "outputs": [],
   "source": [
    "del(R1, R2, VIn)"
   ]
  },
  {
   "cell_type": "markdown",
   "metadata": {},
   "source": [
    "### Statistical Error Propagation with `uncertainties`"
   ]
  },
  {
   "cell_type": "code",
   "execution_count": null,
   "metadata": {},
   "outputs": [],
   "source": [
    "from uncertainties import ufloat"
   ]
  },
  {
   "cell_type": "code",
   "execution_count": null,
   "metadata": {},
   "outputs": [],
   "source": [
    "x1 = ufloat(1, 0.1)\n",
    "x2 = ufloat(1, 0.1)\n",
    "print(x1, x2, x1 + x2)"
   ]
  },
  {
   "cell_type": "markdown",
   "metadata": {},
   "source": [
    "### Interval Error Propagation with `mpMath`"
   ]
  },
  {
   "cell_type": "code",
   "execution_count": null,
   "metadata": {},
   "outputs": [],
   "source": [
    "from mpmath import iv"
   ]
  },
  {
   "cell_type": "code",
   "execution_count": null,
   "metadata": {},
   "outputs": [],
   "source": [
    "x = iv.mpf(['-0.1', '0.1'])\n",
    "print(x)\n"
   ]
  },
  {
   "cell_type": "code",
   "execution_count": null,
   "metadata": {},
   "outputs": [],
   "source": [
    "print(iv.sin(x))\n",
    "print(iv.cos(x))"
   ]
  },
  {
   "cell_type": "code",
   "execution_count": null,
   "metadata": {},
   "outputs": [],
   "source": [
    "del x"
   ]
  },
  {
   "cell_type": "markdown",
   "metadata": {
    "tags": []
   },
   "source": [
    "# Work"
   ]
  },
  {
   "cell_type": "markdown",
   "metadata": {},
   "source": [
    "## Clements Decomposition"
   ]
  },
  {
   "cell_type": "code",
   "execution_count": null,
   "metadata": {},
   "outputs": [],
   "source": [
    "from numpy import cos, sin, exp"
   ]
  },
  {
   "cell_type": "code",
   "execution_count": null,
   "metadata": {},
   "outputs": [],
   "source": [
    "np.set_printoptions(edgeitems=30, linewidth=100000,\n",
    "                    suppress=True,\n",
    "                    formatter=dict(float=lambda x: \"%.2g\" % x))"
   ]
  },
  {
   "cell_type": "markdown",
   "metadata": {},
   "source": [
    "### Unitary Matrix Generation"
   ]
  },
  {
   "cell_type": "code",
   "execution_count": null,
   "metadata": {},
   "outputs": [],
   "source": [
    "def isPassive(M, verbose=False):\n",
    "    Im = np.identity(M.shape[0])\n",
    "    TH = np.conj(M.T)\n",
    "    eigVals = np.linalg.eigvals(Im - TH @ M).real\n",
    "    if verbose:\n",
    "        print(eigVals)\n",
    "    isPassive = np.alltrue(eigVals >= -1e-12)\n",
    "    return isPassive"
   ]
  },
  {
   "cell_type": "code",
   "execution_count": null,
   "metadata": {},
   "outputs": [],
   "source": [
    "testM = np.identity(5, dtype='complex')\n",
    "isPassive(testM)"
   ]
  },
  {
   "cell_type": "code",
   "execution_count": null,
   "metadata": {},
   "outputs": [],
   "source": [
    "def getRandomUnitaryMatrix(n=5, verbose=False):\n",
    "    rMat = RandomComplexCircularMatrix(1, (n, n))\n",
    "    # print(rMat)\n",
    "    U, Svec, Vh = np.linalg.svd(rMat, full_matrices=True)\n",
    "    S = np.diag(Svec)\n",
    "    recovery = U @ S @ Vh\n",
    "    if verbose:\n",
    "        print(\"Successful SVD Decomposition:\", np.allclose(recovery, rMat))\n",
    "    M = U @ Vh\n",
    "    return M"
   ]
  },
  {
   "cell_type": "code",
   "execution_count": null,
   "metadata": {},
   "outputs": [],
   "source": [
    "U = getRandomUnitaryMatrix(n=5)"
   ]
  },
  {
   "cell_type": "markdown",
   "metadata": {},
   "source": [
    "### Mixer"
   ]
  },
  {
   "cell_type": "markdown",
   "metadata": {},
   "source": [
    "The `Mixer` represents a 4 port directional coupler with variable weights similar to a Mach-Zender Interferometer."
   ]
  },
  {
   "cell_type": "markdown",
   "metadata": {},
   "source": [
    "We begin with the definition of a directional \"beam splitter\" given below\n",
    "$$\n",
    "T(\\theta, \\phi) = \\begin{pmatrix}\n",
    "e^{i\\phi} \\cos(\\theta) & -\\sin(\\theta)\\\\\n",
    "e^{i\\phi} \\sin(\\theta) & \\cos(\\theta)\n",
    "\\end{pmatrix}\n",
    "$$\n",
    "This shows only the transmissive part and all reflections are assumed to be zero."
   ]
  },
  {
   "cell_type": "code",
   "execution_count": null,
   "metadata": {},
   "outputs": [],
   "source": [
    "def T(theta, phi):\n",
    "    a = [[ exp(I*phi) * cos(theta), -sin(theta)], \n",
    "         [ exp(I*phi) * sin(theta),  cos(theta)]]\n",
    "    return np.array(a)"
   ]
  },
  {
   "cell_type": "markdown",
   "metadata": {},
   "source": [
    "We also need the inverse of this matrix.  This was computed in Mathematica."
   ]
  },
  {
   "cell_type": "code",
   "execution_count": null,
   "metadata": {},
   "outputs": [],
   "source": [
    "def Tinv(theta, phi):\n",
    "    a = [[ exp(-I*phi) * cos(theta),  exp(-I*phi) * sin(theta)], \n",
    "         [              -sin(theta),                cos(theta)]]\n",
    "    return np.array(a)"
   ]
  },
  {
   "cell_type": "markdown",
   "metadata": {},
   "source": [
    "This allows us to define a simple class for a `Mixer`."
   ]
  },
  {
   "cell_type": "code",
   "execution_count": null,
   "metadata": {},
   "outputs": [],
   "source": [
    "class Mixer:\n",
    "    \n",
    "    def __init__(self, theta_phi=(0,0)):\n",
    "        self.theta, self.phi = theta_phi\n",
    "    \n",
    "    def T(self):\n",
    "        return T(self.theta, self.phi)\n",
    "\n",
    "    def Tinv(self):\n",
    "        return Tinv(self.theta, self.phi)"
   ]
  },
  {
   "cell_type": "code",
   "execution_count": null,
   "metadata": {},
   "outputs": [],
   "source": [
    "mixer = Mixer()\n",
    "mixer = Mixer(theta_phi=(0.2*pi, 0.3*pi))"
   ]
  },
  {
   "cell_type": "code",
   "execution_count": null,
   "metadata": {},
   "outputs": [],
   "source": [
    "print(mixer.T())\n",
    "print(mixer.Tinv())"
   ]
  },
  {
   "cell_type": "markdown",
   "metadata": {},
   "source": [
    "### Mixer Mesh Interaction"
   ]
  },
  {
   "cell_type": "markdown",
   "metadata": {},
   "source": [
    "The formulation makes use of how a mixer interacts with all of the channels in the system.  Let us imagine a vector of $n$ \n",
    " lines.  Of course, if the mixer is not connected to a line, that line would remain unperturbed.  It follows that we can understand a mixer's effect on a\n",
    "mesh as the identity matrix with several elements changed to those given by $T(\\theta, \\phi)$ above.\n",
    "\n",
    "Note that within the paper, Clements uses the notation $T_{m,n}(\\theta, \\phi)$ which represents a mixing between lines $m$ and $n$.  In all cases within\n",
    "that work, $n = m + 1$."
   ]
  },
  {
   "cell_type": "code",
   "execution_count": null,
   "metadata": {},
   "outputs": [],
   "source": [
    "def TMesh(theta_phi, N, lines):\n",
    "    A = np.identity(N, dtype='complex')\n",
    "    a = T(*theta_phi)\n",
    "    m, n = lines\n",
    "    A[m, m] = a[0,0]\n",
    "    A[m, n] = a[0,1]\n",
    "    A[n, m] = a[1,0]\n",
    "    A[n, n] = a[1,1]\n",
    "    return A"
   ]
  },
  {
   "cell_type": "code",
   "execution_count": null,
   "metadata": {},
   "outputs": [],
   "source": [
    "def TinvMesh(theta_phi, N, lines):\n",
    "    A = np.identity(N, dtype='complex')\n",
    "    a = Tinv(*theta_phi)\n",
    "    m, n = lines\n",
    "    A[m, m] = a[0,0]\n",
    "    A[m, n] = a[0,1]\n",
    "    A[n, m] = a[1,0]\n",
    "    A[n, n] = a[1,1]\n",
    "    return A"
   ]
  },
  {
   "cell_type": "code",
   "execution_count": null,
   "metadata": {},
   "outputs": [],
   "source": [
    "mixer = Mixer(theta_phi=(0.2*pi, 0.3*pi))\n",
    "print(mixer.T())\n",
    "print(mixer.Tinv())"
   ]
  },
  {
   "cell_type": "code",
   "execution_count": null,
   "metadata": {},
   "outputs": [],
   "source": [
    "TMesh(theta_phi=(0.3*pi, 0.2*pi), N=5, lines=(1,2))"
   ]
  },
  {
   "cell_type": "code",
   "execution_count": null,
   "metadata": {},
   "outputs": [],
   "source": [
    "TinvMesh(theta_phi=(0.3*pi, 0.2*pi), N=5, lines=(1,2))"
   ]
  },
  {
   "cell_type": "markdown",
   "metadata": {},
   "source": [
    "And just as a check, let us verify that the analytical aligns with the numerical inverse."
   ]
  },
  {
   "cell_type": "code",
   "execution_count": null,
   "metadata": {},
   "outputs": [],
   "source": [
    "invNum = np.linalg.inv(TMesh(theta_phi=(0.4*pi, 0.2*pi), N=5, lines=(1,4)))\n",
    "invAnal = TinvMesh(theta_phi=(0.4*pi, 0.2*pi), N=5, lines=(1,4))\n",
    "np.allclose(invNum, invAnal)"
   ]
  },
  {
   "cell_type": "markdown",
   "metadata": {},
   "source": [
    "### Mesh"
   ]
  },
  {
   "cell_type": "code",
   "execution_count": null,
   "metadata": {},
   "outputs": [],
   "source": [
    "def EvenQ(n):\n",
    "    \"\"\"\n",
    "    True if n is even.\n",
    "    False otherwise.\n",
    "    \"\"\"\n",
    "    return(n%2==0)\n",
    "\n",
    "def OddQ(n):\n",
    "    \"\"\"\n",
    "    True if n is odd.\n",
    "    False otherwise.\n",
    "    \"\"\"    \n",
    "    return(n%2==1)    "
   ]
  },
  {
   "cell_type": "markdown",
   "metadata": {},
   "source": [
    "Computes the number of layers in the mesh required to obtain `totCount` number of mixers.  For instance, suppose that you want 6 DoFs from a 4 port to 4 port mesh.  The even columns (0th, 2nd, etc) would have 2 mixers.  The odd columns (1st, 3rd, etc) would have 1 mixer."
   ]
  },
  {
   "cell_type": "code",
   "execution_count": null,
   "metadata": {},
   "outputs": [],
   "source": [
    "def computeNLayers(evenCount, oddCount, totCount):\n",
    "    \"\"\"\n",
    "    Given finds the total number of elements in the pattern [e, o, e, o, ...]\n",
    "    required to achieve `totCount`.  Returns `None` if not evenly divisable.\n",
    "\n",
    "    This is done directly by totaling the contribution of an e + o combination\n",
    "    \"\"\"\n",
    "    if totCount == 1:\n",
    "        return 1\n",
    "    comboCount = evenCount + oddCount\n",
    "    nComboLayers = totCount//comboCount\n",
    "    if nComboLayers*comboCount == totCount:\n",
    "        return 2*nComboLayers\n",
    "    elif nComboLayers*comboCount + evenCount == totCount:\n",
    "        return 2*nComboLayers + 1\n",
    "    else:\n",
    "        print(\"does not appear evenly divisable\")\n",
    "        return None\n"
   ]
  },
  {
   "cell_type": "code",
   "execution_count": null,
   "metadata": {},
   "outputs": [],
   "source": [
    "4 == computeNLayers(evenCount=2, oddCount=1, totCount=6) # 2 + 1 + 2 + 1"
   ]
  },
  {
   "cell_type": "code",
   "execution_count": null,
   "metadata": {},
   "outputs": [],
   "source": [
    "3 == computeNLayers(evenCount=2, oddCount=5, totCount=9) # 2 + 5 + 2"
   ]
  },
  {
   "cell_type": "code",
   "execution_count": null,
   "metadata": {},
   "outputs": [],
   "source": [
    "None == computeNLayers(evenCount=2, oddCount=5, totCount=8) # 2 + 5 + ?"
   ]
  },
  {
   "cell_type": "markdown",
   "metadata": {},
   "source": [
    "Generates Device Labels for mesh which can realize a given kernel size.\n",
    "It will return labels for each input port, output port, mixer, and thru.\n",
    "\n",
    "This is done in a naive fashion, stepping across the mesh from the input ports to\n",
    "the output ports.  For lines which do not intersect a mixer, a thru will be inserted. "
   ]
  },
  {
   "cell_type": "code",
   "execution_count": null,
   "metadata": {},
   "outputs": [],
   "source": [
    "def generateDeviceLabels(kernelSize, mixerLabel='m', thruLabel='t', inputLabel='i', outputLabel='o', verbose=False):\n",
    "    NN = kernelSize\n",
    "    evenCount = NN//2\n",
    "    oddCount = (NN-1)//2\n",
    "    if verbose: print(\"NN:\", NN)\n",
    "    nMixers = NN*(NN-1)//2\n",
    "    if verbose: print(\"nDOFs:\", nMixers)\n",
    "    if verbose: print(\"evenCounts:\", evenCount, \"\\toddCounts:\", oddCount)\n",
    "    nLayers = computeNLayers(evenCount, oddCount, nMixers)\n",
    "    if verbose: print(\"nLayers:\", nLayers)\n",
    "    mixers = []\n",
    "    thrus = []\n",
    "    inPorts = [(inputLabel, i) for i in range(kernelSize)]\n",
    "    if verbose: print(\"inPorts:\", inPorts)    \n",
    "    outPorts = [(outputLabel, i) for i in range(kernelSize)]\n",
    "    if verbose: print(\"outPorts:\", outPorts)    \n",
    "    (i, j) = (0, 0)\n",
    "    while i < nLayers:\n",
    "        oddLayer = (i%2 == 1)\n",
    "        if (j == 0 and oddLayer) or (j == NN - 1):\n",
    "            thrus.append((thruLabel, i, j))\n",
    "            j += 1\n",
    "        else:\n",
    "            mixers.append((mixerLabel, i, j))\n",
    "            j += 2\n",
    "        if j >= NN:\n",
    "            j = 0\n",
    "            i += 1\n",
    "    if verbose: print(\"mixers:\", mixers)\n",
    "    if verbose: print(\"thrus:\", thrus)\n",
    "    return (inPorts, mixers, thrus, outPorts)"
   ]
  },
  {
   "cell_type": "code",
   "execution_count": null,
   "metadata": {},
   "outputs": [],
   "source": [
    "(inPorts, mixers, thrus, outPorts) = generateDeviceLabels(kernelSize=5, mixerLabel='m', thruLabel='t', verbose=True)"
   ]
  },
  {
   "cell_type": "markdown",
   "metadata": {},
   "source": [
    "Generates Mixer Labels for a mesh which can realize a given kernel size.\n",
    "\n",
    "This is done in a naive fashion, stepping across the mesh from the input ports\n",
    "to the output ports.  Mixers are grouped by column.  In other words, all mixers\n",
    "which touch the input ports are in the first list."
   ]
  },
  {
   "cell_type": "code",
   "execution_count": null,
   "metadata": {},
   "outputs": [],
   "source": [
    "def generateMixerLabels(kernelSize, mixerLabel='m', verbose=False):\n",
    "    NN = kernelSize\n",
    "    evenCount = NN//2\n",
    "    oddCount = (NN-1)//2\n",
    "    if verbose: print(\"NN:\", NN)\n",
    "    nMixers = NN*(NN-1)//2\n",
    "    if verbose: print(\"nDOFs:\", nMixers)\n",
    "    if verbose: print(\"evenCounts:\", evenCount, \"\\toddCounts:\", oddCount)\n",
    "    nLayers = computeNLayers(evenCount, oddCount, nMixers)\n",
    "    if verbose: print(\"nLayers:\", nLayers)\n",
    "    mixers = []\n",
    "    (i, j) = (0, 0)\n",
    "    for i in range(nLayers):\n",
    "        if EvenQ(i):\n",
    "            colList = [(mixerLabel, i, 2*j) for j in range(0, evenCount)]\n",
    "        if OddQ(i):\n",
    "            colList = [(mixerLabel, i, 2*j + 1) for j in range(0, oddCount)]            \n",
    "        mixers.append(colList)\n",
    "    return (mixers)"
   ]
  },
  {
   "cell_type": "code",
   "execution_count": null,
   "metadata": {},
   "outputs": [],
   "source": [
    "generateMixerLabels(kernelSize=5, mixerLabel='m', verbose=True)"
   ]
  },
  {
   "cell_type": "markdown",
   "metadata": {},
   "source": [
    "Generates Mixer Labels for a mesh which can realize a given kernel size.\n",
    "\n",
    "This is done on the diagonal to create a list which corresponds to the order in\n",
    "which they are nulled according to Clements et al.  Mixers are grouped by diagonal."
   ]
  },
  {
   "cell_type": "code",
   "execution_count": null,
   "metadata": {},
   "outputs": [],
   "source": [
    "def generateMixerLabelsDiag(kernelSize, mixerLabel='m', verbose=False):\n",
    "    NN = kernelSize\n",
    "    orderedLabels = []\n",
    "    for i in range(NN-1):\n",
    "        diagList = []\n",
    "        for j in range(i+1):\n",
    "            if EvenQ(i):\n",
    "                label = (mixerLabel, j, i - j)\n",
    "            else:\n",
    "                label = (mixerLabel, NN - j - 1, NN - (i - j) - 2)\n",
    "            diagList.append(label)\n",
    "        orderedLabels.append(diagList)\n",
    "    return orderedLabels"
   ]
  },
  {
   "cell_type": "code",
   "execution_count": null,
   "metadata": {},
   "outputs": [],
   "source": [
    "generateMixerLabelsDiag(kernelSize=5, mixerLabel='m', verbose=False)"
   ]
  },
  {
   "cell_type": "markdown",
   "metadata": {},
   "source": [
    "We now have three ways of generating mixer labels.  Let's confirm they all give the same results."
   ]
  },
  {
   "cell_type": "code",
   "execution_count": null,
   "metadata": {},
   "outputs": [],
   "source": [
    "NN = 100\n",
    "(inPorts, mixers, thrus, outPorts) = generateDeviceLabels(kernelSize=NN, mixerLabel='m', thruLabel='t', verbose=False)\n",
    "s1 = mixers\n",
    "s2 = list(concat(generateMixerLabels(kernelSize=NN, mixerLabel='m', verbose=False)))\n",
    "s3 = list(concat(generateMixerLabelsDiag(kernelSize=NN, mixerLabel='m', verbose=False)))"
   ]
  },
  {
   "cell_type": "code",
   "execution_count": null,
   "metadata": {},
   "outputs": [],
   "source": [
    "sorted(s1) == sorted(s2) and sorted(s1) == sorted(s3)\n"
   ]
  },
  {
   "cell_type": "markdown",
   "metadata": {},
   "source": [
    "### Drawing"
   ]
  },
  {
   "cell_type": "code",
   "execution_count": null,
   "metadata": {},
   "outputs": [],
   "source": [
    "import networkx as nx\n",
    "import pylab as plt"
   ]
  },
  {
   "cell_type": "code",
   "execution_count": null,
   "metadata": {},
   "outputs": [],
   "source": [
    "(inPortLabels, mixerLabels, thruLabels, outPortLabels) = generateDeviceLabels(kernelSize=5, mixerLabel='m', thruLabel='t', verbose=True)"
   ]
  },
  {
   "cell_type": "code",
   "execution_count": null,
   "metadata": {},
   "outputs": [],
   "source": [
    "def makeGraph(inPortLabels, mixerLabels, thruLabels, outPortLabels):\n",
    "    G = nx.Graph()\n",
    "    maxMixerX = np.max(np.array(mixerLabels,dtype=object)[:,1])\n",
    "    maxMixerY = np.max(np.array(mixerLabels,dtype=object)[:,2])\n",
    "    for lab in inPortLabels:\n",
    "        (_, y) = lab\n",
    "        G.add_node(lab, pos=(-1, -y), col='#88ff88')\n",
    "    for lab in mixerLabels:\n",
    "        (_, x, y) = lab\n",
    "        G.add_node(lab, pos=(x, -y-0.5), col='#ffff00')\n",
    "    for lab in thruLabels:\n",
    "        (_, x, y) = lab\n",
    "        if y == 0:\n",
    "            G.add_node(lab, pos=(x, -y-0.5), col='#8888ff')\n",
    "        else:\n",
    "            G.add_node(lab, pos=(x, -y+0.5), col='#8888ff')\n",
    "    for lab in outPortLabels:\n",
    "        (_, y) = lab\n",
    "        G.add_node(lab, pos=(maxMixerX+1, -y), col='#ff8888')\n",
    "    for lab in inPortLabels:\n",
    "        pass\n",
    "    allElements = set()\n",
    "    for l in (inPortLabels, mixerLabels, thruLabels, outPortLabels):\n",
    "        allElements.update(l)\n",
    "    for lab in mixerLabels:\n",
    "        (_, x, y) = lab\n",
    "        potLab = ('m', x+1, y+1)\n",
    "        if potLab in allElements:\n",
    "            G.add_edge(lab, potLab)\n",
    "        potLab = ('m', x+1, y-1)\n",
    "        if potLab in allElements:\n",
    "            G.add_edge(lab, potLab)\n",
    "        potLab = ('t', x+1, y)\n",
    "        if potLab in allElements:\n",
    "            G.add_edge(lab, potLab)\n",
    "        potLab = ('t', x+1, y+1)\n",
    "        if potLab in allElements:\n",
    "            G.add_edge(lab, potLab)\n",
    "        potLab = ('t', x-1, y)\n",
    "        if potLab in allElements:\n",
    "            G.add_edge(lab, potLab)\n",
    "        potLab = ('t', x-1, y+1)\n",
    "        if potLab in allElements:\n",
    "            G.add_edge(lab, potLab)\n",
    "    for lab in inPortLabels:\n",
    "        (_, y) = lab\n",
    "        potLab = ('m', 0, y-1)\n",
    "        if potLab in allElements:\n",
    "            G.add_edge(lab, potLab)\n",
    "        potLab = ('m', 0, y)\n",
    "        if potLab in allElements:\n",
    "            G.add_edge(lab, potLab)\n",
    "        potLab = ('t', 0, y)\n",
    "        if potLab in allElements:\n",
    "            G.add_edge(lab, potLab)\n",
    "    for lab in outPortLabels:\n",
    "        (_, y) = lab\n",
    "        potLab = ('m', maxMixerX, y-1)\n",
    "        if potLab in allElements:\n",
    "            G.add_edge(lab, potLab)\n",
    "        potLab = ('m', maxMixerX, y)\n",
    "        if potLab in allElements:\n",
    "            G.add_edge(lab, potLab)\n",
    "        potLab = ('t', maxMixerX, y)\n",
    "        if potLab in allElements:\n",
    "            G.add_edge(lab, potLab)\n",
    "    return G                               \n",
    "    "
   ]
  },
  {
   "cell_type": "code",
   "execution_count": null,
   "metadata": {},
   "outputs": [],
   "source": [
    "(inPortLabels, mixerLabels, thruLabels, outPortLabels) = generateDeviceLabels(kernelSize=5, mixerLabel='m', thruLabel='t', verbose=False)\n",
    "G = makeGraph(inPortLabels, mixerLabels, thruLabels, outPortLabels)\n",
    "pos = nx.get_node_attributes(G,'pos')\n",
    "colors = nx.get_node_attributes(G, 'col')\n",
    "nx.draw(G, pos, with_labels=True, node_size=2000, font_size=10, node_color=list(colors.values()))\n",
    "fig = plt.figure(1, figsize=(20, 10), dpi=60)\n",
    "ax = plt.gca()\n",
    "ax.margins(0.10)\n",
    "plt.axis(\"off\")\n",
    "plt.show()"
   ]
  },
  {
   "cell_type": "markdown",
   "metadata": {},
   "source": [
    "### Solving"
   ]
  },
  {
   "cell_type": "markdown",
   "metadata": {},
   "source": [
    "As part the Clements iterative algorithm, a matrix product is nulled element by element by\n",
    "tweaking the $\\theta$ and $\\phi$ on a mixer while the effect of that mixer is applied to either\n",
    "the left or right side of the matrix product.  For each iteration, we need to know:\n",
    "* which mixer is being tweaked\n",
    "* whether it is being applied to the left or right side\n",
    "* which element of the matrix product is being nulled"
   ]
  },
  {
   "cell_type": "markdown",
   "metadata": {},
   "source": [
    "The ordering of the mixers has already been computed and an example is shown below."
   ]
  },
  {
   "cell_type": "code",
   "execution_count": null,
   "metadata": {},
   "outputs": [],
   "source": [
    "NN = 5"
   ]
  },
  {
   "cell_type": "code",
   "execution_count": null,
   "metadata": {},
   "outputs": [],
   "source": [
    "generateMixerLabelsDiag(kernelSize=NN, mixerLabel='m', verbose=False)"
   ]
  },
  {
   "cell_type": "markdown",
   "metadata": {},
   "source": [
    "Generates whether to either apply $T$ or $T^{-1}$ to the left or right side respectively\n",
    "for the diagonal mixer labels above."
   ]
  },
  {
   "cell_type": "code",
   "execution_count": null,
   "metadata": {},
   "outputs": [],
   "source": [
    "def generateSideLabels(kernelSize):\n",
    "    NN = kernelSize\n",
    "    orderedLabels = []\n",
    "    for i in range(1, NN):\n",
    "        if OddQ(i):\n",
    "            diagList = ('r',)*i\n",
    "        else:\n",
    "            diagList = ('l',)*i\n",
    "        orderedLabels.append(diagList)\n",
    "    return orderedLabels"
   ]
  },
  {
   "cell_type": "code",
   "execution_count": null,
   "metadata": {},
   "outputs": [],
   "source": [
    "generateSideLabels(kernelSize=5)"
   ]
  },
  {
   "cell_type": "markdown",
   "metadata": {},
   "source": [
    "Generates a list of which element of the matrix product to attempt to null\n",
    "for the diagonal mixer labels above."
   ]
  },
  {
   "cell_type": "code",
   "execution_count": null,
   "metadata": {},
   "outputs": [],
   "source": [
    "def generateMatrixZeroTargets(kernelSize):\n",
    "    NN = kernelSize\n",
    "    orderedLabels = []\n",
    "    cMax = 0\n",
    "    for i in range(1, NN):\n",
    "        diagList = []\n",
    "        cMin = 0\n",
    "        cMax = i\n",
    "        rMin = NN - i\n",
    "        rMax = NN\n",
    "        for r,c in zip(range(rMin, rMax), range(cMin, cMax)):\n",
    "            label = (r, c)\n",
    "            diagList.append(label)\n",
    "        if OddQ(i):\n",
    "            diagList.reverse()\n",
    "        orderedLabels.append(diagList)\n",
    "    return orderedLabels"
   ]
  },
  {
   "cell_type": "code",
   "execution_count": null,
   "metadata": {},
   "outputs": [],
   "source": [
    "generateMatrixZeroTargets(kernelSize=NN)"
   ]
  },
  {
   "cell_type": "markdown",
   "metadata": {},
   "source": [
    "Now let's apply this to a random unitary matrix."
   ]
  },
  {
   "cell_type": "code",
   "execution_count": null,
   "metadata": {},
   "outputs": [],
   "source": [
    "NN = 5\n",
    "U = getRandomUnitaryMatrix(n=NN)"
   ]
  },
  {
   "cell_type": "markdown",
   "metadata": {},
   "source": [
    "We can create a dictionary of mixers using the labels as keys."
   ]
  },
  {
   "cell_type": "code",
   "execution_count": null,
   "metadata": {},
   "outputs": [],
   "source": [
    "mixerLabelsDiag = generateMixerLabelsDiag(NN)\n",
    "mixerDict = {label:Mixer() for label in concat(mixerLabelsDiag)}\n",
    "mixerDict;"
   ]
  },
  {
   "cell_type": "markdown",
   "metadata": {},
   "source": [
    "We will use the `minimize` function above to find the proper $\\theta$ and $\\phi$\n",
    "for each mixer in turn.  Here `f` is a cost function which will be minimized by\n",
    "tweaking $\\theta$ and $\\phi$ while trying to render the element `zeroTarg` of \n",
    "$(S_{\\mathrm{tot}} \\times T^{-1})$ to be zero, assuming `side = 'r'`.  Note that if\n",
    "`side = 'l'`, then we will be looking at $(T \\times S_{\\mathrm{tot}})$"
   ]
  },
  {
   "cell_type": "code",
   "execution_count": null,
   "metadata": {},
   "outputs": [],
   "source": [
    "from scipy.optimize import minimize"
   ]
  },
  {
   "cell_type": "code",
   "execution_count": null,
   "metadata": {},
   "outputs": [],
   "source": [
    "def f(theta_phi, Stot, side, zeroTarg, mixerLabel):\n",
    "    NN, _ = Stot.shape\n",
    "    (_, i, j) = mixerLabel\n",
    "    if side == 'r':\n",
    "        Ainv = TinvMesh(theta_phi, N=NN, lines=(j, j+1))\n",
    "        Ttot = Stot@Ainv\n",
    "    elif side == 'l':\n",
    "        A = TMesh(theta_phi, N=NN, lines=(j, j+1))\n",
    "        Ttot = A@Stot\n",
    "    else:\n",
    "        print(\"you shouldn't be here\")\n",
    "    return np.abs(Ttot[zeroTarg])"
   ]
  },
  {
   "cell_type": "code",
   "execution_count": null,
   "metadata": {},
   "outputs": [],
   "source": [
    "def ChopPrint(A, tol=1e-16):\n",
    "    AC = A.copy()\n",
    "    AC.real[abs(AC.real) < tol] = 0.0\n",
    "    AC.imag[abs(AC.imag) < tol] = 0.0\n",
    "    print(AC)"
   ]
  },
  {
   "cell_type": "code",
   "execution_count": null,
   "metadata": {},
   "outputs": [],
   "source": [
    "NN = 5\n",
    "U = getRandomUnitaryMatrix(n=NN)\n",
    "print(\"U:\")\n",
    "print(U)\n",
    "\n",
    "sideLabels = list(concat(generateSideLabels(NN)))\n",
    "zeroTargs = list(concat(generateMatrixZeroTargets(NN)))\n",
    "mixerLabels = list(concat(generateMixerLabelsDiag(NN)))\n",
    "mixerDict = {label:Mixer() for label in mixerLabels}\n",
    "\n",
    "Stot = U\n",
    "for side, zeroTarg, mixerLabel in zip(sideLabels, zeroTargs, mixerLabels):\n",
    "    sol = minimize(f, x0=[0,0], args=(Stot, side, zeroTarg, mixerLabel))\n",
    "    setThetaPhi = sol.x\n",
    "    print(mixerLabel, setThetaPhi, sol.fun)\n",
    "    (_, i, j) = mixerLabel\n",
    "    setMixer = mixerDict[mixerLabel]\n",
    "    setMixer.theta, setMixer.phi = setThetaPhi\n",
    "    if side == 'r':\n",
    "        Ainv = TinvMesh(setThetaPhi, N=NN, lines=(j, j+1))\n",
    "        Stot = Stot@Ainv\n",
    "    elif side == 'l':\n",
    "        A = TMesh(setThetaPhi, N=NN, lines=(j, j+1))\n",
    "        Stot = A@Stot\n",
    "print(\"Stot:\")\n",
    "ChopPrint(Stot, tol=1e-8)"
   ]
  },
  {
   "cell_type": "code",
   "execution_count": null,
   "metadata": {},
   "outputs": [],
   "source": [
    "Stot = U\n",
    "for side, zeroTarg, mixerLabel in zip(sideLabels, zeroTargs, mixerLabels):\n",
    "    (_, i, j) = mixerLabel\n",
    "    mixer = mixerDict[mixerLabel]\n",
    "    theta_phi = mixer.theta, mixer.phi\n",
    "    if side == 'r':\n",
    "        Ainv = TinvMesh(theta_phi, N=NN, lines=(j, j+1))\n",
    "        Stot = Stot@Ainv\n",
    "    elif side == 'l':\n",
    "        A = TMesh(theta_phi, N=NN, lines=(j, j+1))\n",
    "        Stot = A@Stot\n",
    "    ChopPrint(Stot, tol=1e-8)"
   ]
  },
  {
   "cell_type": "code",
   "execution_count": null,
   "metadata": {},
   "outputs": [],
   "source": [
    "labsTria = generateMixerLabelsDiag(NN)\n",
    "evenLabs = list(concat(labsTria[::2]))[::-1]\n",
    "print(evenLabs)\n",
    "oddLabs = list(concat(labsTria[1::2]))\n",
    "print(oddLabs)\n",
    "sequentialStack = list(concat([oddLabs, evenLabs]))\n",
    "print(sequentialStack)\n"
   ]
  },
  {
   "cell_type": "code",
   "execution_count": null,
   "metadata": {},
   "outputs": [],
   "source": [
    "sequentialStackR = reversed(sequentialStack)\n",
    "\n",
    "STot = np.identity(NN)\n",
    "for label in sequentialStackR:\n",
    "    print(label)\n",
    "    mixer = mixerDict[label]\n",
    "    (_, i, j) = label\n",
    "    theta_phi = mixer.theta, mixer.phi\n",
    "    A = TMesh(theta_phi, NN, (j, j+1))\n",
    "    print(A)\n",
    "    STot = np.dot(A, STot)\n",
    "    print(STot)\n",
    "    print()"
   ]
  },
  {
   "cell_type": "code",
   "execution_count": null,
   "metadata": {},
   "outputs": [],
   "source": [
    "Dp = np.dot(U, np.linalg.inv(STot))\n",
    "print(Dp)"
   ]
  },
  {
   "cell_type": "code",
   "execution_count": null,
   "metadata": {},
   "outputs": [],
   "source": [
    "print(np.matmul(Dp, Stot))\n",
    "print(U)"
   ]
  },
  {
   "cell_type": "code",
   "execution_count": null,
   "metadata": {},
   "outputs": [],
   "source": [
    "mixerLabelsCol = list(concat(generateMixerLabels(NN)))"
   ]
  },
  {
   "cell_type": "code",
   "execution_count": null,
   "metadata": {},
   "outputs": [],
   "source": [
    "def partition(l, n):\n",
    "    for i in range(0, len(l), n):\n",
    "        yield l[i:i + n]"
   ]
  },
  {
   "cell_type": "code",
   "execution_count": null,
   "metadata": {},
   "outputs": [],
   "source": [
    "list(partition(list(concat(generateMixerLabels(NN))), 4))"
   ]
  },
  {
   "cell_type": "code",
   "execution_count": null,
   "metadata": {},
   "outputs": [],
   "source": [
    "STot = np.identity(NN)\n",
    "for colLabels in partition(list(concat(generateMixerLabels(NN))), 4):\n",
    "    STot = np.identity(NN)\n",
    "    for label in colLabels:\n",
    "        print(label)\n",
    "        mixer = mixerDict[label]\n",
    "        (_, i, j) = label\n",
    "        theta_phi = mixer.theta, mixer.phi\n",
    "        A = TMesh(theta_phi, NN, (j, j+1))\n",
    "        STot = A@STot\n",
    "    print(STot)"
   ]
  },
  {
   "cell_type": "code",
   "execution_count": null,
   "metadata": {},
   "outputs": [],
   "source": []
  }
 ],
 "metadata": {
  "interpreter": {
   "hash": "172a64f8fbf5e912fff9df3bb5ed396635f932701996a7224f71e02466f142fe"
  },
  "kernelspec": {
   "display_name": "Python 3.9.4 64-bit ('jupyterlab': conda)",
   "name": "python3"
  },
  "language_info": {
   "codemirror_mode": {
    "name": "ipython",
    "version": 3
   },
   "file_extension": ".py",
   "mimetype": "text/x-python",
   "name": "python",
   "nbconvert_exporter": "python",
   "pygments_lexer": "ipython3",
   "version": "3.9.4"
  },
  "toc-autonumbering": false,
  "toc-showcode": false,
  "toc-showmarkdowntxt": false,
  "toc-showtags": true
 },
 "nbformat": 4,
 "nbformat_minor": 4
}
