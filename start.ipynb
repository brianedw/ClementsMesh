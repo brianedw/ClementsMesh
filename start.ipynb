{
 "cells": [
  {
   "cell_type": "markdown",
   "metadata": {
    "tags": [],
    "toc-hr-collapsed": true
   },
   "source": [
    "# Setup"
   ]
  },
  {
   "cell_type": "markdown",
   "metadata": {
    "tags": []
   },
   "source": [
    "## Stock Imports"
   ]
  },
  {
   "cell_type": "markdown",
   "metadata": {
    "tags": []
   },
   "source": [
    "### IDE Stuff"
   ]
  },
  {
   "cell_type": "markdown",
   "metadata": {
    "heading_collapsed": "true",
    "tags": []
   },
   "source": [
    "#### Installing New Packages"
   ]
  },
  {
   "cell_type": "code",
   "execution_count": 2,
   "metadata": {},
   "outputs": [],
   "source": [
    "# Jupyter Plugins that make things much nicer:\n",
    "# * Collapsible_Headings\n",
    "# * hide_code\n",
    "# * jupyterlab-code-cell-collapser\n",
    "# * jupyterlab_templates"
   ]
  },
  {
   "cell_type": "markdown",
   "metadata": {},
   "source": [
    "Depending on how many installations of Python you have on your system, doing a simple `conda install` or `pip install` will put the module in the wrong installation.  This makes sure it lands in the installation corresponding to the current notebook."
   ]
  },
  {
   "cell_type": "code",
   "execution_count": 3,
   "metadata": {},
   "outputs": [],
   "source": [
    "# Code for installing packages\n",
    "# !conda install --yes --prefix {sys.prefix} shapely\n",
    "# !{sys.executable} -m pip install shapely"
   ]
  },
  {
   "cell_type": "markdown",
   "metadata": {
    "heading_collapsed": "true",
    "tags": []
   },
   "source": [
    "#### Notebook Customization"
   ]
  },
  {
   "cell_type": "markdown",
   "metadata": {},
   "source": [
    "This will change the fonts in Anaconda JupyterLab and Notebook.  I find the rendered mardown heading fonts (H1, H2, H3, etc) to be too similar.  This will alternate between italicized and normal fonts for headings.  Additionally, it adds a small indent that grows with heading level.  H1 is centered."
   ]
  },
  {
   "cell_type": "code",
   "execution_count": 4,
   "metadata": {},
   "outputs": [
    {
     "data": {
      "text/html": [
       "\n",
       "<link rel=\"preconnect\" href=\"https://fonts.gstatic.com\">\n",
       "\n",
       "<link href=\"https://fonts.googleapis.com/css2?family=Cormorant+Garamond:wght@300;400;600&family=Playfair+Display+SC&display=swap\" rel=\"stylesheet\">\n",
       "<link rel=\"stylesheet\" href=\"https://fonts.googleapis.com/css?family=Lora\">\n",
       "<link href=\"https://fonts.googleapis.com/css2?family=IM+Fell+Double+Pica:ital@1&display=swap\" rel=\"stylesheet\">\n",
       "    <style>\n",
       "h1 { color: #7c795d; font-family: 'Playfair Display SC', serif; text-indent: 00px; text-align: center;}\n",
       "h2 { color: #7c795d; font-family: 'Lora', serif;                text-indent: 00px; text-align: left; }\n",
       "h3 { color: #7c795d; font-family: 'IM Fell Double Pica', serif; text-indent: 15px; text-align: left; }\n",
       "h4 { color: #7c795d; font-family: 'Lora', Arial, serif;         text-indent: 30px; text-align: left}\n",
       "h5 { color: #71a832; font-family: 'IM Fell Double Pica', serif; text-indent: 45px; text-align: left}\n",
       "\n"
      ],
      "text/plain": [
       "<IPython.core.display.HTML object>"
      ]
     },
     "execution_count": 4,
     "metadata": {},
     "output_type": "execute_result"
    }
   ],
   "source": [
    "import IPython\n",
    "css_str = \"\"\"\n",
    "<link rel=\"preconnect\" href=\"https://fonts.gstatic.com\">\n",
    "\n",
    "<link href=\"https://fonts.googleapis.com/css2?family=Cormorant+Garamond:wght@300;400;600&family=Playfair+Display+SC&display=swap\" rel=\"stylesheet\">\n",
    "<link rel=\"stylesheet\" href=\"https://fonts.googleapis.com/css?family=Lora\">\n",
    "<link href=\"https://fonts.googleapis.com/css2?family=IM+Fell+Double+Pica:ital@1&display=swap\" rel=\"stylesheet\">\n",
    "    <style>\n",
    "h1 { color: #7c795d; font-family: 'Playfair Display SC', serif; text-indent: 00px; text-align: center;}\n",
    "h2 { color: #7c795d; font-family: 'Lora', serif;                text-indent: 00px; text-align: left; }\n",
    "h3 { color: #7c795d; font-family: 'IM Fell Double Pica', serif; text-indent: 15px; text-align: left; }\n",
    "h4 { color: #7c795d; font-family: 'Lora', Arial, serif;         text-indent: 30px; text-align: left}\n",
    "h5 { color: #71a832; font-family: 'IM Fell Double Pica', serif; text-indent: 45px; text-align: left}\n",
    "\n",
    "\"\"\"\n",
    "IPython.display.HTML(css_str)"
   ]
  },
  {
   "cell_type": "markdown",
   "metadata": {},
   "source": [
    "Allows for changes in packages to be detected and immediately incorporated into the present notebook without resetting the kernel."
   ]
  },
  {
   "cell_type": "code",
   "execution_count": 5,
   "metadata": {},
   "outputs": [],
   "source": [
    "%load_ext autoreload\n",
    "%autoreload 2"
   ]
  },
  {
   "cell_type": "markdown",
   "metadata": {},
   "source": [
    "By default, Jupyter returns the last expression (and won't return this if it is a statement).  Sometimes we want different behavior that is more similar to Mathematica"
   ]
  },
  {
   "cell_type": "code",
   "execution_count": 6,
   "metadata": {},
   "outputs": [],
   "source": [
    "from IPython.core.interactiveshell import InteractiveShell\n",
    "\n",
    "# pretty print only the last output of the cell\n",
    "InteractiveShell.ast_node_interactivity = 'last_expr' # ['all', 'last', 'last_expr', 'none', 'last_expr_or_assign']"
   ]
  },
  {
   "cell_type": "code",
   "execution_count": 7,
   "metadata": {},
   "outputs": [],
   "source": [
    "x = 2\n",
    "y = 3"
   ]
  },
  {
   "cell_type": "code",
   "execution_count": 8,
   "metadata": {},
   "outputs": [],
   "source": [
    "x = 2"
   ]
  },
  {
   "cell_type": "code",
   "execution_count": 9,
   "metadata": {},
   "outputs": [],
   "source": [
    "del x, y"
   ]
  },
  {
   "cell_type": "markdown",
   "metadata": {
    "tags": []
   },
   "source": [
    "### Python Libraries"
   ]
  },
  {
   "cell_type": "markdown",
   "metadata": {},
   "source": [
    "Standard Python imports"
   ]
  },
  {
   "cell_type": "code",
   "execution_count": 10,
   "metadata": {},
   "outputs": [],
   "source": [
    "import os, sys, time, glob"
   ]
  },
  {
   "cell_type": "markdown",
   "metadata": {},
   "source": [
    "It is a good idea to record the starting working directory before it gets changed around.  Note that this can be problematic depending on how you open the notebook, but it works most of the time."
   ]
  },
  {
   "cell_type": "code",
   "execution_count": 11,
   "metadata": {},
   "outputs": [
    {
     "data": {
      "text/plain": [
       "'c:\\\\Users\\\\brianedw\\\\Desktop\\\\Jupyter Template'"
      ]
     },
     "execution_count": 11,
     "metadata": {},
     "output_type": "execute_result"
    }
   ],
   "source": [
    "baseDir = os.getcwd()\n",
    "baseDir"
   ]
  },
  {
   "cell_type": "markdown",
   "metadata": {},
   "source": [
    "It is also nice to know if what is running is a notebook, or a python script generated from the notebook."
   ]
  },
  {
   "cell_type": "code",
   "execution_count": 12,
   "metadata": {},
   "outputs": [
    {
     "name": "stdout",
     "output_type": "stream",
     "text": [
      "This is the main file\n"
     ]
    }
   ],
   "source": [
    "mainQ = (__name__ == '__main__')\n",
    "if mainQ:\n",
    "    print(\"This is the main file\")"
   ]
  },
  {
   "cell_type": "markdown",
   "metadata": {},
   "source": [
    "JupyterLab doesn't support navigation to other drives.  This is a handy trick to make folders in other drives \"appear\" as if they're local.  It even works on network shares.  \n",
    "\n",
    "PowerShell Command to Map network drives:\n",
    "```powershell\n",
    "New-Item -ItemType SymbolicLink -Path \"c:\\users\\brianedw\\group_share\" -Target \"\\\\158.130.53.35\\_Group Share\"\n",
    "```\n"
   ]
  },
  {
   "cell_type": "markdown",
   "metadata": {
    "tags": []
   },
   "source": [
    "### Notebook Interactivity"
   ]
  },
  {
   "cell_type": "markdown",
   "metadata": {},
   "source": [
    "Adds a nice progress bar for visualizing a loop iterator.  See snippets."
   ]
  },
  {
   "cell_type": "code",
   "execution_count": 13,
   "metadata": {},
   "outputs": [],
   "source": [
    "from tqdm import tqdm"
   ]
  },
  {
   "cell_type": "markdown",
   "metadata": {},
   "source": [
    "Useful for monitoring a calculation's progress."
   ]
  },
  {
   "cell_type": "code",
   "execution_count": 14,
   "metadata": {},
   "outputs": [],
   "source": [
    "from IPython.display import clear_output"
   ]
  },
  {
   "cell_type": "code",
   "execution_count": 15,
   "metadata": {},
   "outputs": [
    {
     "name": "stdout",
     "output_type": "stream",
     "text": [
      "4\n"
     ]
    }
   ],
   "source": [
    "for i in range(5):\n",
    "    print(i)\n",
    "    time.sleep(0.1)\n",
    "    clear_output(wait=True)\n",
    "del(i)"
   ]
  },
  {
   "cell_type": "markdown",
   "metadata": {},
   "source": [
    "A nice sound to play when long calculations are completed."
   ]
  },
  {
   "cell_type": "code",
   "execution_count": 16,
   "metadata": {},
   "outputs": [],
   "source": [
    "import winsound\n",
    "\n",
    "def soundDone():\n",
    "    soundfile = \"C:/Windows/Media/ring01.wav\"\n",
    "    winsound.PlaySound(soundfile, winsound.SND_FILENAME | winsound.SND_ASYNC)"
   ]
  },
  {
   "cell_type": "markdown",
   "metadata": {
    "tags": []
   },
   "source": [
    "### Functional Programming"
   ]
  },
  {
   "cell_type": "markdown",
   "metadata": {},
   "source": [
    "It is very common in data analysis to run data through a series of transformations, often called a \"pipe\".  The advantage of this is the arguments are contained with the functions and it is more readable (once you get used to it!).  For instance, in `Mathematica`, \n",
    "\n",
    "`H(#, 4)& @ G(#,3)& @ F(#,2)& @ 1  =>  H(G(F(1,2),3),4).`\n",
    "\n",
    "In the former, it is clear that `3` belongs to `G`.  In the latter, you need to count parenthesis.  This typically makes use of \"lambda functions\" or \"pure functions\".  As a primarily Object Oriented Programming (OOP) language, Python doesn't natively support much of this Functional paradigm.  However, it does treat functions as objects which can be manipulated.  Given the utility of Functional Programming, there are several packages that attempt to bring it into the language, each with varying success."
   ]
  },
  {
   "cell_type": "code",
   "execution_count": 17,
   "metadata": {},
   "outputs": [],
   "source": [
    "# from pipetools import where, X, pipe\n",
    "# 10 > (pipe | range | where(X % 2) | sum)"
   ]
  },
  {
   "cell_type": "code",
   "execution_count": 18,
   "metadata": {},
   "outputs": [],
   "source": [
    "# from pipey import Pipeable\n",
    "\n",
    "# Print = Pipeable(print)\n",
    "# @Pipeable\n",
    "# def add(a,b): return a + b\n",
    "# @Pipeable\n",
    "# def sqr(b): return b*b\n",
    "\n",
    "# np.array([3, 4]) >> sqr >> add(1000)"
   ]
  },
  {
   "cell_type": "markdown",
   "metadata": {},
   "source": [
    "The `toolz` library has a lot of great functions for performing common operations on iterables, functions, and dictionaries."
   ]
  },
  {
   "cell_type": "code",
   "execution_count": 19,
   "metadata": {},
   "outputs": [],
   "source": [
    "# from toolz.itertoolz import ()\n",
    "from toolz.functoolz import (curry, pipe, thread_first)\n",
    "# from toolz.dicttoolz import ()"
   ]
  },
  {
   "cell_type": "code",
   "execution_count": 20,
   "metadata": {},
   "outputs": [
    {
     "data": {
      "text/plain": [
       "25"
      ]
     },
     "execution_count": 20,
     "metadata": {},
     "output_type": "execute_result"
    }
   ],
   "source": [
    "@curry\n",
    "def add(x, y): return x + y\n",
    "@curry\n",
    "def pow(x, y): return x**y\n",
    "thread_first(1, add(y=4), pow(y=2))  # pow(add(1, 4), 2)"
   ]
  },
  {
   "cell_type": "code",
   "execution_count": 21,
   "metadata": {},
   "outputs": [],
   "source": [
    "from mini_lambda import InputVar, as_function\n",
    "_ = as_function\n",
    "X = InputVar('X')"
   ]
  },
  {
   "cell_type": "code",
   "execution_count": 22,
   "metadata": {},
   "outputs": [
    {
     "data": {
      "text/plain": [
       "13"
      ]
     },
     "execution_count": 22,
     "metadata": {},
     "output_type": "execute_result"
    }
   ],
   "source": [
    "_(X+3)(10)"
   ]
  },
  {
   "cell_type": "code",
   "execution_count": 23,
   "metadata": {},
   "outputs": [
    {
     "data": {
      "text/plain": [
       "32"
      ]
     },
     "execution_count": 23,
     "metadata": {},
     "output_type": "execute_result"
    }
   ],
   "source": [
    "thread_first(1, add(y=4), _(pow(x=2, y=X)))  # pow(2, add(1, 4))"
   ]
  },
  {
   "cell_type": "code",
   "execution_count": 24,
   "metadata": {},
   "outputs": [
    {
     "data": {
      "text/plain": [
       "32"
      ]
     },
     "execution_count": 24,
     "metadata": {},
     "output_type": "execute_result"
    }
   ],
   "source": [
    "thread_first(1, _(X+4), _(2**X))  # pow(add(1, 4), 2)"
   ]
  },
  {
   "cell_type": "code",
   "execution_count": 25,
   "metadata": {},
   "outputs": [],
   "source": [
    "del(add, pow, X, _)"
   ]
  },
  {
   "cell_type": "markdown",
   "metadata": {
    "tags": []
   },
   "source": [
    "### Scientific Programming"
   ]
  },
  {
   "cell_type": "code",
   "execution_count": 26,
   "metadata": {},
   "outputs": [],
   "source": [
    "from math import sin, cos, radians, degrees, tan, sinh, cosh, tanh, exp, pi, tau"
   ]
  },
  {
   "cell_type": "code",
   "execution_count": 27,
   "metadata": {},
   "outputs": [],
   "source": [
    "deg = radians(1)    # so that we can refer to 90*deg\n",
    "I = 1j              # potentially neater imaginary nomenclature."
   ]
  },
  {
   "cell_type": "code",
   "execution_count": 129,
   "metadata": {},
   "outputs": [],
   "source": [
    "import numpy as np  # Does high performance dense array operations\n",
    "np.set_printoptions(edgeitems=30, linewidth=100000,\n",
    "                    formatter=dict(float=lambda x: \"%.3g\" % x))\n",
    "import scipy as sp\n",
    "import pandas as pd\n",
    "import PIL "
   ]
  },
  {
   "cell_type": "code",
   "execution_count": 29,
   "metadata": {},
   "outputs": [],
   "source": [
    "import skimage"
   ]
  },
  {
   "cell_type": "code",
   "execution_count": 30,
   "metadata": {},
   "outputs": [],
   "source": [
    "# Python function compilization.  Makes things very fast.  Function must only include Numpy and basic Python.  No custom classes.\n",
    "import numba\n",
    "from numba import njit"
   ]
  },
  {
   "cell_type": "code",
   "execution_count": 31,
   "metadata": {},
   "outputs": [],
   "source": [
    "import sympy as sp\n",
    "# sp.init_printing(pretty_print=True)\n",
    "# sp.init_printing(pretty_print=False)"
   ]
  },
  {
   "cell_type": "code",
   "execution_count": 32,
   "metadata": {},
   "outputs": [],
   "source": [
    "import pint"
   ]
  },
  {
   "cell_type": "markdown",
   "metadata": {
    "tags": []
   },
   "source": [
    "### Plotting"
   ]
  },
  {
   "cell_type": "code",
   "execution_count": 33,
   "metadata": {},
   "outputs": [
    {
     "data": {
      "text/html": [
       "\n",
       "    <div class=\"bk-root\">\n",
       "        <a href=\"https://bokeh.org\" target=\"_blank\" class=\"bk-logo bk-logo-small bk-logo-notebook\"></a>\n",
       "        <span id=\"1076\">Loading BokehJS ...</span>\n",
       "    </div>"
      ]
     },
     "metadata": {},
     "output_type": "display_data"
    },
    {
     "data": {
      "application/javascript": "\n(function(root) {\n  function now() {\n    return new Date();\n  }\n\n  var force = true;\n\n  if (typeof root._bokeh_onload_callbacks === \"undefined\" || force === true) {\n    root._bokeh_onload_callbacks = [];\n    root._bokeh_is_loading = undefined;\n  }\n\n  var JS_MIME_TYPE = 'application/javascript';\n  var HTML_MIME_TYPE = 'text/html';\n  var EXEC_MIME_TYPE = 'application/vnd.bokehjs_exec.v0+json';\n  var CLASS_NAME = 'output_bokeh rendered_html';\n\n  /**\n   * Render data to the DOM node\n   */\n  function render(props, node) {\n    var script = document.createElement(\"script\");\n    node.appendChild(script);\n  }\n\n  /**\n   * Handle when an output is cleared or removed\n   */\n  function handleClearOutput(event, handle) {\n    var cell = handle.cell;\n\n    var id = cell.output_area._bokeh_element_id;\n    var server_id = cell.output_area._bokeh_server_id;\n    // Clean up Bokeh references\n    if (id != null && id in Bokeh.index) {\n      Bokeh.index[id].model.document.clear();\n      delete Bokeh.index[id];\n    }\n\n    if (server_id !== undefined) {\n      // Clean up Bokeh references\n      var cmd = \"from bokeh.io.state import curstate; print(curstate().uuid_to_server['\" + server_id + \"'].get_sessions()[0].document.roots[0]._id)\";\n      cell.notebook.kernel.execute(cmd, {\n        iopub: {\n          output: function(msg) {\n            var id = msg.content.text.trim();\n            if (id in Bokeh.index) {\n              Bokeh.index[id].model.document.clear();\n              delete Bokeh.index[id];\n            }\n          }\n        }\n      });\n      // Destroy server and session\n      var cmd = \"import bokeh.io.notebook as ion; ion.destroy_server('\" + server_id + \"')\";\n      cell.notebook.kernel.execute(cmd);\n    }\n  }\n\n  /**\n   * Handle when a new output is added\n   */\n  function handleAddOutput(event, handle) {\n    var output_area = handle.output_area;\n    var output = handle.output;\n\n    // limit handleAddOutput to display_data with EXEC_MIME_TYPE content only\n    if ((output.output_type != \"display_data\") || (!Object.prototype.hasOwnProperty.call(output.data, EXEC_MIME_TYPE))) {\n      return\n    }\n\n    var toinsert = output_area.element.find(\".\" + CLASS_NAME.split(' ')[0]);\n\n    if (output.metadata[EXEC_MIME_TYPE][\"id\"] !== undefined) {\n      toinsert[toinsert.length - 1].firstChild.textContent = output.data[JS_MIME_TYPE];\n      // store reference to embed id on output_area\n      output_area._bokeh_element_id = output.metadata[EXEC_MIME_TYPE][\"id\"];\n    }\n    if (output.metadata[EXEC_MIME_TYPE][\"server_id\"] !== undefined) {\n      var bk_div = document.createElement(\"div\");\n      bk_div.innerHTML = output.data[HTML_MIME_TYPE];\n      var script_attrs = bk_div.children[0].attributes;\n      for (var i = 0; i < script_attrs.length; i++) {\n        toinsert[toinsert.length - 1].firstChild.setAttribute(script_attrs[i].name, script_attrs[i].value);\n        toinsert[toinsert.length - 1].firstChild.textContent = bk_div.children[0].textContent\n      }\n      // store reference to server id on output_area\n      output_area._bokeh_server_id = output.metadata[EXEC_MIME_TYPE][\"server_id\"];\n    }\n  }\n\n  function register_renderer(events, OutputArea) {\n\n    function append_mime(data, metadata, element) {\n      // create a DOM node to render to\n      var toinsert = this.create_output_subarea(\n        metadata,\n        CLASS_NAME,\n        EXEC_MIME_TYPE\n      );\n      this.keyboard_manager.register_events(toinsert);\n      // Render to node\n      var props = {data: data, metadata: metadata[EXEC_MIME_TYPE]};\n      render(props, toinsert[toinsert.length - 1]);\n      element.append(toinsert);\n      return toinsert\n    }\n\n    /* Handle when an output is cleared or removed */\n    events.on('clear_output.CodeCell', handleClearOutput);\n    events.on('delete.Cell', handleClearOutput);\n\n    /* Handle when a new output is added */\n    events.on('output_added.OutputArea', handleAddOutput);\n\n    /**\n     * Register the mime type and append_mime function with output_area\n     */\n    OutputArea.prototype.register_mime_type(EXEC_MIME_TYPE, append_mime, {\n      /* Is output safe? */\n      safe: true,\n      /* Index of renderer in `output_area.display_order` */\n      index: 0\n    });\n  }\n\n  // register the mime type if in Jupyter Notebook environment and previously unregistered\n  if (root.Jupyter !== undefined) {\n    var events = require('base/js/events');\n    var OutputArea = require('notebook/js/outputarea').OutputArea;\n\n    if (OutputArea.prototype.mime_types().indexOf(EXEC_MIME_TYPE) == -1) {\n      register_renderer(events, OutputArea);\n    }\n  }\n\n  \n  if (typeof (root._bokeh_timeout) === \"undefined\" || force === true) {\n    root._bokeh_timeout = Date.now() + 5000;\n    root._bokeh_failed_load = false;\n  }\n\n  var NB_LOAD_WARNING = {'data': {'text/html':\n     \"<div style='background-color: #fdd'>\\n\"+\n     \"<p>\\n\"+\n     \"BokehJS does not appear to have successfully loaded. If loading BokehJS from CDN, this \\n\"+\n     \"may be due to a slow or bad network connection. Possible fixes:\\n\"+\n     \"</p>\\n\"+\n     \"<ul>\\n\"+\n     \"<li>re-rerun `output_notebook()` to attempt to load from CDN again, or</li>\\n\"+\n     \"<li>use INLINE resources instead, as so:</li>\\n\"+\n     \"</ul>\\n\"+\n     \"<code>\\n\"+\n     \"from bokeh.resources import INLINE\\n\"+\n     \"output_notebook(resources=INLINE)\\n\"+\n     \"</code>\\n\"+\n     \"</div>\"}};\n\n  function display_loaded() {\n    var el = document.getElementById(\"1076\");\n    if (el != null) {\n      el.textContent = \"BokehJS is loading...\";\n    }\n    if (root.Bokeh !== undefined) {\n      if (el != null) {\n        el.textContent = \"BokehJS \" + root.Bokeh.version + \" successfully loaded.\";\n      }\n    } else if (Date.now() < root._bokeh_timeout) {\n      setTimeout(display_loaded, 100)\n    }\n  }\n\n\n  function run_callbacks() {\n    try {\n      root._bokeh_onload_callbacks.forEach(function(callback) {\n        if (callback != null)\n          callback();\n      });\n    } finally {\n      delete root._bokeh_onload_callbacks\n    }\n    console.debug(\"Bokeh: all callbacks have finished\");\n  }\n\n  function load_libs(css_urls, js_urls, callback) {\n    if (css_urls == null) css_urls = [];\n    if (js_urls == null) js_urls = [];\n\n    root._bokeh_onload_callbacks.push(callback);\n    if (root._bokeh_is_loading > 0) {\n      console.debug(\"Bokeh: BokehJS is being loaded, scheduling callback at\", now());\n      return null;\n    }\n    if (js_urls == null || js_urls.length === 0) {\n      run_callbacks();\n      return null;\n    }\n    console.debug(\"Bokeh: BokehJS not loaded, scheduling load and callback at\", now());\n    root._bokeh_is_loading = css_urls.length + js_urls.length;\n\n    function on_load() {\n      root._bokeh_is_loading--;\n      if (root._bokeh_is_loading === 0) {\n        console.debug(\"Bokeh: all BokehJS libraries/stylesheets loaded\");\n        run_callbacks()\n      }\n    }\n\n    function on_error(url) {\n      console.error(\"failed to load \" + url);\n    }\n\n    for (let i = 0; i < css_urls.length; i++) {\n      const url = css_urls[i];\n      const element = document.createElement(\"link\");\n      element.onload = on_load;\n      element.onerror = on_error.bind(null, url);\n      element.rel = \"stylesheet\";\n      element.type = \"text/css\";\n      element.href = url;\n      console.debug(\"Bokeh: injecting link tag for BokehJS stylesheet: \", url);\n      document.body.appendChild(element);\n    }\n\n    const hashes = {\"https://cdn.bokeh.org/bokeh/release/bokeh-2.3.1.min.js\": \"YF85VygJKMVnHE+lLv2AM93Vbstr0yo2TbIu5v8se5Rq3UQAUmcuh4aaJwNlpKwa\", \"https://cdn.bokeh.org/bokeh/release/bokeh-widgets-2.3.1.min.js\": \"KKuas3gevv3PvrlkyCMzffFeaMq5we/a2QsP5AUoS3mJ0jmaCL7jirFJN3GoE/lM\", \"https://cdn.bokeh.org/bokeh/release/bokeh-tables-2.3.1.min.js\": \"MK/uFc3YT18pkvvXRl66tTHjP0/dxoSH2e/eiNMFIguKlun2+WVqaPTWmUy/zvh4\"};\n\n    for (let i = 0; i < js_urls.length; i++) {\n      const url = js_urls[i];\n      const element = document.createElement('script');\n      element.onload = on_load;\n      element.onerror = on_error.bind(null, url);\n      element.async = false;\n      element.src = url;\n      if (url in hashes) {\n        element.crossOrigin = \"anonymous\";\n        element.integrity = \"sha384-\" + hashes[url];\n      }\n      console.debug(\"Bokeh: injecting script tag for BokehJS library: \", url);\n      document.head.appendChild(element);\n    }\n  };\n\n  function inject_raw_css(css) {\n    const element = document.createElement(\"style\");\n    element.appendChild(document.createTextNode(css));\n    document.body.appendChild(element);\n  }\n\n  \n  var js_urls = [\"https://cdn.bokeh.org/bokeh/release/bokeh-2.3.1.min.js\", \"https://cdn.bokeh.org/bokeh/release/bokeh-widgets-2.3.1.min.js\", \"https://cdn.bokeh.org/bokeh/release/bokeh-tables-2.3.1.min.js\"];\n  var css_urls = [];\n  \n\n  var inline_js = [\n    function(Bokeh) {\n      Bokeh.set_log_level(\"info\");\n    },\n    function(Bokeh) {\n    \n    \n    }\n  ];\n\n  function run_inline_js() {\n    \n    if (root.Bokeh !== undefined || force === true) {\n      \n    for (var i = 0; i < inline_js.length; i++) {\n      inline_js[i].call(root, root.Bokeh);\n    }\n    if (force === true) {\n        display_loaded();\n      }} else if (Date.now() < root._bokeh_timeout) {\n      setTimeout(run_inline_js, 100);\n    } else if (!root._bokeh_failed_load) {\n      console.log(\"Bokeh: BokehJS failed to load within specified timeout.\");\n      root._bokeh_failed_load = true;\n    } else if (force !== true) {\n      var cell = $(document.getElementById(\"1076\")).parents('.cell').data().cell;\n      cell.output_area.append_execute_result(NB_LOAD_WARNING)\n    }\n\n  }\n\n  if (root._bokeh_is_loading === 0) {\n    console.debug(\"Bokeh: BokehJS loaded, going straight to plotting\");\n    run_inline_js();\n  } else {\n    load_libs(css_urls, js_urls, function() {\n      console.debug(\"Bokeh: BokehJS plotting callback run at\", now());\n      run_inline_js();\n    });\n  }\n}(window));",
      "application/vnd.bokehjs_load.v0+json": ""
     },
     "metadata": {},
     "output_type": "display_data"
    }
   ],
   "source": [
    "import bokeh\n",
    "from bokeh.io import output_notebook\n",
    "from bokeh.plotting import figure, show\n",
    "output_notebook()\n",
    "bokeh.io.curdoc().theme = 'dark_minimal'"
   ]
  },
  {
   "cell_type": "markdown",
   "metadata": {
    "heading_collapsed": "true",
    "tags": []
   },
   "source": [
    "## Custom Imports"
   ]
  },
  {
   "cell_type": "code",
   "execution_count": 34,
   "metadata": {},
   "outputs": [],
   "source": [
    "from UtilityMath import (plotComplexArray, \n",
    "                         RandomComplexCircularMatrix, RandomComplexGaussianMatrix,\n",
    "                         PolarPlot,\n",
    "                         RescaleToUnitary,\n",
    "                         ReIm,\n",
    "                         MatrixSqError, MatrixError, MatrixErrorNormalized)\n",
    "from Logger import Logger"
   ]
  },
  {
   "cell_type": "markdown",
   "metadata": {
    "tags": [],
    "toc-hr-collapsed": true
   },
   "source": [
    "## Code Snippets"
   ]
  },
  {
   "cell_type": "markdown",
   "metadata": {
    "heading_collapsed": "true",
    "tags": []
   },
   "source": [
    "### Cell Updating"
   ]
  },
  {
   "cell_type": "code",
   "execution_count": 35,
   "metadata": {},
   "outputs": [],
   "source": [
    "if mainQ and False:\n",
    "    for f in range(10):\n",
    "        clear_output(wait=True)\n",
    "        print(f)\n",
    "        time.sleep(0.5)"
   ]
  },
  {
   "cell_type": "code",
   "execution_count": 36,
   "metadata": {},
   "outputs": [],
   "source": [
    "if mainQ and False:\n",
    "    for i in tqdm(range(100000000)):\n",
    "        pass"
   ]
  },
  {
   "cell_type": "markdown",
   "metadata": {
    "heading_collapsed": "true",
    "tags": []
   },
   "source": [
    "### Bokeh Simple Line Plot"
   ]
  },
  {
   "cell_type": "code",
   "execution_count": 37,
   "metadata": {},
   "outputs": [],
   "source": [
    "ts = np.linspace(0, 4, num=300)"
   ]
  },
  {
   "cell_type": "code",
   "execution_count": 38,
   "metadata": {},
   "outputs": [],
   "source": [
    "xs = 5.0 * ts"
   ]
  },
  {
   "cell_type": "code",
   "execution_count": 39,
   "metadata": {},
   "outputs": [],
   "source": [
    "ys = -9.8*ts**2 + 50*ts + 0"
   ]
  },
  {
   "cell_type": "code",
   "execution_count": 40,
   "metadata": {},
   "outputs": [
    {
     "data": {
      "text/html": [
       "\n",
       "\n",
       "\n",
       "\n",
       "\n",
       "\n",
       "  <div class=\"bk-root\" id=\"48fe6373-f779-4b70-b585-28b63ad8a332\" data-root-id=\"1077\"></div>\n"
      ]
     },
     "metadata": {},
     "output_type": "display_data"
    },
    {
     "data": {
      "application/javascript": "(function(root) {\n  function embed_document(root) {\n    \n  var docs_json = {\"fe80973f-c026-45f2-9321-8a540d642bd6\":{\"defs\":[],\"roots\":{\"references\":[{\"attributes\":{\"background_fill_color\":\"#20262B\",\"below\":[{\"id\":\"1088\"}],\"border_fill_color\":\"#15191C\",\"center\":[{\"id\":\"1091\"},{\"id\":\"1095\"}],\"height\":400,\"left\":[{\"id\":\"1092\"}],\"outline_line_alpha\":0.25,\"outline_line_color\":\"#E0E0E0\",\"renderers\":[{\"id\":\"1113\"}],\"title\":{\"id\":\"1078\"},\"toolbar\":{\"id\":\"1103\"},\"width\":800,\"x_range\":{\"id\":\"1080\"},\"x_scale\":{\"id\":\"1084\"},\"y_range\":{\"id\":\"1082\"},\"y_scale\":{\"id\":\"1086\"}},\"id\":\"1077\",\"subtype\":\"Figure\",\"type\":\"Plot\"},{\"attributes\":{},\"id\":\"1116\",\"type\":\"BasicTickFormatter\"},{\"attributes\":{},\"id\":\"1117\",\"type\":\"AllLabels\"},{\"attributes\":{\"data\":{\"x\":{\"__ndarray__\":\"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\",\"dtype\":\"float64\",\"order\":\"little\",\"shape\":[300]},\"y\":{\"__ndarray__\":\"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\",\"dtype\":\"float64\",\"order\":\"little\",\"shape\":[300]}},\"selected\":{\"id\":\"1123\"},\"selection_policy\":{\"id\":\"1124\"}},\"id\":\"1110\",\"type\":\"ColumnDataSource\"},{\"attributes\":{\"line_alpha\":0.1,\"line_color\":\"#1f77b4\",\"x\":{\"field\":\"x\"},\"y\":{\"field\":\"y\"}},\"id\":\"1112\",\"type\":\"Line\"},{\"attributes\":{\"bottom_units\":\"screen\",\"fill_alpha\":0.5,\"fill_color\":\"lightgrey\",\"left_units\":\"screen\",\"level\":\"overlay\",\"line_alpha\":1.0,\"line_color\":\"black\",\"line_dash\":[4,4],\"line_width\":2,\"right_units\":\"screen\",\"syncable\":false,\"top_units\":\"screen\"},\"id\":\"1102\",\"type\":\"BoxAnnotation\"},{\"attributes\":{\"overlay\":{\"id\":\"1102\"}},\"id\":\"1098\",\"type\":\"BoxZoomTool\"},{\"attributes\":{\"active_multi\":null,\"tools\":[{\"id\":\"1096\"},{\"id\":\"1097\"},{\"id\":\"1098\"},{\"id\":\"1099\"},{\"id\":\"1100\"},{\"id\":\"1101\"}]},\"id\":\"1103\",\"type\":\"Toolbar\"},{\"attributes\":{},\"id\":\"1096\",\"type\":\"PanTool\"},{\"attributes\":{},\"id\":\"1097\",\"type\":\"WheelZoomTool\"},{\"attributes\":{},\"id\":\"1119\",\"type\":\"BasicTickFormatter\"},{\"attributes\":{},\"id\":\"1120\",\"type\":\"AllLabels\"},{\"attributes\":{},\"id\":\"1093\",\"type\":\"BasicTicker\"},{\"attributes\":{},\"id\":\"1101\",\"type\":\"HelpTool\"},{\"attributes\":{\"source\":{\"id\":\"1110\"}},\"id\":\"1114\",\"type\":\"CDSView\"},{\"attributes\":{\"axis\":{\"id\":\"1092\"},\"dimension\":1,\"grid_line_alpha\":0.25,\"grid_line_color\":\"#E0E0E0\",\"ticker\":null},\"id\":\"1095\",\"type\":\"Grid\"},{\"attributes\":{\"axis\":{\"id\":\"1088\"},\"grid_line_alpha\":0.25,\"grid_line_color\":\"#E0E0E0\",\"ticker\":null},\"id\":\"1091\",\"type\":\"Grid\"},{\"attributes\":{},\"id\":\"1100\",\"type\":\"ResetTool\"},{\"attributes\":{},\"id\":\"1099\",\"type\":\"SaveTool\"},{\"attributes\":{\"axis_label\":\"y (m)\",\"axis_label_standoff\":10,\"axis_label_text_color\":\"#E0E0E0\",\"axis_label_text_font\":\"Helvetica\",\"axis_label_text_font_size\":\"1.25em\",\"axis_label_text_font_style\":\"normal\",\"axis_line_alpha\":0,\"axis_line_color\":\"#E0E0E0\",\"formatter\":{\"id\":\"1116\"},\"major_label_policy\":{\"id\":\"1117\"},\"major_label_text_color\":\"#E0E0E0\",\"major_label_text_font\":\"Helvetica\",\"major_label_text_font_size\":\"1.025em\",\"major_tick_line_alpha\":0,\"major_tick_line_color\":\"#E0E0E0\",\"minor_tick_line_alpha\":0,\"minor_tick_line_color\":\"#E0E0E0\",\"ticker\":{\"id\":\"1093\"}},\"id\":\"1092\",\"type\":\"LinearAxis\"},{\"attributes\":{\"line_color\":\"#1f77b4\",\"x\":{\"field\":\"x\"},\"y\":{\"field\":\"y\"}},\"id\":\"1111\",\"type\":\"Line\"},{\"attributes\":{\"axis_label\":\"x (m)\",\"axis_label_standoff\":10,\"axis_label_text_color\":\"#E0E0E0\",\"axis_label_text_font\":\"Helvetica\",\"axis_label_text_font_size\":\"1.25em\",\"axis_label_text_font_style\":\"normal\",\"axis_line_alpha\":0,\"axis_line_color\":\"#E0E0E0\",\"formatter\":{\"id\":\"1119\"},\"major_label_policy\":{\"id\":\"1120\"},\"major_label_text_color\":\"#E0E0E0\",\"major_label_text_font\":\"Helvetica\",\"major_label_text_font_size\":\"1.025em\",\"major_tick_line_alpha\":0,\"major_tick_line_color\":\"#E0E0E0\",\"minor_tick_line_alpha\":0,\"minor_tick_line_color\":\"#E0E0E0\",\"ticker\":{\"id\":\"1089\"}},\"id\":\"1088\",\"type\":\"LinearAxis\"},{\"attributes\":{},\"id\":\"1084\",\"type\":\"LinearScale\"},{\"attributes\":{\"data_source\":{\"id\":\"1110\"},\"glyph\":{\"id\":\"1111\"},\"hover_glyph\":null,\"muted_glyph\":null,\"nonselection_glyph\":{\"id\":\"1112\"},\"view\":{\"id\":\"1114\"}},\"id\":\"1113\",\"type\":\"GlyphRenderer\"},{\"attributes\":{},\"id\":\"1086\",\"type\":\"LinearScale\"},{\"attributes\":{\"end\":63.77534032057806},\"id\":\"1082\",\"type\":\"Range1d\"},{\"attributes\":{},\"id\":\"1089\",\"type\":\"BasicTicker\"},{\"attributes\":{},\"id\":\"1123\",\"type\":\"Selection\"},{\"attributes\":{\"end\":20.0},\"id\":\"1080\",\"type\":\"Range1d\"},{\"attributes\":{},\"id\":\"1124\",\"type\":\"UnionRenderers\"},{\"attributes\":{\"text\":\"Trajectory\",\"text_color\":\"#E0E0E0\",\"text_font\":\"Helvetica\",\"text_font_size\":\"1.15em\"},\"id\":\"1078\",\"type\":\"Title\"}],\"root_ids\":[\"1077\"]},\"title\":\"Bokeh Application\",\"version\":\"2.3.1\"}};\n  var render_items = [{\"docid\":\"fe80973f-c026-45f2-9321-8a540d642bd6\",\"root_ids\":[\"1077\"],\"roots\":{\"1077\":\"48fe6373-f779-4b70-b585-28b63ad8a332\"}}];\n  root.Bokeh.embed.embed_items_notebook(docs_json, render_items);\n\n  }\n  if (root.Bokeh !== undefined) {\n    embed_document(root);\n  } else {\n    var attempts = 0;\n    var timer = setInterval(function(root) {\n      if (root.Bokeh !== undefined) {\n        clearInterval(timer);\n        embed_document(root);\n      } else {\n        attempts++;\n        if (attempts > 100) {\n          clearInterval(timer);\n          console.log(\"Bokeh: ERROR: Unable to run BokehJS code because BokehJS library is missing\");\n        }\n      }\n    }, 10, root)\n  }\n})(window);",
      "application/vnd.bokehjs_exec.v0+json": ""
     },
     "metadata": {
      "application/vnd.bokehjs_exec.v0+json": {
       "id": "1077"
      }
     },
     "output_type": "display_data"
    }
   ],
   "source": [
    "fig = figure(x_range=(min(xs), max(xs)), y_range=(min(ys), max(ys)), \n",
    "             plot_width=800, plot_height=400,\n",
    "             title='Trajectory')\n",
    "fig.xaxis.axis_label = \"x (m)\"\n",
    "fig.yaxis.axis_label = \"y (m)\"\n",
    "fig.line(x=xs, y=ys)\n",
    "if mainQ: show(fig)"
   ]
  },
  {
   "cell_type": "code",
   "execution_count": 41,
   "metadata": {},
   "outputs": [
    {
     "ename": "NameError",
     "evalue": "name 'x' is not defined",
     "output_type": "error",
     "traceback": [
      "\u001b[1;31m---------------------------------------------------------------------------\u001b[0m",
      "\u001b[1;31mNameError\u001b[0m                                 Traceback (most recent call last)",
      "\u001b[1;32m<ipython-input-41-fd2f1fe83491>\u001b[0m in \u001b[0;36m<module>\u001b[1;34m\u001b[0m\n\u001b[1;32m----> 1\u001b[1;33m \u001b[1;32mdel\u001b[0m \u001b[0mts\u001b[0m\u001b[1;33m,\u001b[0m \u001b[0mxs\u001b[0m\u001b[1;33m,\u001b[0m \u001b[0mys\u001b[0m\u001b[1;33m,\u001b[0m \u001b[0mfig\u001b[0m\u001b[1;33m,\u001b[0m \u001b[0mx\u001b[0m\u001b[1;33m\u001b[0m\u001b[1;33m\u001b[0m\u001b[0m\n\u001b[0m",
      "\u001b[1;31mNameError\u001b[0m: name 'x' is not defined"
     ]
    }
   ],
   "source": [
    "del ts, xs, ys, fig"
   ]
  },
  {
   "cell_type": "markdown",
   "metadata": {},
   "source": [
    "### Units with Pint"
   ]
  },
  {
   "cell_type": "code",
   "execution_count": 42,
   "metadata": {},
   "outputs": [],
   "source": [
    "from pint import UnitRegistry\n",
    "ureg = UnitRegistry()"
   ]
  },
  {
   "cell_type": "code",
   "execution_count": 43,
   "metadata": {},
   "outputs": [
    {
     "data": {
      "text/html": [
       "4447.0 micrometer"
      ],
      "text/latex": [
       "$4447.0\\ \\mathrm{micrometer}$"
      ],
      "text/plain": [
       "4447.0 <Unit('micrometer')>"
      ]
     },
     "execution_count": 43,
     "metadata": {},
     "output_type": "execute_result"
    }
   ],
   "source": [
    "d1 = 140.*ureg('thou')\n",
    "d2 = 0.891*ureg('mm')\n",
    "dTot = d1 + d2\n",
    "dTot.to('um')"
   ]
  },
  {
   "cell_type": "code",
   "execution_count": 44,
   "metadata": {},
   "outputs": [],
   "source": [
    "del(d1, d2, dTot)"
   ]
  },
  {
   "cell_type": "markdown",
   "metadata": {},
   "source": [
    "### Error Propagation with `pint`"
   ]
  },
  {
   "cell_type": "code",
   "execution_count": 45,
   "metadata": {},
   "outputs": [
    {
     "name": "stdout",
     "output_type": "stream",
     "text": [
      "(130 +/- 6) ohm\n",
      "(150 +/- 8) ohm\n",
      "(4.64 +/- 0.18) volt\n"
     ]
    }
   ],
   "source": [
    "R1 = (130*ureg('ohm')).plus_minus(0.05, relative=True)\n",
    "print(R1)\n",
    "R2 = (150*ureg('ohm')).plus_minus(0.05, relative=True)\n",
    "print(R2)\n",
    "VIn = (10*ureg('V')).plus_minus(0.005)\n",
    "print(VIn*R1/(R1+R2))"
   ]
  },
  {
   "cell_type": "code",
   "execution_count": 46,
   "metadata": {},
   "outputs": [],
   "source": [
    "del(R1, R2, VIn)"
   ]
  },
  {
   "cell_type": "markdown",
   "metadata": {},
   "source": [
    "### Statistical Error Propagation with `uncertainties`"
   ]
  },
  {
   "cell_type": "code",
   "execution_count": 47,
   "metadata": {},
   "outputs": [],
   "source": [
    "from uncertainties import ufloat"
   ]
  },
  {
   "cell_type": "code",
   "execution_count": 48,
   "metadata": {},
   "outputs": [
    {
     "name": "stdout",
     "output_type": "stream",
     "text": [
      "1.00+/-0.10 1.00+/-0.10 2.00+/-0.14\n"
     ]
    }
   ],
   "source": [
    "x1 = ufloat(1, 0.1)\n",
    "x2 = ufloat(1, 0.1)\n",
    "print(x1, x2, x1 + x2)"
   ]
  },
  {
   "cell_type": "markdown",
   "metadata": {},
   "source": [
    "### Interval Error Propagation with `mpMath`"
   ]
  },
  {
   "cell_type": "code",
   "execution_count": 65,
   "metadata": {},
   "outputs": [],
   "source": [
    "from mpmath import iv"
   ]
  },
  {
   "cell_type": "code",
   "execution_count": 66,
   "metadata": {},
   "outputs": [
    {
     "name": "stdout",
     "output_type": "stream",
     "text": [
      "[-0.10000000000000000555, 0.10000000000000000555]\n"
     ]
    }
   ],
   "source": [
    "x = iv.mpf(['-0.1', '0.1'])\n",
    "print(x)\n"
   ]
  },
  {
   "cell_type": "code",
   "execution_count": 67,
   "metadata": {},
   "outputs": [
    {
     "name": "stdout",
     "output_type": "stream",
     "text": [
      "[-0.099833416646828168628, 0.099833416646828168628]\n",
      "[0.99500416527802570954, 1.0]\n"
     ]
    }
   ],
   "source": [
    "print(iv.sin(x))\n",
    "print(iv.cos(x))"
   ]
  },
  {
   "cell_type": "code",
   "execution_count": 68,
   "metadata": {},
   "outputs": [],
   "source": [
    "del x"
   ]
  },
  {
   "cell_type": "markdown",
   "metadata": {
    "tags": []
   },
   "source": [
    "# Work"
   ]
  },
  {
   "cell_type": "markdown",
   "metadata": {},
   "source": [
    "## Clements Decomposition"
   ]
  },
  {
   "cell_type": "code",
   "execution_count": 418,
   "metadata": {},
   "outputs": [],
   "source": [
    "from numpy import cos, sin, exp"
   ]
  },
  {
   "cell_type": "code",
   "execution_count": 419,
   "metadata": {},
   "outputs": [],
   "source": [
    "np.set_printoptions(edgeitems=30, linewidth=100000,\n",
    "                    formatter=dict(float=lambda x: \"%.2g\" % x))"
   ]
  },
  {
   "cell_type": "markdown",
   "metadata": {},
   "source": [
    "### Unitary Matrix Generation"
   ]
  },
  {
   "cell_type": "code",
   "execution_count": 383,
   "metadata": {},
   "outputs": [],
   "source": [
    "def isPassive(M, verbose=False):\n",
    "    Im = np.identity(M.shape[0])\n",
    "    TH = np.conj(M.T)\n",
    "    eigVals = np.linalg.eigvals(Im - TH @ M).real\n",
    "    if verbose:\n",
    "        print(eigVals)\n",
    "    isPassive = np.alltrue(eigVals >= -1e-12)\n",
    "    return isPassive"
   ]
  },
  {
   "cell_type": "code",
   "execution_count": 384,
   "metadata": {},
   "outputs": [
    {
     "data": {
      "text/plain": [
       "True"
      ]
     },
     "execution_count": 384,
     "metadata": {},
     "output_type": "execute_result"
    }
   ],
   "source": [
    "testM = np.identity(5, dtype='complex')\n",
    "isPassive(testM)"
   ]
  },
  {
   "cell_type": "code",
   "execution_count": 391,
   "metadata": {},
   "outputs": [],
   "source": [
    "def getRandomUnitaryMatrix(n=5, verbose=False):\n",
    "    rMat = RandomComplexCircularMatrix(1, (n, n))\n",
    "    # print(rMat)\n",
    "    U, Svec, Vh = np.linalg.svd(rMat, full_matrices=True)\n",
    "    S = np.diag(Svec)\n",
    "    recovery = U @ S @ Vh\n",
    "    if verbose:\n",
    "        print(\"Successful SVD Decomposition:\", np.allclose(recovery, rMat))\n",
    "    M = U @ Vh\n",
    "    return M"
   ]
  },
  {
   "cell_type": "code",
   "execution_count": 392,
   "metadata": {},
   "outputs": [],
   "source": [
    "U = getRandomUnitaryMatrix(n=5)"
   ]
  },
  {
   "cell_type": "markdown",
   "metadata": {},
   "source": [
    "### Mixer"
   ]
  },
  {
   "cell_type": "code",
   "execution_count": 497,
   "metadata": {},
   "outputs": [],
   "source": [
    "class Mixer:\n",
    "    pass"
   ]
  },
  {
   "cell_type": "code",
   "execution_count": 498,
   "metadata": {},
   "outputs": [],
   "source": [
    "def __init__(self, theta_phi, lines):\n",
    "    self.theta = theta_phi[0]\n",
    "    self.phi = theta_phi[1]\n",
    "    self.lines = lines\n",
    "    \n",
    "setattr(Mixer, \"__init__\", __init__)"
   ]
  },
  {
   "cell_type": "code",
   "execution_count": 499,
   "metadata": {},
   "outputs": [],
   "source": [
    "def M(self):\n",
    "    a = [[ exp(I*self.phi) * cos(self.theta), -sin(self.theta)], \n",
    "         [ exp(I*self.phi) * sin(self.theta),  cos(self.theta)]]\n",
    "    return np.array(a)\n",
    "\n",
    "setattr(Mixer, \"M\", M)"
   ]
  },
  {
   "cell_type": "code",
   "execution_count": 500,
   "metadata": {},
   "outputs": [],
   "source": [
    "def Minv(self):\n",
    "    a = [[ exp(-I*self.phi) * cos(self.theta),  exp(-I*self.phi) * sin(self.theta)], \n",
    "         [                   -sin(self.theta),                     cos(self.theta)]]\n",
    "    return np.array(a)\n",
    "\n",
    "setattr(Mixer, \"Minv\", Minv)"
   ]
  },
  {
   "cell_type": "code",
   "execution_count": 501,
   "metadata": {},
   "outputs": [],
   "source": [
    "def T(self, N, lines):\n",
    "    T = np.identity(N, dtype='complex')\n",
    "    a = self.M()\n",
    "    m,n = lines\n",
    "    T[m, m] = a[0,0]\n",
    "    T[m, n] = a[0,1]\n",
    "    T[n, m] = a[1,0]\n",
    "    T[n, n] = a[1,1]\n",
    "    return T\n",
    "\n",
    "setattr(Mixer, \"T\", T)"
   ]
  },
  {
   "cell_type": "code",
   "execution_count": 505,
   "metadata": {},
   "outputs": [],
   "source": [
    "def Tinv(self, N, lines):\n",
    "    T = np.identity(N, dtype='complex')\n",
    "    a = self.Minv()\n",
    "    m,n = lines\n",
    "    T[m, m] = a[0,0]\n",
    "    T[m, n] = a[0,1]\n",
    "    T[n, m] = a[1,0]\n",
    "    T[n, n] = a[1,1]\n",
    "    return T\n",
    "\n",
    "setattr(Mixer, \"Tinv\", Tinv)"
   ]
  },
  {
   "cell_type": "code",
   "execution_count": 506,
   "metadata": {},
   "outputs": [],
   "source": [
    "mixer = Mixer(theta_phi=(0.2*pi, 0.3*pi), lines=(0, 1))"
   ]
  },
  {
   "cell_type": "code",
   "execution_count": 507,
   "metadata": {},
   "outputs": [
    {
     "data": {
      "text/plain": [
       "array([[ 0.47552826+0.6545085j , -0.58778525+0.j        ],\n",
       "       [ 0.3454915 +0.47552826j,  0.80901699+0.j        ]])"
      ]
     },
     "execution_count": 507,
     "metadata": {},
     "output_type": "execute_result"
    }
   ],
   "source": [
    "mixer.T(N=2, lines=(0,1))"
   ]
  },
  {
   "cell_type": "markdown",
   "metadata": {},
   "source": [
    "### Mesh"
   ]
  },
  {
   "cell_type": "code",
   "execution_count": 401,
   "metadata": {},
   "outputs": [],
   "source": [
    "def EvenQ(n):\n",
    "    return(n%2==0)\n",
    "def OddQ(n):\n",
    "    return(n%2==1)    "
   ]
  },
  {
   "cell_type": "code",
   "execution_count": 402,
   "metadata": {},
   "outputs": [
    {
     "data": {
      "text/plain": [
       "4"
      ]
     },
     "execution_count": 402,
     "metadata": {},
     "output_type": "execute_result"
    }
   ],
   "source": [
    "def computeNLayers(evenCount, oddCount, totCount):\n",
    "    if totCount == 1:\n",
    "        return 1\n",
    "    comboCount = evenCount + oddCount\n",
    "    nComboLayers = totCount//comboCount\n",
    "    if nComboLayers*comboCount == totCount:\n",
    "        return 2*nComboLayers\n",
    "    else:\n",
    "        return 2*nComboLayers + 1\n",
    "\n",
    "computeNLayers(evenCount=2, oddCount=1, totCount=6)\n"
   ]
  },
  {
   "cell_type": "code",
   "execution_count": 403,
   "metadata": {},
   "outputs": [],
   "source": [
    "def generateDeviceLabels(kernelSize, mixerLabel='m', thruLabel='t', verbose=False):\n",
    "    NN = kernelSize\n",
    "    evenCount = NN//2\n",
    "    oddCount = (NN-1)//2\n",
    "    if verbose: print(\"NN:\", NN)\n",
    "    nMixers = NN*(NN-1)//2\n",
    "    if verbose: print(\"nDOFs:\", nMixers)\n",
    "    if verbose: print(\"evenCounts:\", evenCount, \"\\toddCounts:\", oddCount)\n",
    "    nLayers = computeNLayers(evenCount, oddCount, nMixers)\n",
    "    if verbose: print(\"nLayers:\", nLayers)\n",
    "    mixers = []\n",
    "    thrus = []\n",
    "    (i, j) = (0, 0)\n",
    "    while i < nLayers:\n",
    "        oddLayer = (i%2 == 1)\n",
    "        if (j == 0 and oddLayer) or (j == NN - 1):\n",
    "            thrus.append((thruLabel, i, j))\n",
    "            j += 1\n",
    "        else:\n",
    "            mixers.append((mixerLabel, i, j))\n",
    "            j += 2\n",
    "        if j >= NN:\n",
    "            j = 0\n",
    "            i += 1\n",
    "    if verbose: print(\"mixers:\", mixers)\n",
    "    if verbose: print(\"thrus:\", thrus)\n",
    "    return (mixers, thrus)"
   ]
  },
  {
   "cell_type": "code",
   "execution_count": 404,
   "metadata": {},
   "outputs": [
    {
     "name": "stdout",
     "output_type": "stream",
     "text": [
      "NN: 5\n",
      "nDOFs: 10\n",
      "evenCounts: 2 \toddCounts: 2\n",
      "nLayers: 5\n",
      "mixers: [('m', 0, 0), ('m', 0, 2), ('m', 1, 1), ('m', 1, 3), ('m', 2, 0), ('m', 2, 2), ('m', 3, 1), ('m', 3, 3), ('m', 4, 0), ('m', 4, 2)]\n",
      "thrus: [('t', 0, 4), ('t', 1, 0), ('t', 2, 4), ('t', 3, 0), ('t', 4, 4)]\n"
     ]
    }
   ],
   "source": [
    "mLabels, tLabels = generateDeviceLabels(kernelSize=5, mixerLabel='m', thruLabel='t', verbose=True)"
   ]
  },
  {
   "cell_type": "code",
   "execution_count": 405,
   "metadata": {},
   "outputs": [
    {
     "name": "stdout",
     "output_type": "stream",
     "text": [
      "2 1\n",
      "3 3\n",
      "4 4\n",
      "5 5\n",
      "6 6\n",
      "7 7\n",
      "8 8\n",
      "9 9\n"
     ]
    }
   ],
   "source": [
    "for NN in range(2,10):\n",
    "    evenCount = NN//2\n",
    "    oddCount = (NN-1)//2\n",
    "    nMixers = NN*(NN-1)//2\n",
    "    nLayers = computeNLayers(evenCount, oddCount, nMixers)\n",
    "    print(NN, nLayers)"
   ]
  },
  {
   "cell_type": "code",
   "execution_count": 406,
   "metadata": {},
   "outputs": [],
   "source": [
    "def generateDeviceLabels2(kernelSize, mixerLabel='m', thruLabel='t', verbose=False):\n",
    "    NN = kernelSize\n",
    "    orderedLabels = []\n",
    "    for i in range(NN-1):\n",
    "        diagList = []\n",
    "        for j in range(i+1):\n",
    "            if EvenQ(i):\n",
    "                label = (mixerLabel, j, i - j)\n",
    "            else:\n",
    "                label = (mixerLabel, NN - j - 1, NN - (i - j) - 2)\n",
    "            diagList.append(label)\n",
    "        orderedLabels.append(diagList)\n",
    "    return orderedLabels"
   ]
  },
  {
   "cell_type": "code",
   "execution_count": 407,
   "metadata": {},
   "outputs": [
    {
     "data": {
      "text/plain": [
       "[[('m', 0, 0)],\n",
       " [('m', 5, 3), ('m', 4, 4)],\n",
       " [('m', 0, 2), ('m', 1, 1), ('m', 2, 0)],\n",
       " [('m', 5, 1), ('m', 4, 2), ('m', 3, 3), ('m', 2, 4)],\n",
       " [('m', 0, 4), ('m', 1, 3), ('m', 2, 2), ('m', 3, 1), ('m', 4, 0)]]"
      ]
     },
     "execution_count": 407,
     "metadata": {},
     "output_type": "execute_result"
    }
   ],
   "source": [
    "generateDeviceLabels2(6, mixerLabel='m', thruLabel='t', verbose=False)"
   ]
  },
  {
   "cell_type": "code",
   "execution_count": 246,
   "metadata": {},
   "outputs": [
    {
     "name": "stdout",
     "output_type": "stream",
     "text": [
      "10.0\n"
     ]
    }
   ],
   "source": [
    "NN = 5\n",
    "DOFs = NN*(NN-1)/2\n",
    "print(DOFs)"
   ]
  },
  {
   "cell_type": "markdown",
   "metadata": {},
   "source": [
    "### Sample Problem"
   ]
  },
  {
   "cell_type": "code",
   "execution_count": 508,
   "metadata": {},
   "outputs": [],
   "source": [
    "U = getRandomUnitaryMatrix(n=2)"
   ]
  },
  {
   "cell_type": "code",
   "execution_count": 509,
   "metadata": {},
   "outputs": [],
   "source": [
    "mixer1 = Mixer((0.2*pi, 0.3*pi), (0,1))"
   ]
  },
  {
   "cell_type": "code",
   "execution_count": 510,
   "metadata": {},
   "outputs": [],
   "source": [
    "import sympy as sp"
   ]
  },
  {
   "cell_type": "code",
   "execution_count": 511,
   "metadata": {},
   "outputs": [],
   "source": [
    "theta, phi = sp.symbols('theta, phi')"
   ]
  },
  {
   "cell_type": "code",
   "execution_count": 512,
   "metadata": {},
   "outputs": [],
   "source": [
    "# mixer1.theta = theta\n",
    "# mixer1.phi = phi"
   ]
  },
  {
   "cell_type": "code",
   "execution_count": 513,
   "metadata": {},
   "outputs": [],
   "source": [
    "from scipy.optimize import minimize"
   ]
  },
  {
   "cell_type": "code",
   "execution_count": 516,
   "metadata": {},
   "outputs": [],
   "source": [
    "def f(X, matrixProduct, mixer, ):\n",
    "    mixer1.theta, mixer1.phi = X\n",
    "    Ttot = U@(mixer1.Tinv(N=2, lines=(0,1)))\n",
    "    return np.abs(Ttot[0,1])\n"
   ]
  },
  {
   "cell_type": "code",
   "execution_count": 517,
   "metadata": {},
   "outputs": [],
   "source": [
    "sol = minimize(f, [0,0])\n",
    "mixer1.theta, mixer1.phi = sol.x"
   ]
  },
  {
   "cell_type": "code",
   "execution_count": 521,
   "metadata": {},
   "outputs": [
    {
     "data": {
      "text/plain": [
       "array([[ 9.74858101e-01-2.22826574e-01j,  9.98716720e-10-4.70063433e-10j],\n",
       "       [ 8.96188346e-10+6.44391762e-10j, -9.17839387e-01-3.96951962e-01j]])"
      ]
     },
     "execution_count": 521,
     "metadata": {},
     "output_type": "execute_result"
    }
   ],
   "source": [
    "U@(mixer1.Tinv(N=2, lines=(0,1)))"
   ]
  },
  {
   "cell_type": "code",
   "execution_count": 522,
   "metadata": {},
   "outputs": [
    {
     "data": {
      "text/plain": [
       "array([[ 0.38314995+0.10215027j,  0.89493962-0.20455934j],\n",
       "       [ 0.57534654+0.71535851j, -0.36395377-0.15740462j]])"
      ]
     },
     "execution_count": 522,
     "metadata": {},
     "output_type": "execute_result"
    }
   ],
   "source": [
    "U"
   ]
  },
  {
   "cell_type": "code",
   "execution_count": 524,
   "metadata": {},
   "outputs": [
    {
     "data": {
      "text/plain": [
       "array([[ 0.9748581 -0.22282657j,  0.9748581 -0.22282657j],\n",
       "       [-0.91783939-0.39695196j, -0.91783938-0.39695196j]])"
      ]
     },
     "execution_count": 524,
     "metadata": {},
     "output_type": "execute_result"
    }
   ],
   "source": [
    "U/(mixer1.T(N=2, lines=(0,1)))"
   ]
  },
  {
   "cell_type": "code",
   "execution_count": 492,
   "metadata": {},
   "outputs": [
    {
     "data": {
      "text/plain": [
       "array([[ 0.10547923-0.07070797j, -0.01067749+0.1210356j ],\n",
       "       [ 0.8076702 -0.04340566j,  0.49448906-0.68559704j]])"
      ]
     },
     "execution_count": 492,
     "metadata": {},
     "output_type": "execute_result"
    }
   ],
   "source": [
    "mixer1.T(N=2)"
   ]
  },
  {
   "cell_type": "code",
   "execution_count": null,
   "metadata": {},
   "outputs": [],
   "source": []
  }
 ],
 "metadata": {
  "interpreter": {
   "hash": "172a64f8fbf5e912fff9df3bb5ed396635f932701996a7224f71e02466f142fe"
  },
  "kernelspec": {
   "display_name": "Python 3.9.4 64-bit ('jupyterlab': conda)",
   "name": "python3"
  },
  "language_info": {
   "codemirror_mode": {
    "name": "ipython",
    "version": 3
   },
   "file_extension": ".py",
   "mimetype": "text/x-python",
   "name": "python",
   "nbconvert_exporter": "python",
   "pygments_lexer": "ipython3",
   "version": "3.9.4"
  },
  "toc-autonumbering": false,
  "toc-showcode": false,
  "toc-showmarkdowntxt": false,
  "toc-showtags": true
 },
 "nbformat": 4,
 "nbformat_minor": 4
}
